{
 "cells": [
  {
   "cell_type": "markdown",
   "id": "ce7aa99b-d8c4-4965-b50c-89593172c30b",
   "metadata": {},
   "source": [
    "# What are Word Embeddings?"
   ]
  },
  {
   "cell_type": "markdown",
   "id": "77557536-3eb5-4475-be1b-c5e362cdce5c",
   "metadata": {},
   "source": [
    "*\"We find that these representations are surprisingly good at capturing syntactic and semantic regularities in language, and that each relationship is characterized by a relation-specific vector offset. This allows vector-oriented reasoning based on the offsets between words. For example, the male/female relationship is automatically learned, and with the induced vector representations, 'King – Man + Woman' results in a vector very close to 'Queen.'\"*\n",
    "- Mikolov, T., Yih, W.T. and Zweig, G., 2013, June. Linguistic regularities in continuous space word representations. In Proceedings of the 2013 conference of the north american chapter of the association for computational linguistics: Human language technologies (pp. 746-751)."
   ]
  },
  {
   "cell_type": "markdown",
   "id": "caba82f3-026a-4393-927f-276b7c9431f4",
   "metadata": {},
   "source": [
    "Word embeddings are:\n",
    "- Representation of words in the form of a real-valued vector.\n",
    "- Vector encodes the meaning of the word - the words that are closer in the vector space are expected to be similar in meaning.\n",
    "- Multiple methods to generate this mapping (e.g. neural networks, dimensionality reduction on the word co-occurrence matrix, probabilistic models)."
   ]
  },
  {
   "cell_type": "code",
   "execution_count": null,
   "id": "0748727e-bcf9-4a34-8e91-71a7dccca0bd",
   "metadata": {},
   "outputs": [],
   "source": []
  }
 ],
 "metadata": {
  "kernelspec": {
   "display_name": "Python 3 (ipykernel)",
   "language": "python",
   "name": "python3"
  },
  "language_info": {
   "codemirror_mode": {
    "name": "ipython",
    "version": 3
   },
   "file_extension": ".py",
   "mimetype": "text/x-python",
   "name": "python",
   "nbconvert_exporter": "python",
   "pygments_lexer": "ipython3",
   "version": "3.8.10"
  }
 },
 "nbformat": 4,
 "nbformat_minor": 5
}
