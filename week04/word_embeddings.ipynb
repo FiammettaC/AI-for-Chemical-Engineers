{
 "cells": [
  {
   "cell_type": "markdown",
   "id": "ce7aa99b-d8c4-4965-b50c-89593172c30b",
   "metadata": {},
   "source": [
    "# What are Word Embeddings?"
   ]
  },
  {
   "cell_type": "markdown",
   "id": "77557536-3eb5-4475-be1b-c5e362cdce5c",
   "metadata": {},
   "source": [
    "*\"A word is characterized by the company it keeps\"* - John Rupert Firth"
   ]
  },
  {
   "cell_type": "markdown",
   "id": "e978228f-b7bf-4680-8a3b-750eabcf9a10",
   "metadata": {},
   "source": [
    "Word embeddings are:\n",
    "- Representation of words in the form of a real-valued vector.\n",
    "- Vector encodes the meaning of the word - the words that are closer in the vector space are expected to be similar in meaning.\n",
    "- Multiple methods to generate this mapping (e.g. neural networks, dimensionality reduction on the word co-occurrence matrix, probabilistic models)."
   ]
  },
  {
   "cell_type": "markdown",
   "id": "a0e93f61-a878-4822-b8ba-93dbb29ad1c4",
   "metadata": {},
   "source": [
    "## A short history of word embeddings"
   ]
  },
  {
   "cell_type": "markdown",
   "id": "d3445691-98a7-4e00-ae21-1761fee8f076",
   "metadata": {},
   "source": [
    "## Word embeddings"
   ]
  },
  {
   "cell_type": "markdown",
   "id": "d3b7b11d-1e9a-4093-87f8-ed24d64456d3",
   "metadata": {},
   "source": [
    "### word2vec\n",
    "*\"We find that these representations are surprisingly good at capturing syntactic and semantic regularities in language, and that each relationship is characterized by a relation-specific vector offset. This allows vector-oriented reasoning based on the offsets between words. For example, the male/female relationship is automatically learned, and with the induced vector representations, 'King – Man + Woman' results in a vector very close to 'Queen.'\"*\n",
    "- Mikolov, T., Yih, W.T. and Zweig, G., 2013, June. Linguistic regularities in continuous space word representations. In Proceedings of the 2013 conference of the north american chapter of the association for computational linguistics: Human language technologies (pp. 746-751)."
   ]
  },
  {
   "cell_type": "markdown",
   "id": "74e68af9-5acb-4668-8031-b67b48001335",
   "metadata": {},
   "source": [
    "Here, we will use the Gensim implementation of word2vec.\n",
    "You can find the documentation [here](https://radimrehurek.com/gensim/models/word2vec.html)."
   ]
  },
  {
   "cell_type": "code",
   "execution_count": 26,
   "id": "0d95097d-4bb7-478f-b38c-4acea4193336",
   "metadata": {},
   "outputs": [
    {
     "name": "stdout",
     "output_type": "stream",
     "text": [
      "The most similar words to our query word 'computer' are: [('interface', 0.18933436274528503), ('trees', 0.1504059135913849), ('time', 0.10774273425340652), ('system', 0.08256977796554565), ('human', 0.07860937714576721)]\n"
     ]
    }
   ],
   "source": [
    "from gensim.test.utils import common_texts\n",
    "from gensim.models import Word2Vec\n",
    "\n",
    "model = Word2Vec(sentences=common_texts, window=5, min_count=1, workers=4)\n",
    "\n",
    "vector = model.wv['computer']  # get numpy vector of a word\n",
    "sims = model.wv.most_similar('computer', topn=5)\n",
    "\n",
    "print(f\"The most similar words to our query word 'computer' are: {sims}\")"
   ]
  },
  {
   "cell_type": "markdown",
   "id": "31a3b0ec-eccf-4796-b837-062d3c0116f8",
   "metadata": {},
   "source": [
    "If a word is out-of-vocabulary, we can save the model and keep training it."
   ]
  },
  {
   "cell_type": "code",
   "execution_count": 12,
   "id": "fbb30773-83f4-4fc7-a0fd-7d1e1b2ee61d",
   "metadata": {},
   "outputs": [],
   "source": [
    "sentences = [['engineering', 'enzyme']]\n",
    "# train model\n",
    "model_eng = Word2Vec(sentences, min_count=1)\n",
    "vector = model_eng.wv['engineering']"
   ]
  },
  {
   "cell_type": "markdown",
   "id": "f463e836-0be1-4efc-ab18-bcf7e8a104f7",
   "metadata": {},
   "source": [
    "Let's plot the word vectors!"
   ]
  },
  {
   "cell_type": "code",
   "execution_count": 23,
   "id": "7a298fca-c069-40d0-a216-d681694de5cd",
   "metadata": {},
   "outputs": [
    {
     "name": "stderr",
     "output_type": "stream",
     "text": [
      "C:\\Users\\fiacac\\AppData\\Local\\Temp/ipykernel_35776/2860803289.py:6: DeprecationWarning: Call to deprecated `__getitem__` (Method will be removed in 4.0.0, use self.wv.__getitem__() instead).\n",
      "  X = model[model.wv.vocab]\n"
     ]
    },
    {
     "data": {
      "image/png": "[encoded data removed]",
      "text/plain": [
       "<Figure size 504x360 with 1 Axes>"
      ]
     },
     "metadata": {
      "needs_background": "light"
     },
     "output_type": "display_data"
    }
   ],
   "source": [
    "from gensim.models import Word2Vec\n",
    "from sklearn.decomposition import PCA\n",
    "import matplotlib.pyplot as plt\n",
    "\n",
    "# Fit a 2d PCA model to the vectors\n",
    "X = model[model.wv.vocab]\n",
    "pca = PCA(n_components=2)\n",
    "result = pca.fit_transform(X)\n",
    "\n",
    "# Create a scatter plot of the projection\n",
    "plt.figure(figsize=(7, 5))\n",
    "plt.scatter(result[:, 0], result[:, 1], color='green', alpha=0.75)\n",
    "words = list(model.wv.vocab)\n",
    "for i, word in enumerate(words):\n",
    "    plt.annotate(word, xy=(result[i, 0], result[i, 1]))\n",
    "plt.xlabel(\"1st Principal Component\")\n",
    "plt.ylabel(\"2nd Principal Component\")\n",
    "plt.show()"
   ]
  },
  {
   "cell_type": "markdown",
   "id": "49ba46ba-e890-4f4e-bc07-33b02dedf9f2",
   "metadata": {},
   "source": [
    "If you want a more interactive visualization, you can save the vectors and relative labels and upload them in the [Tensorflow Embedding Projector](https://projector.tensorflow.org/), so that you can spin them around and use different dimansionality reduction methods, such as T-SNE, U-MAP or a custom one."
   ]
  },
  {
   "cell_type": "markdown",
   "id": "e761d3d6-5839-4585-b436-840201839260",
   "metadata": {},
   "source": [
    "### fasttext"
   ]
  },
  {
   "cell_type": "markdown",
   "id": "aabf3170-f39d-4e26-a7a3-f72a1cfdfd79",
   "metadata": {},
   "source": [
    "You can find the official documentation [here](https://fasttext.cc/docs/en/support.html).\n",
    "\n",
    "There, you can find different tutorials, such as for [text classification](https://fasttext.cc/docs/en/supervised-tutorial.html) and for [word representation](https://fasttext.cc/docs/en/unsupervised-tutorial.html). The tutorials are very intuitive, so we will not break down the code here, but you are welcome to reach out to us in case you had any doubts or wanted to explore further use cases."
   ]
  },
  {
   "cell_type": "markdown",
   "id": "53e600a6-164e-4f6f-8e7c-009121c2177a",
   "metadata": {},
   "source": [
    "## Contextual Embeddings"
   ]
  },
  {
   "cell_type": "markdown",
   "id": "b83465b0-0b5b-4791-bfe0-6d2b92505825",
   "metadata": {},
   "source": [
    "Although approaches such as word2vec have revolutionized NLP practice, they have some limitation: the learned vectors are unique per word, meaning that the word *\"batch\"*, although might have different meanings, has only one embedding. "
   ]
  },
  {
   "cell_type": "markdown",
   "id": "3e53ad43-efe0-440a-94fb-a8cd2b7b7c5d",
   "metadata": {},
   "source": [
    "In this example, we will use [BERT](https://arxiv.org/abs/1810.04805).\n",
    "Please consider taking some time to read the paper and understand its impact on the field.\n",
    "\n",
    "Now, we can look at an example of how to extract word vectors with BERT.\n",
    "The following code is inspired by this [tutorial](https://medium.com/mlearning-ai/getting-contextualized-word-embeddings-with-bert-20798d8b43a4)."
   ]
  },
  {
   "cell_type": "code",
   "execution_count": 30,
   "id": "35e4109e-541f-49c8-b934-4c35e07b763c",
   "metadata": {},
   "outputs": [],
   "source": [
    "from transformers import BertModel, BertTokenizer\n",
    "\n",
    "# First, we load the pre-trained model and tokenizer\n",
    "model = BertModel.from_pretrained('bert-base-uncased', output_hidden_states=True,)\n",
    "tokenizer = BertTokenizer.from_pretrained('bert-base-uncased')"
   ]
  },
  {
   "cell_type": "code",
   "execution_count": 30,
   "id": "7413f165-1387-4fa9-a140-306b46bc18b5",
   "metadata": {},
   "outputs": [],
   "source": [
    "def bert_text_preparation(text, tokenizer):\n",
    "    \"\"\"\n",
    "    Preprocesses text input in a way that BERT can interpret.\n",
    "    \"\"\"\n",
    "    marked_text = \"[CLS] \" + text + \" [SEP]\"\n",
    "    tokenized_text = tokenizer.tokenize(marked_text)\n",
    "    indexed_tokens = tokenizer.convert_tokens_to_ids(tokenized_text)\n",
    "    segments_ids = [1]*len(indexed_tokens)\n",
    "    # convert inputs to tensors\n",
    "    tokens_tensor = torch.tensor([indexed_tokens])\n",
    "    segments_tensor = torch.tensor([segments_ids])\n",
    "    return tokenized_text, tokens_tensor, segments_tensor\n",
    "\n",
    "def get_bert_embeddings(tokens_tensor, segments_tensor, model):\n",
    "    \"\"\"\n",
    "    Obtains BERT embeddings for tokens.\n",
    "    \"\"\"\n",
    "    # gradient calculation id disabled\n",
    "    with torch.no_grad():\n",
    "        # obtain hidden states\n",
    "        outputs = model(tokens_tensor, segments_tensor)\n",
    "        hidden_states = outputs[2]\n",
    "    # concatenate the tensors for all layers\n",
    "    # use \"stack\" to create new dimension in tensor\n",
    "    token_embeddings = torch.stack(hidden_states, dim=0)\n",
    "    # remove dimension 1, the \"batches\"\n",
    "    token_embeddings = torch.squeeze(token_embeddings, dim=1)\n",
    "    # swap dimensions 0 and 1 so we can loop over tokens\n",
    "    token_embeddings = token_embeddings.permute(1,0,2)\n",
    "    # intialized list to store embeddings\n",
    "    token_vecs_sum = []\n",
    "    # \"token_embeddings\" is a [Y x 12 x 768] tensor\n",
    "    # where Y is the number of tokens in the sentence\n",
    "    # loop over tokens in sentence\n",
    "    for token in token_embeddings:\n",
    "    # \"token\" is a [12 x 768] tensor\n",
    "    # sum the vectors from the last four layers\n",
    "        sum_vec = torch.sum(token[-4:], dim=0)\n",
    "        token_vecs_sum.append(sum_vec)\n",
    "    return token_vecs_sum"
   ]
  },
  {
   "cell_type": "markdown",
   "id": "52f946f4-c017-4374-8dda-4826afdb544e",
   "metadata": {},
   "source": [
    "Now let's define some sentences that contain the word \"batch\" with can assume various meaning according to the context its used in."
   ]
  },
  {
   "cell_type": "code",
   "execution_count": 35,
   "id": "a647e80e-488d-4610-99f5-3bb076e2d4ca",
   "metadata": {},
   "outputs": [],
   "source": [
    "from collections import OrderedDict\n",
    "\n",
    "sentences = [\"batch\",\n",
    "         \"the experiment ran for 12 batches.\",\n",
    "         \"to train the machine learning model, the dataset should be split into batches.\",\n",
    "         \"The cook brought in a fresh batch of homemade cupcakes.\",\n",
    "         \"We looked at the job applications in two batches.\",\n",
    "         \"Batch processes are used for manufacturing higher value products, such as specialty chemicals, pharmaceuticals and structured products\",\n",
    "         \"Batch processes are used widely in the chemical, biochemical materials, pharmaceutical and agricultural industries.\",\n",
    "         \"A batch operation is one in which the operating conditions change over time.\",\n",
    "         \"A batch operation is performed in a system where all necessary medium components and the inoculum are added at the beginning of the culture.\",\n",
    "         \"Batch size is a term used in machine learning and refers to the number of training examples utilised in one iteration.\",\n",
    "         \"batch mode: where the batch size is equal to the total dataset thus making the iteration and epoch values equivalent.\",\n",
    "         \"mini-batch mode: where the batch size is greater than one but less than the total dataset size. Usually, a number that can be divided into the total dataset size.\",\n",
    "         \"tochastic mode: where the batch size is equal to one. Therefore the gradient and the neural network parameters are updated after each sample..\"\n",
    "         ]\n",
    "\n",
    "context_embeddings = []\n",
    "context_tokens = []\n",
    "for sentence in sentences:\n",
    "    tokenized_text, tokens_tensor, segments_tensors = bert_text_preparation(sentence, tokenizer)\n",
    "    list_token_embeddings = get_bert_embeddings(tokens_tensor, segments_tensors, model)\n",
    "    # make ordered dictionary to keep track of the position of each word\n",
    "    tokens = OrderedDict()\n",
    "    # loop over tokens in sensitive sentence\n",
    "    for token in tokenized_text[1:-1]:\n",
    "    # keep track of position of word and whether it occurs multiple times\n",
    "        if token in tokens:\n",
    "            tokens[token] += 1\n",
    "        else:\n",
    "            tokens[token] = 1\n",
    "        # compute the position of the current token\n",
    "        token_indices = [i for i, t in enumerate(tokenized_text) if t == token]\n",
    "        current_index = token_indices[tokens[token]-1]\n",
    "        # get the corresponding embedding\n",
    "        token_vec = list_token_embeddings[current_index]\n",
    "\n",
    "        # save values\n",
    "        context_tokens.append(token)\n",
    "        context_embeddings.append(token_vec)"
   ]
  },
  {
   "cell_type": "markdown",
   "id": "96f14ace-298e-4918-a243-d4342c554f28",
   "metadata": {},
   "source": [
    "## Sentence embeddings"
   ]
  },
  {
   "cell_type": "markdown",
   "id": "c630479c-1014-4417-8451-af0564ebbfad",
   "metadata": {},
   "source": [
    "Probably in many cases, word embeddings are not enough to create a representation of your text, since documents are often long and elaborate. There are already implemented methods to convert sentences into vectors, such as the [Sentence Transformer](https://www.sbert.net/).\n",
    "\n",
    "Let's see how to use this model."
   ]
  },
  {
   "cell_type": "code",
   "execution_count": 3,
   "id": "3bca2837-39e9-4a22-b784-1da99ec3593a",
   "metadata": {},
   "outputs": [],
   "source": [
    "from sentence_transformers import SentenceTransformer, util\n",
    "model = SentenceTransformer('sentence-transformers/all-MiniLM-L6-v2')\n",
    "\n",
    "with open('chemical_engineering.txt', 'r') as f:\n",
    "    file = (f.readlines())"
   ]
  },
  {
   "cell_type": "code",
   "execution_count": 34,
   "id": "e532daeb-86de-4650-9af5-bc159c1ec54b",
   "metadata": {
    "scrolled": true,
    "tags": []
   },
   "outputs": [],
   "source": [
    "sentence = ''.join(file[0].split('.')[2:3])\n",
    "vector = model.encode(sentence, convert_to_tensor=True)\n",
    "\n",
    "# Uncomment below to print the sentence, its sentence embedding and the shape oof the embedding\n",
    "#print(f\"This is the original sentence: {sentence}\")\n",
    "#print(f\"The sentence was converted to this vector: {vector}\")\n",
    "#print(f\"The shape of the sentence embedding is: {vector.shape[0]} dimensions\")"
   ]
  },
  {
   "cell_type": "markdown",
   "id": "9fc2eb02-00d9-4061-922e-05f3a21effef",
   "metadata": {},
   "source": [
    "### Operations with word (or sentence) embeddings"
   ]
  },
  {
   "cell_type": "markdown",
   "id": "082cdff6-c7c8-4fdc-a27a-284666894d92",
   "metadata": {},
   "source": [
    "Now, we could for example use the vector for calculate the cosine similarity between sentences."
   ]
  },
  {
   "cell_type": "code",
   "execution_count": 32,
   "id": "3141c162-1b8b-4f85-81ea-0568554f7f71",
   "metadata": {},
   "outputs": [
    {
     "name": "stdout",
     "output_type": "stream",
     "text": [
      "Highest cosine similarity between the first sentence and the other: 82\n",
      "Index of the most similar sentence: 3\n"
     ]
    }
   ],
   "source": [
    "import numpy as np\n",
    "\n",
    "# Let's first create a list of sentences\n",
    "list_sentences = file[0].split('.')\n",
    "\n",
    "# Create an empty list where we will store the similarity scores\n",
    "list_similarities = []\n",
    "for sent1 in list_sentences[0:1]:\n",
    "    embedding_1 = model.encode(sent1, convert_to_tensor=True)\n",
    "    for sent2 in list_sentences[1:]:\n",
    "        embedding_2 = model.encode(sent2, convert_to_tensor=True)\n",
    "        # Similarity of two sentences\n",
    "        similarity = util.pytorch_cos_sim(embedding_1, embedding_2)[0].numpy()\n",
    "        sim = round(similarity[0]*100)\n",
    "        list_similarities.append(sim)  \n",
    "\n",
    "print(f\"Highest cosine similarity between the first sentence and the other: {np.max(list_similarities)}\")\n",
    "print(f\"Index of the most similar sentence: {list_similarities.index(np.max(list_similarities))}\")"
   ]
  },
  {
   "cell_type": "markdown",
   "id": "164a3a98-6b0e-44c0-a0fb-585a111468b5",
   "metadata": {},
   "source": [
    "## Nice to know and additional resources"
   ]
  },
  {
   "cell_type": "markdown",
   "id": "9e0b6baf-03a1-495b-a568-03e315467d16",
   "metadata": {},
   "source": [
    "### NLP Holy Grail\n",
    "\n",
    "If you are looking for a complete, practical, \"from zero to hero\" book on NLP, we recommend [Speech and Language Processing by Jurafsky and Martin](https://web.stanford.edu/~jurafsky/slp3/)."
   ]
  },
  {
   "cell_type": "markdown",
   "id": "d932e3c3-1c1c-42b5-bd90-94a33fae8474",
   "metadata": {},
   "source": [
    "### Multilingual embeddings"
   ]
  },
  {
   "cell_type": "markdown",
   "id": "f92f6469-c5de-4a31-a9a3-bb80f8de8cff",
   "metadata": {},
   "source": [
    "Documents are often multilingual, and therefore models have to adapt to this need.\n",
    "\n",
    "Hugging Face has a collection of multilingual models available [here](https://huggingface.co/docs/transformers/multilingual). These models have been trained on massive datasets in many languages, and therefore are can be used to solve tasks that are not only in English.\n",
    "\n",
    "Additionally, another model worth mentioning is [LASER](https://engineering.fb.com/2019/01/22/ai-research/laser-multilingual-sentence-embeddings/), from Meta, which performs zero-shot transfer across 93 languages."
   ]
  }
 ],
 "metadata": {
  "kernelspec": {
   "display_name": "Python 3 (ipykernel)",
   "language": "python",
   "name": "python3"
  },
  "language_info": {
   "codemirror_mode": {
    "name": "ipython",
    "version": 3
   },
   "file_extension": ".py",
   "mimetype": "text/x-python",
   "name": "python",
   "nbconvert_exporter": "python",
   "pygments_lexer": "ipython3",
   "version": "3.8.10"
  }
 },
 "nbformat": 4,
 "nbformat_minor": 5
}
