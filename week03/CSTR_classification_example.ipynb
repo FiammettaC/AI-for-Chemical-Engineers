{
 "cells": [
  {
   "cell_type": "markdown",
   "id": "2386bc2f-c284-4c43-858c-a5d4a25bae98",
   "metadata": {},
   "source": [
    "This notebook was ceated by Ferran Oliver Gerones, Mateusz Zbigniew Zalewski and Nursultan Sheishekeyev for a special course at DTU."
   ]
  },
  {
   "cell_type": "code",
   "execution_count": 1,
   "id": "906445df",
   "metadata": {},
   "outputs": [
    {
     "data": {
      "text/plain": [
       "(2860, 1404)"
      ]
     },
     "execution_count": 1,
     "metadata": {},
     "output_type": "execute_result"
    }
   ],
   "source": [
    "#Loading the library\n",
    "import pandas as pd\n",
    "import numpy as np\n",
    "\n",
    "from sklearn.metrics import f1_score\n",
    "from sklearn.linear_model import LogisticRegression\n",
    "from sklearn.tree import DecisionTreeClassifier\n",
    "from sklearn.neighbors import KNeighborsClassifier\n",
    "from sklearn.svm import SVC\n",
    "from sklearn.ensemble import RandomForestClassifier\n",
    "from sklearn.cluster import KMeans\n",
    "from sklearn.preprocessing import StandardScaler\n",
    "from sklearn import metrics\n",
    "from sklearn.metrics import confusion_matrix\n",
    "import seaborn as sns\n",
    "import matplotlib.pyplot as plt\n",
    "import xgboost\n",
    "from xgboost import XGBClassifier\n",
    "from sklearn.decomposition import PCA\n",
    "\n",
    "#Loading the dataset and checking the shape\n",
    "cstr=np.load(\"cstr_rawdata.npy\",)\n",
    "cstr.shape"
   ]
  },
  {
   "cell_type": "markdown",
   "id": "b3f4c5eb-5f57-43da-9e85-1ed5e5a2ac1b",
   "metadata": {},
   "source": [
    "# Exploring the CSTR Dataset"
   ]
  },
  {
   "cell_type": "markdown",
   "id": "443aed3e-a3f2-4553-8bb7-c8d252f6f3da",
   "metadata": {},
   "source": [
    "## Description\n",
    "\n",
    "CSTR Domain Adaptation and Fault Diagnosis, available at: https://www.kaggle.com/datasets/eddardd/continuous-stirred-tank-reactor-domain-adaptation/data. Here the goal is to predict a set of 12 faults from the given variables (multi-class classification problem)."
   ]
  },
  {
   "cell_type": "markdown",
   "id": "cbe1d202-07ec-4c09-8640-ecdb92d47793",
   "metadata": {},
   "source": [
    "Saving it as an excel file for a different exploration\n"
   ]
  },
  {
   "cell_type": "code",
   "execution_count": 2,
   "id": "f964a7de-93b7-4777-bcc0-c24a8d9eb41a",
   "metadata": {},
   "outputs": [],
   "source": [
    "## save to xlsx file\n",
    "\n",
    "# filepath = 'CSTR_data_3.xlsx'\n",
    "\n",
    "# df.to_excel(filepath, index=False)"
   ]
  },
  {
   "cell_type": "code",
   "execution_count": 3,
   "id": "64ec9624",
   "metadata": {},
   "outputs": [
    {
     "data": {
      "text/html": [
       "<div>\n",
       "<style scoped>\n",
       "    .dataframe tbody tr th:only-of-type {\n",
       "        vertical-align: middle;\n",
       "    }\n",
       "\n",
       "    .dataframe tbody tr th {\n",
       "        vertical-align: top;\n",
       "    }\n",
       "\n",
       "    .dataframe thead th {\n",
       "        text-align: right;\n",
       "    }\n",
       "</style>\n",
       "<table border=\"1\" class=\"dataframe\">\n",
       "  <thead>\n",
       "    <tr style=\"text-align: right;\">\n",
       "      <th></th>\n",
       "      <th>0</th>\n",
       "      <th>1</th>\n",
       "      <th>2</th>\n",
       "      <th>3</th>\n",
       "      <th>4</th>\n",
       "      <th>5</th>\n",
       "      <th>6</th>\n",
       "      <th>7</th>\n",
       "      <th>8</th>\n",
       "      <th>9</th>\n",
       "      <th>...</th>\n",
       "      <th>1394</th>\n",
       "      <th>1395</th>\n",
       "      <th>1396</th>\n",
       "      <th>1397</th>\n",
       "      <th>1398</th>\n",
       "      <th>1399</th>\n",
       "      <th>1400</th>\n",
       "      <th>1401</th>\n",
       "      <th>1402</th>\n",
       "      <th>1403</th>\n",
       "    </tr>\n",
       "  </thead>\n",
       "  <tbody>\n",
       "    <tr>\n",
       "      <th>0</th>\n",
       "      <td>0.999719</td>\n",
       "      <td>0.999854</td>\n",
       "      <td>1.000517</td>\n",
       "      <td>0.999764</td>\n",
       "      <td>0.999982</td>\n",
       "      <td>1.000978</td>\n",
       "      <td>1.000314</td>\n",
       "      <td>0.999953</td>\n",
       "      <td>0.999051</td>\n",
       "      <td>1.000165</td>\n",
       "      <td>...</td>\n",
       "      <td>10.097724</td>\n",
       "      <td>10.042699</td>\n",
       "      <td>9.963228</td>\n",
       "      <td>10.084302</td>\n",
       "      <td>10.548740</td>\n",
       "      <td>10.032248</td>\n",
       "      <td>0.0</td>\n",
       "      <td>0.0</td>\n",
       "      <td>0.0</td>\n",
       "      <td>1.0</td>\n",
       "    </tr>\n",
       "    <tr>\n",
       "      <th>1</th>\n",
       "      <td>1.002411</td>\n",
       "      <td>1.000820</td>\n",
       "      <td>1.001000</td>\n",
       "      <td>0.999042</td>\n",
       "      <td>0.999200</td>\n",
       "      <td>1.001231</td>\n",
       "      <td>1.001470</td>\n",
       "      <td>1.001782</td>\n",
       "      <td>0.999543</td>\n",
       "      <td>0.999201</td>\n",
       "      <td>...</td>\n",
       "      <td>9.731097</td>\n",
       "      <td>10.080027</td>\n",
       "      <td>9.896257</td>\n",
       "      <td>9.088898</td>\n",
       "      <td>9.798987</td>\n",
       "      <td>10.418807</td>\n",
       "      <td>0.0</td>\n",
       "      <td>0.0</td>\n",
       "      <td>0.0</td>\n",
       "      <td>1.0</td>\n",
       "    </tr>\n",
       "    <tr>\n",
       "      <th>2</th>\n",
       "      <td>0.999197</td>\n",
       "      <td>0.998922</td>\n",
       "      <td>1.000095</td>\n",
       "      <td>0.999389</td>\n",
       "      <td>0.999128</td>\n",
       "      <td>0.999978</td>\n",
       "      <td>0.999889</td>\n",
       "      <td>1.001926</td>\n",
       "      <td>1.000072</td>\n",
       "      <td>0.999326</td>\n",
       "      <td>...</td>\n",
       "      <td>10.041097</td>\n",
       "      <td>9.745254</td>\n",
       "      <td>10.877219</td>\n",
       "      <td>9.592610</td>\n",
       "      <td>10.046595</td>\n",
       "      <td>10.262627</td>\n",
       "      <td>0.0</td>\n",
       "      <td>0.0</td>\n",
       "      <td>0.0</td>\n",
       "      <td>1.0</td>\n",
       "    </tr>\n",
       "    <tr>\n",
       "      <th>3</th>\n",
       "      <td>1.000770</td>\n",
       "      <td>1.000499</td>\n",
       "      <td>0.999830</td>\n",
       "      <td>1.000854</td>\n",
       "      <td>1.001071</td>\n",
       "      <td>1.001708</td>\n",
       "      <td>0.999969</td>\n",
       "      <td>0.998799</td>\n",
       "      <td>1.000446</td>\n",
       "      <td>0.999382</td>\n",
       "      <td>...</td>\n",
       "      <td>10.570380</td>\n",
       "      <td>9.610376</td>\n",
       "      <td>10.546058</td>\n",
       "      <td>10.679968</td>\n",
       "      <td>10.282365</td>\n",
       "      <td>10.035451</td>\n",
       "      <td>0.0</td>\n",
       "      <td>0.0</td>\n",
       "      <td>0.0</td>\n",
       "      <td>1.0</td>\n",
       "    </tr>\n",
       "    <tr>\n",
       "      <th>4</th>\n",
       "      <td>1.001674</td>\n",
       "      <td>1.000058</td>\n",
       "      <td>0.999202</td>\n",
       "      <td>0.998686</td>\n",
       "      <td>0.999539</td>\n",
       "      <td>0.999194</td>\n",
       "      <td>1.000795</td>\n",
       "      <td>1.000007</td>\n",
       "      <td>0.999421</td>\n",
       "      <td>1.000157</td>\n",
       "      <td>...</td>\n",
       "      <td>9.787158</td>\n",
       "      <td>9.954904</td>\n",
       "      <td>10.416254</td>\n",
       "      <td>9.866833</td>\n",
       "      <td>10.053383</td>\n",
       "      <td>10.025643</td>\n",
       "      <td>0.0</td>\n",
       "      <td>0.0</td>\n",
       "      <td>0.0</td>\n",
       "      <td>1.0</td>\n",
       "    </tr>\n",
       "    <tr>\n",
       "      <th>5</th>\n",
       "      <td>1.000282</td>\n",
       "      <td>1.000683</td>\n",
       "      <td>1.000775</td>\n",
       "      <td>0.999078</td>\n",
       "      <td>0.999441</td>\n",
       "      <td>0.998551</td>\n",
       "      <td>0.999871</td>\n",
       "      <td>1.000402</td>\n",
       "      <td>1.001595</td>\n",
       "      <td>1.001099</td>\n",
       "      <td>...</td>\n",
       "      <td>10.258771</td>\n",
       "      <td>10.165729</td>\n",
       "      <td>9.980313</td>\n",
       "      <td>9.941368</td>\n",
       "      <td>10.604471</td>\n",
       "      <td>10.201198</td>\n",
       "      <td>0.0</td>\n",
       "      <td>0.0</td>\n",
       "      <td>0.0</td>\n",
       "      <td>1.0</td>\n",
       "    </tr>\n",
       "    <tr>\n",
       "      <th>6</th>\n",
       "      <td>1.001033</td>\n",
       "      <td>0.999388</td>\n",
       "      <td>1.000021</td>\n",
       "      <td>1.001056</td>\n",
       "      <td>1.000141</td>\n",
       "      <td>0.999230</td>\n",
       "      <td>0.998549</td>\n",
       "      <td>1.000168</td>\n",
       "      <td>1.000862</td>\n",
       "      <td>0.998049</td>\n",
       "      <td>...</td>\n",
       "      <td>8.938734</td>\n",
       "      <td>10.020908</td>\n",
       "      <td>9.940908</td>\n",
       "      <td>10.498017</td>\n",
       "      <td>10.167567</td>\n",
       "      <td>9.901859</td>\n",
       "      <td>0.0</td>\n",
       "      <td>0.0</td>\n",
       "      <td>0.0</td>\n",
       "      <td>1.0</td>\n",
       "    </tr>\n",
       "    <tr>\n",
       "      <th>7</th>\n",
       "      <td>1.000780</td>\n",
       "      <td>0.999357</td>\n",
       "      <td>0.997187</td>\n",
       "      <td>0.998834</td>\n",
       "      <td>0.999885</td>\n",
       "      <td>1.001322</td>\n",
       "      <td>1.000881</td>\n",
       "      <td>0.998984</td>\n",
       "      <td>0.999225</td>\n",
       "      <td>1.000534</td>\n",
       "      <td>...</td>\n",
       "      <td>9.276363</td>\n",
       "      <td>9.974554</td>\n",
       "      <td>10.206660</td>\n",
       "      <td>10.323086</td>\n",
       "      <td>9.497744</td>\n",
       "      <td>9.243785</td>\n",
       "      <td>0.0</td>\n",
       "      <td>0.0</td>\n",
       "      <td>0.0</td>\n",
       "      <td>1.0</td>\n",
       "    </tr>\n",
       "    <tr>\n",
       "      <th>8</th>\n",
       "      <td>1.000697</td>\n",
       "      <td>0.999358</td>\n",
       "      <td>1.000796</td>\n",
       "      <td>0.999323</td>\n",
       "      <td>1.001705</td>\n",
       "      <td>0.999389</td>\n",
       "      <td>1.001015</td>\n",
       "      <td>1.000195</td>\n",
       "      <td>0.998605</td>\n",
       "      <td>1.000523</td>\n",
       "      <td>...</td>\n",
       "      <td>9.508935</td>\n",
       "      <td>9.119742</td>\n",
       "      <td>10.118859</td>\n",
       "      <td>9.820271</td>\n",
       "      <td>9.414832</td>\n",
       "      <td>10.377239</td>\n",
       "      <td>0.0</td>\n",
       "      <td>0.0</td>\n",
       "      <td>0.0</td>\n",
       "      <td>1.0</td>\n",
       "    </tr>\n",
       "    <tr>\n",
       "      <th>9</th>\n",
       "      <td>1.001959</td>\n",
       "      <td>1.000248</td>\n",
       "      <td>0.998432</td>\n",
       "      <td>0.999776</td>\n",
       "      <td>1.002489</td>\n",
       "      <td>1.000801</td>\n",
       "      <td>0.998757</td>\n",
       "      <td>1.000301</td>\n",
       "      <td>0.999964</td>\n",
       "      <td>0.999879</td>\n",
       "      <td>...</td>\n",
       "      <td>10.306115</td>\n",
       "      <td>9.985813</td>\n",
       "      <td>9.720012</td>\n",
       "      <td>10.263209</td>\n",
       "      <td>10.390713</td>\n",
       "      <td>10.076998</td>\n",
       "      <td>0.0</td>\n",
       "      <td>0.0</td>\n",
       "      <td>0.0</td>\n",
       "      <td>1.0</td>\n",
       "    </tr>\n",
       "  </tbody>\n",
       "</table>\n",
       "<p>10 rows × 1404 columns</p>\n",
       "</div>"
      ],
      "text/plain": [
       "       0         1         2         3         4         5         6     \\\n",
       "0  0.999719  0.999854  1.000517  0.999764  0.999982  1.000978  1.000314   \n",
       "1  1.002411  1.000820  1.001000  0.999042  0.999200  1.001231  1.001470   \n",
       "2  0.999197  0.998922  1.000095  0.999389  0.999128  0.999978  0.999889   \n",
       "3  1.000770  1.000499  0.999830  1.000854  1.001071  1.001708  0.999969   \n",
       "4  1.001674  1.000058  0.999202  0.998686  0.999539  0.999194  1.000795   \n",
       "5  1.000282  1.000683  1.000775  0.999078  0.999441  0.998551  0.999871   \n",
       "6  1.001033  0.999388  1.000021  1.001056  1.000141  0.999230  0.998549   \n",
       "7  1.000780  0.999357  0.997187  0.998834  0.999885  1.001322  1.000881   \n",
       "8  1.000697  0.999358  1.000796  0.999323  1.001705  0.999389  1.001015   \n",
       "9  1.001959  1.000248  0.998432  0.999776  1.002489  1.000801  0.998757   \n",
       "\n",
       "       7         8         9     ...       1394       1395       1396  \\\n",
       "0  0.999953  0.999051  1.000165  ...  10.097724  10.042699   9.963228   \n",
       "1  1.001782  0.999543  0.999201  ...   9.731097  10.080027   9.896257   \n",
       "2  1.001926  1.000072  0.999326  ...  10.041097   9.745254  10.877219   \n",
       "3  0.998799  1.000446  0.999382  ...  10.570380   9.610376  10.546058   \n",
       "4  1.000007  0.999421  1.000157  ...   9.787158   9.954904  10.416254   \n",
       "5  1.000402  1.001595  1.001099  ...  10.258771  10.165729   9.980313   \n",
       "6  1.000168  1.000862  0.998049  ...   8.938734  10.020908   9.940908   \n",
       "7  0.998984  0.999225  1.000534  ...   9.276363   9.974554  10.206660   \n",
       "8  1.000195  0.998605  1.000523  ...   9.508935   9.119742  10.118859   \n",
       "9  1.000301  0.999964  0.999879  ...  10.306115   9.985813   9.720012   \n",
       "\n",
       "        1397       1398       1399  1400  1401  1402  1403  \n",
       "0  10.084302  10.548740  10.032248   0.0   0.0   0.0   1.0  \n",
       "1   9.088898   9.798987  10.418807   0.0   0.0   0.0   1.0  \n",
       "2   9.592610  10.046595  10.262627   0.0   0.0   0.0   1.0  \n",
       "3  10.679968  10.282365  10.035451   0.0   0.0   0.0   1.0  \n",
       "4   9.866833  10.053383  10.025643   0.0   0.0   0.0   1.0  \n",
       "5   9.941368  10.604471  10.201198   0.0   0.0   0.0   1.0  \n",
       "6  10.498017  10.167567   9.901859   0.0   0.0   0.0   1.0  \n",
       "7  10.323086   9.497744   9.243785   0.0   0.0   0.0   1.0  \n",
       "8   9.820271   9.414832  10.377239   0.0   0.0   0.0   1.0  \n",
       "9  10.263209  10.390713  10.076998   0.0   0.0   0.0   1.0  \n",
       "\n",
       "[10 rows x 1404 columns]"
      ]
     },
     "execution_count": 3,
     "metadata": {},
     "output_type": "execute_result"
    }
   ],
   "source": [
    "cstr_df = pd.DataFrame(cstr) #converting it to Panda\n",
    "cstr_df.head(10)"
   ]
  },
  {
   "cell_type": "markdown",
   "id": "55a11a6d-85a9-4a73-b582-2b0c5a9d5599",
   "metadata": {},
   "source": [
    "If we take a look to the dataset we can see that the last 4 column don't contain data. These columns give us information about the working operation of the reactor and the reaction taking place.\n",
    "\n",
    "Column 1400 refers to the Fault.\n",
    "Column 1401 refers to the domain level\n",
    "Column 1402 refers to the noise level\n",
    "Column 1403 refers to the reaction order\n"
   ]
  },
  {
   "cell_type": "code",
   "execution_count": 4,
   "id": "fe35ff81-7bcc-4abf-b3d8-1e456ff4bd22",
   "metadata": {},
   "outputs": [
    {
     "data": {
      "text/plain": [
       "(2860, 1400)"
      ]
     },
     "execution_count": 4,
     "metadata": {},
     "output_type": "execute_result"
    }
   ],
   "source": [
    "test=cstr[:,: -4] #just testing how to remove the 4 columns that doesn't contain relevant information\n",
    "test.shape"
   ]
  },
  {
   "cell_type": "code",
   "execution_count": 5,
   "id": "7b2ecf99-7678-4547-abfa-4cbbc485deb0",
   "metadata": {},
   "outputs": [],
   "source": [
    "#Define labels for the 4 columns \n",
    "fault_label = cstr_df.iloc[:, -4]\n",
    "domain_label = cstr_df.iloc[:, -3]\n",
    "parameter_noise = cstr_df.iloc[:, -2]\n",
    "reaction_order = cstr_df.iloc[:, -1]"
   ]
  },
  {
   "cell_type": "code",
   "execution_count": 6,
   "id": "92fad5f4-c315-4ab6-954a-676d4d884652",
   "metadata": {},
   "outputs": [
    {
     "data": {
      "text/plain": [
       "(array([0., 1., 2., 3., 4., 5., 6.]),\n",
       " array([1300,  260,  260,  260,  260,  260,  260], dtype=int64))"
      ]
     },
     "execution_count": 6,
     "metadata": {},
     "output_type": "execute_result"
    }
   ],
   "source": [
    "#checking the unique domains, we confirm there are 6 uniques domains in this dataset and we can see the datapoints on each domain.\n",
    "np.unique(domain_label, return_counts=True)"
   ]
  },
  {
   "cell_type": "code",
   "execution_count": 7,
   "id": "5177157f-5555-4e11-96fc-f2c82f01f22a",
   "metadata": {},
   "outputs": [
    {
     "data": {
      "text/plain": [
       "(array([ 0.,  1.,  2.,  3.,  4.,  5.,  6.,  7.,  8.,  9., 10., 11., 12.]),\n",
       " array([220, 220, 220, 220, 220, 220, 220, 220, 220, 220, 220, 220, 220],\n",
       "       dtype=int64))"
      ]
     },
     "execution_count": 7,
     "metadata": {},
     "output_type": "execute_result"
    }
   ],
   "source": [
    "np.unique(fault_label, return_counts=True)"
   ]
  },
  {
   "cell_type": "markdown",
   "id": "d2b85418-59dd-413b-acd6-cd667e31730b",
   "metadata": {},
   "source": [
    "There's 6 unique domains which are combinations of the other parameters, will be studied later on."
   ]
  },
  {
   "cell_type": "code",
   "execution_count": 8,
   "id": "60694329-c5ba-4f02-9c3d-2e56c834d7f2",
   "metadata": {},
   "outputs": [
    {
     "data": {
      "text/plain": [
       "(array([0.  , 0.1 , 0.15, 0.2 ]), array([1300,  260, 1040,  260], dtype=int64))"
      ]
     },
     "execution_count": 8,
     "metadata": {},
     "output_type": "execute_result"
    }
   ],
   "source": [
    "np.unique(parameter_noise, return_counts=True)\n",
    "# doing the same for the possible values noise can take"
   ]
  },
  {
   "cell_type": "code",
   "execution_count": 9,
   "id": "ff1adff4-6f59-408c-8c64-0bc8b4581990",
   "metadata": {},
   "outputs": [
    {
     "data": {
      "text/plain": [
       "(array([0.5, 1. , 1.5, 2. ]), array([ 260, 2080,  260,  260], dtype=int64))"
      ]
     },
     "execution_count": 9,
     "metadata": {},
     "output_type": "execute_result"
    }
   ],
   "source": [
    "np.unique(reaction_order, return_counts=True)\n",
    "# possible values reaction order can take"
   ]
  },
  {
   "cell_type": "markdown",
   "id": "4356014b-783f-4ec5-85bc-f72065e9ff19",
   "metadata": {},
   "source": [
    "To study the parameters for each unique domain:"
   ]
  },
  {
   "cell_type": "code",
   "execution_count": 10,
   "id": "de781850-05cf-4b2d-961e-0c57f8e23a55",
   "metadata": {},
   "outputs": [
    {
     "name": "stdout",
     "output_type": "stream",
     "text": [
      "The domain 0.0 has a noise level of 0.0 and a reaction order of 1.0\n",
      "The domain 1.0 has a noise level of 0.1 and a reaction order of 1.0\n",
      "The domain 2.0 has a noise level of 0.15 and a reaction order of 1.0\n",
      "The domain 3.0 has a noise level of 0.2 and a reaction order of 1.0\n",
      "The domain 4.0 has a noise level of 0.15 and a reaction order of 0.5\n",
      "The domain 5.0 has a noise level of 0.15 and a reaction order of 1.5\n",
      "The domain 6.0 has a noise level of 0.15 and a reaction order of 2.0\n"
     ]
    }
   ],
   "source": [
    "for domain in np.unique(domain_label):\n",
    "    domain_parameters = np.where(domain_label == domain)[0]\n",
    "    print(f'The domain {domain} has a noise level of {np.unique(parameter_noise[domain_parameters]).item()} and a reaction order of {np.unique(reaction_order[domain_parameters]).item()}')\n"
   ]
  },
  {
   "cell_type": "markdown",
   "id": "720ff6dc-8d23-4eda-95e5-a79cc23ece13",
   "metadata": {},
   "source": [
    "After visualizing and knowing how the data is organized we can start the treatment and training for the model"
   ]
  },
  {
   "cell_type": "code",
   "execution_count": 11,
   "id": "13e36577-8546-4920-84b2-e881bac5cd04",
   "metadata": {},
   "outputs": [
    {
     "name": "stdout",
     "output_type": "stream",
     "text": [
      "[ 0.  0.  0. ... 12. 12. 12.]\n",
      "(2860, 1400) (2860,)\n",
      "(2288, 1400) (572, 1400) (2288,) (572,)\n"
     ]
    }
   ],
   "source": [
    "# extracting the features and target variable from your DataFrame\n",
    "X_feature = cstr_df.iloc[:, 0:1400] \n",
    "y_target = cstr_df.iloc[:, 1400].values\n",
    "print(y_target)\n",
    "print(X_feature.shape, y_target.shape)\n",
    "\n",
    "# splitting the data into training and testing sets. Test size is splitted into 20/80, testing set 20% of the original dataset's samples, and the training set is the 80%.\n",
    "from sklearn.model_selection import train_test_split\n",
    "X_train, X_test, y_train, y_test = train_test_split(X_feature, y_target, test_size=0.2, random_state=1)\n",
    "print(X_train.shape, X_test.shape, y_train.shape, y_test.shape)"
   ]
  },
  {
   "cell_type": "code",
   "execution_count": 12,
   "id": "ed064473-0133-41d7-aecc-7d5a5c4ae3e4",
   "metadata": {},
   "outputs": [],
   "source": [
    "# Creating the function to evaluate different models of prediciton\n",
    "\n",
    "def predictions(classifier, X_train, y_train, X_test, y_test, model_name):\n",
    "    classifier.fit(X_train, y_train)\n",
    "    print(classifier.score(X_test, y_test))\n",
    "\n",
    "    cm = confusion_matrix(classifier.predict(X_test), y_test)\n",
    "    sns.heatmap(cm, annot=True, cmap='viridis')\n",
    "    plt.title(f'Confusion matrix for {model_name}')\n",
    "    plt.show()"
   ]
  },
  {
   "cell_type": "markdown",
   "id": "dede624d-216c-4452-a1ee-c451bfd1f506",
   "metadata": {},
   "source": [
    "Now we use different classifier models to assess our function and model.\n",
    "\n",
    "Each of these classifiers will be trained on the training data and then evaluated on the testing data to assess their performance. Different performances are expected and results will be tested in function of the score."
   ]
  },
  {
   "cell_type": "code",
   "execution_count": null,
   "id": "b6ba6131-ea25-45e2-86d7-18d48ce11456",
   "metadata": {},
   "outputs": [],
   "source": [
    "print('LogisticRegression')\n",
    "predictions(LogisticRegression(max_iter=1000), X_train, y_train, X_test, y_test, model_name='Logistic Regression')\n",
    "\n",
    "# print('DecisionTreeClassifier')\n",
    "# predictions(DecisionTreeClassifier(random_state=42, max_depth=3), X_train, y_train, X_test, y_test, model_name='Decision Tree Classifier')\n",
    "\n",
    "print('KNeighborsClassifier')\n",
    "predictions(KNeighborsClassifier(), X_train.values, y_train, X_test.values, y_test, model_name='K-Neighbors Classifier')\n",
    "\n",
    "print('SVC')\n",
    "predictions(SVC(random_state=2207, probability=True), X_train, y_train, X_test, y_test, model_name='SVC')\n",
    "\n",
    "print('RandomForestClassifier')\n",
    "predictions(RandomForestClassifier(random_state=0), X_train, y_train, X_test, y_test, model_name='Random Forest Classifier')\n",
    "\n",
    "print('XGB Classifier')\n",
    "predictions(XGBClassifier(n_estimators=100, max_depth=3, learning_rate=0.1), X_train, y_train, X_test, y_test, model_name='XGB Classifier' )\n"
   ]
  },
  {
   "cell_type": "markdown",
   "id": "188533ce-952f-4063-9619-0ce6d88b62bc",
   "metadata": {},
   "source": [
    "# Standarizing the Dataset"
   ]
  },
  {
   "cell_type": "markdown",
   "id": "0cbd51c2-9399-490b-ba8d-2d3df8f5f72e",
   "metadata": {},
   "source": [
    "If we have a look at the original dataset, values for the different parameters (concentration, temperature, etc.) are pretty different. For this reason, a standaritzation technique is used to normalize the data to similar standards. It transforms the data in such a way that it has a mean of 0 and a standard deviation of 1."
   ]
  },
  {
   "cell_type": "code",
   "execution_count": 14,
   "id": "e0437de2-26db-4e7d-9ca6-41ceb81baa6c",
   "metadata": {},
   "outputs": [
    {
     "name": "stdout",
     "output_type": "stream",
     "text": [
      "[ 0.  0.  0. ... 12. 12. 12.]\n",
      "(2288, 1400) (572, 1400) (2288,) (572,)\n"
     ]
    }
   ],
   "source": [
    "# Normalize the features using Standard Scaler\n",
    "cstr_df_standardized = StandardScaler()\n",
    "cstr_feature_standard = cstr_df_standardized.fit_transform(cstr_df)\n",
    "cstr_df_standardized = pd.DataFrame(cstr_feature_standard)\n",
    "\n",
    "# Extract features and target; same procedure as done before. y_target is not standarized and the values are the same ones as before.\n",
    "X_feature_standardized = cstr_df_standardized.iloc[:, 0:1400]\n",
    "y_target_standardized = cstr_df.iloc[:, 1400].values\n",
    "\n",
    "# Print the target values to check if the values are maintained\n",
    "print(y_target)\n",
    "\n",
    "# Split the data into training and testing sets. \"_s\" is added in order not to overwrite the old ones. Same test size is maintainted.\n",
    "X_train_s, X_test_s, y_train_s, y_test_s = train_test_split(X_feature_standardized, y_target_standardized, test_size=0.2, random_state=1)\n",
    "\n",
    "# Print the shapes of the training and testing sets\n",
    "print(X_train_s.shape, X_test_s.shape, y_train_s.shape, y_test_s.shape)\n"
   ]
  },
  {
   "cell_type": "code",
   "execution_count": 15,
   "id": "11782f37-7cce-42a6-ac7d-0b54192f1296",
   "metadata": {},
   "outputs": [
    {
     "data": {
      "text/plain": [
       "(2860, 1404)"
      ]
     },
     "execution_count": 15,
     "metadata": {},
     "output_type": "execute_result"
    }
   ],
   "source": [
    "cstr_df_standardized.shape"
   ]
  },
  {
   "cell_type": "markdown",
   "id": "97915765-27d6-4527-942e-62d7ef5a4c98",
   "metadata": {},
   "source": [
    "Defining again the function for the Normalized dataset. Using the same approach with the confusion matrix but some low score classifier models are tested to see if the performance are improved. RandomTreeClassifier and XGBoost are also tested to see if their score is increased to an even better value."
   ]
  },
  {
   "cell_type": "code",
   "execution_count": 16,
   "id": "fa41d5a5-17c8-46fb-8b2d-312433e958ad",
   "metadata": {},
   "outputs": [],
   "source": [
    "def predictions_standard(classifier, X_train_s, y_train_s, X_test_s, y_test_s, model_naming):\n",
    "    classifier.fit(X_train_s, y_train_s)\n",
    "    print(classifier.score(X_test_s, y_test_s))\n",
    "\n",
    "    cm = confusion_matrix(classifier.predict(X_test_s), y_test_s)\n",
    "    sns.heatmap(cm, annot=True, cmap='viridis')\n",
    "    plt.title(f'Confusion matrix for {model_naming}')\n",
    "    plt.show()"
   ]
  },
  {
   "cell_type": "code",
   "execution_count": null,
   "id": "11811c74-89b1-4ebe-a26d-bfcb70ecf4ed",
   "metadata": {},
   "outputs": [],
   "source": [
    "print('LogisticRegression')\n",
    "predictions_standard(LogisticRegression(max_iter=1000), X_train_s, y_train_s, X_test_s, y_test_s, model_naming='Logistic Regression')"
   ]
  },
  {
   "cell_type": "code",
   "execution_count": 18,
   "id": "23376696-6a7e-4e0c-9afb-5c970a28bf58",
   "metadata": {
    "scrolled": true
   },
   "outputs": [
    {
     "name": "stdout",
     "output_type": "stream",
     "text": [
      "SVC\n",
      "0.8321678321678322\n"
     ]
    },
    {
     "data": {
      "image/png": "[encoded data removed]",
      "text/plain": [
       "<Figure size 640x480 with 2 Axes>"
      ]
     },
     "metadata": {},
     "output_type": "display_data"
    }
   ],
   "source": [
    "print('SVC')\n",
    "predictions_standard(SVC(random_state=2207, probability=True), X_train_s, y_train_s, X_test_s, y_test_s, model_naming='SVC')"
   ]
  },
  {
   "cell_type": "code",
   "execution_count": 19,
   "id": "d53fb15a-5f4e-4eaa-a89f-bfc274876099",
   "metadata": {},
   "outputs": [
    {
     "name": "stdout",
     "output_type": "stream",
     "text": [
      "KNeighborsClassifier\n",
      "0.8636363636363636\n"
     ]
    },
    {
     "data": {
      "image/png": "[encoded data removed]",
      "text/plain": [
       "<Figure size 640x480 with 2 Axes>"
      ]
     },
     "metadata": {},
     "output_type": "display_data"
    }
   ],
   "source": [
    "print('KNeighborsClassifier')\n",
    "predictions_standard(KNeighborsClassifier(), X_train_s.values, y_train_s, X_test_s.values, y_test_s, model_naming= 'K-Neighbors Classifier')"
   ]
  },
  {
   "cell_type": "code",
   "execution_count": 20,
   "id": "531f7116-3673-4c9a-91b5-d0ed6714abd9",
   "metadata": {},
   "outputs": [
    {
     "name": "stdout",
     "output_type": "stream",
     "text": [
      "RandomForestClassifier\n",
      "0.9440559440559441\n"
     ]
    },
    {
     "data": {
      "image/png": "[encoded data removed]",
      "text/plain": [
       "<Figure size 640x480 with 2 Axes>"
      ]
     },
     "metadata": {},
     "output_type": "display_data"
    }
   ],
   "source": [
    "print('RandomForestClassifier')\n",
    "predictions_standard(RandomForestClassifier(random_state=0), X_train_s, y_train_s, X_test_s, y_test_s, model_naming='Random Forest Classifier')"
   ]
  },
  {
   "cell_type": "code",
   "execution_count": 21,
   "id": "917b7fa8-4622-4cd3-9d6c-c985a55e53c3",
   "metadata": {},
   "outputs": [
    {
     "name": "stdout",
     "output_type": "stream",
     "text": [
      "XGB Classifier\n",
      "0.9685314685314685\n"
     ]
    },
    {
     "data": {
      "image/png": "[encoded data removed]",
      "text/plain": [
       "<Figure size 640x480 with 2 Axes>"
      ]
     },
     "metadata": {},
     "output_type": "display_data"
    }
   ],
   "source": [
    "print('XGB Classifier')\n",
    "predictions_standard(XGBClassifier(n_estimators=300, max_depth=3, learning_rate=0.1), X_train_s, y_train_s, X_test_s, y_test_s, model_naming='XGB Classifier' )"
   ]
  },
  {
   "cell_type": "markdown",
   "id": "74386e70-d5c4-4198-86d9-36747f9bea6c",
   "metadata": {},
   "source": [
    "# Reducing dimensionality with PCA"
   ]
  },
  {
   "cell_type": "code",
   "execution_count": 22,
   "id": "7e6edde9-80aa-40e1-ad37-46a1740d42c4",
   "metadata": {},
   "outputs": [
    {
     "data": {
      "text/html": [
       "<style>#sk-container-id-1 {color: black;}#sk-container-id-1 pre{padding: 0;}#sk-container-id-1 div.sk-toggleable {background-color: white;}#sk-container-id-1 label.sk-toggleable__label {cursor: pointer;display: block;width: 100%;margin-bottom: 0;padding: 0.3em;box-sizing: border-box;text-align: center;}#sk-container-id-1 label.sk-toggleable__label-arrow:before {content: \"▸\";float: left;margin-right: 0.25em;color: #696969;}#sk-container-id-1 label.sk-toggleable__label-arrow:hover:before {color: black;}#sk-container-id-1 div.sk-estimator:hover label.sk-toggleable__label-arrow:before {color: black;}#sk-container-id-1 div.sk-toggleable__content {max-height: 0;max-width: 0;overflow: hidden;text-align: left;background-color: #f0f8ff;}#sk-container-id-1 div.sk-toggleable__content pre {margin: 0.2em;color: black;border-radius: 0.25em;background-color: #f0f8ff;}#sk-container-id-1 input.sk-toggleable__control:checked~div.sk-toggleable__content {max-height: 200px;max-width: 100%;overflow: auto;}#sk-container-id-1 input.sk-toggleable__control:checked~label.sk-toggleable__label-arrow:before {content: \"▾\";}#sk-container-id-1 div.sk-estimator input.sk-toggleable__control:checked~label.sk-toggleable__label {background-color: #d4ebff;}#sk-container-id-1 div.sk-label input.sk-toggleable__control:checked~label.sk-toggleable__label {background-color: #d4ebff;}#sk-container-id-1 input.sk-hidden--visually {border: 0;clip: rect(1px 1px 1px 1px);clip: rect(1px, 1px, 1px, 1px);height: 1px;margin: -1px;overflow: hidden;padding: 0;position: absolute;width: 1px;}#sk-container-id-1 div.sk-estimator {font-family: monospace;background-color: #f0f8ff;border: 1px dotted black;border-radius: 0.25em;box-sizing: border-box;margin-bottom: 0.5em;}#sk-container-id-1 div.sk-estimator:hover {background-color: #d4ebff;}#sk-container-id-1 div.sk-parallel-item::after {content: \"\";width: 100%;border-bottom: 1px solid gray;flex-grow: 1;}#sk-container-id-1 div.sk-label:hover label.sk-toggleable__label {background-color: #d4ebff;}#sk-container-id-1 div.sk-serial::before {content: \"\";position: absolute;border-left: 1px solid gray;box-sizing: border-box;top: 0;bottom: 0;left: 50%;z-index: 0;}#sk-container-id-1 div.sk-serial {display: flex;flex-direction: column;align-items: center;background-color: white;padding-right: 0.2em;padding-left: 0.2em;position: relative;}#sk-container-id-1 div.sk-item {position: relative;z-index: 1;}#sk-container-id-1 div.sk-parallel {display: flex;align-items: stretch;justify-content: center;background-color: white;position: relative;}#sk-container-id-1 div.sk-item::before, #sk-container-id-1 div.sk-parallel-item::before {content: \"\";position: absolute;border-left: 1px solid gray;box-sizing: border-box;top: 0;bottom: 0;left: 50%;z-index: -1;}#sk-container-id-1 div.sk-parallel-item {display: flex;flex-direction: column;z-index: 1;position: relative;background-color: white;}#sk-container-id-1 div.sk-parallel-item:first-child::after {align-self: flex-end;width: 50%;}#sk-container-id-1 div.sk-parallel-item:last-child::after {align-self: flex-start;width: 50%;}#sk-container-id-1 div.sk-parallel-item:only-child::after {width: 0;}#sk-container-id-1 div.sk-dashed-wrapped {border: 1px dashed gray;margin: 0 0.4em 0.5em 0.4em;box-sizing: border-box;padding-bottom: 0.4em;background-color: white;}#sk-container-id-1 div.sk-label label {font-family: monospace;font-weight: bold;display: inline-block;line-height: 1.2em;}#sk-container-id-1 div.sk-label-container {text-align: center;}#sk-container-id-1 div.sk-container {/* jupyter's `normalize.less` sets `[hidden] { display: none; }` but bootstrap.min.css set `[hidden] { display: none !important; }` so we also need the `!important` here to be able to override the default hidden behavior on the sphinx rendered scikit-learn.org. See: https://github.com/scikit-learn/scikit-learn/issues/21755 */display: inline-block !important;position: relative;}#sk-container-id-1 div.sk-text-repr-fallback {display: none;}</style><div id=\"sk-container-id-1\" class=\"sk-top-container\"><div class=\"sk-text-repr-fallback\"><pre>PCA()</pre><b>In a Jupyter environment, please rerun this cell to show the HTML representation or trust the notebook. <br />On GitHub, the HTML representation is unable to render, please try loading this page with nbviewer.org.</b></div><div class=\"sk-container\" hidden><div class=\"sk-item\"><div class=\"sk-estimator sk-toggleable\"><input class=\"sk-toggleable__control sk-hidden--visually\" id=\"sk-estimator-id-1\" type=\"checkbox\" checked><label for=\"sk-estimator-id-1\" class=\"sk-toggleable__label sk-toggleable__label-arrow\">PCA</label><div class=\"sk-toggleable__content\"><pre>PCA()</pre></div></div></div></div></div>"
      ],
      "text/plain": [
       "PCA()"
      ]
     },
     "execution_count": 22,
     "metadata": {},
     "output_type": "execute_result"
    }
   ],
   "source": [
    "pca = PCA()\n",
    "pca.fit(cstr_df_standardized) #fit the PCA to normalized data"
   ]
  },
  {
   "cell_type": "markdown",
   "id": "92d01303-c034-4ac3-b1d6-6beae8cb3cd2",
   "metadata": {},
   "source": [
    "Creating a scree plot for for PCA on Xception feature vectors. The scree plot helps visualize the amount of variance explained by each principal component and allows you to identify the number of components that are needed.\n",
    "\n",
    "We have to choose a threshold of how much of the variance we want to retain. Here we select 95.6% after searching a bit for a total number of data points of 100. Reducing the dimensionality of the vectors helps with the computational time of clustering in the next step."
   ]
  },
  {
   "cell_type": "code",
   "execution_count": 23,
   "id": "21483630-5275-46bc-bb2b-8b81a7e914f1",
   "metadata": {},
   "outputs": [
    {
     "data": {
      "image/png": "[encoded data removed]",
      "text/plain": [
       "<Figure size 640x480 with 1 Axes>"
      ]
     },
     "metadata": {},
     "output_type": "display_data"
    }
   ],
   "source": [
    "variance_threshold = 0.956\n",
    "\n",
    "plt.plot([x for x in range(len(pca.explained_variance_))], np.cumsum(pca.explained_variance_ratio_))\n",
    "plt.xlabel('Number of components', fontweight = 'bold')\n",
    "plt.ylabel('Cumulative Variance Explained Ratio', fontweight = 'bold')\n",
    "ax = plt.gca()\n",
    "plt.title('Skree Plot for PCA on Xception Feature Vectors', fontweight = 'bold')\n",
    "plt.axvline(np.argmax(np.cumsum(pca.explained_variance_ratio_)>variance_threshold), linestyle = '--', c = 'red')\n",
    "plt.text(700,0.7,f'{variance_threshold*100}% Variance Threshold at {np.argmax(np.cumsum(pca.explained_variance_ratio_)>variance_threshold)}')\n",
    "plt.show()"
   ]
  },
  {
   "cell_type": "code",
   "execution_count": 24,
   "id": "4c795e40-d1b6-4f07-b9ce-daef9283c1bd",
   "metadata": {},
   "outputs": [],
   "source": [
    "threshold = np.argmax(np.cumsum(pca.explained_variance_ratio_)>variance_threshold) # threshold will contain the index of the variance threshold datapoints."
   ]
  },
  {
   "cell_type": "code",
   "execution_count": 25,
   "id": "1865f4cf-a7f8-43cb-b189-1886b640dc80",
   "metadata": {},
   "outputs": [
    {
     "name": "stdout",
     "output_type": "stream",
     "text": [
      "(2860, 100)\n",
      "100\n"
     ]
    }
   ],
   "source": [
    "cstr_pca = pca.transform(cstr_df_standardized)[:, :threshold] #creating and fitting the reduced new dataset. New matrix will have 100 columns instead of 1400.\n",
    "print(cstr_pca.shape)\n",
    "print(threshold)"
   ]
  },
  {
   "cell_type": "code",
   "execution_count": 26,
   "id": "450c4086-533e-4979-821f-03a7d04f40f2",
   "metadata": {},
   "outputs": [
    {
     "data": {
      "text/html": [
       "<div>\n",
       "<style scoped>\n",
       "    .dataframe tbody tr th:only-of-type {\n",
       "        vertical-align: middle;\n",
       "    }\n",
       "\n",
       "    .dataframe tbody tr th {\n",
       "        vertical-align: top;\n",
       "    }\n",
       "\n",
       "    .dataframe thead th {\n",
       "        text-align: right;\n",
       "    }\n",
       "</style>\n",
       "<table border=\"1\" class=\"dataframe\">\n",
       "  <thead>\n",
       "    <tr style=\"text-align: right;\">\n",
       "      <th></th>\n",
       "      <th>0</th>\n",
       "      <th>1</th>\n",
       "      <th>2</th>\n",
       "      <th>3</th>\n",
       "      <th>4</th>\n",
       "      <th>5</th>\n",
       "      <th>6</th>\n",
       "      <th>7</th>\n",
       "      <th>8</th>\n",
       "      <th>9</th>\n",
       "      <th>...</th>\n",
       "      <th>90</th>\n",
       "      <th>91</th>\n",
       "      <th>92</th>\n",
       "      <th>93</th>\n",
       "      <th>94</th>\n",
       "      <th>95</th>\n",
       "      <th>96</th>\n",
       "      <th>97</th>\n",
       "      <th>98</th>\n",
       "      <th>99</th>\n",
       "    </tr>\n",
       "  </thead>\n",
       "  <tbody>\n",
       "    <tr>\n",
       "      <th>0</th>\n",
       "      <td>20.024801</td>\n",
       "      <td>-1.265666</td>\n",
       "      <td>-0.866212</td>\n",
       "      <td>-4.621033</td>\n",
       "      <td>-10.468518</td>\n",
       "      <td>-21.584137</td>\n",
       "      <td>-9.755107</td>\n",
       "      <td>-0.314732</td>\n",
       "      <td>0.021163</td>\n",
       "      <td>6.313088</td>\n",
       "      <td>...</td>\n",
       "      <td>-0.142827</td>\n",
       "      <td>-1.598344</td>\n",
       "      <td>2.084111</td>\n",
       "      <td>-0.050554</td>\n",
       "      <td>0.294244</td>\n",
       "      <td>0.578711</td>\n",
       "      <td>-1.006181</td>\n",
       "      <td>0.849879</td>\n",
       "      <td>1.380149</td>\n",
       "      <td>-1.199916</td>\n",
       "    </tr>\n",
       "    <tr>\n",
       "      <th>1</th>\n",
       "      <td>19.575499</td>\n",
       "      <td>-1.355723</td>\n",
       "      <td>-0.429885</td>\n",
       "      <td>-4.675771</td>\n",
       "      <td>-9.940136</td>\n",
       "      <td>-21.997233</td>\n",
       "      <td>-10.139352</td>\n",
       "      <td>-0.254733</td>\n",
       "      <td>0.209299</td>\n",
       "      <td>4.867084</td>\n",
       "      <td>...</td>\n",
       "      <td>0.328848</td>\n",
       "      <td>0.805129</td>\n",
       "      <td>0.032803</td>\n",
       "      <td>0.302016</td>\n",
       "      <td>0.868028</td>\n",
       "      <td>1.968735</td>\n",
       "      <td>0.601210</td>\n",
       "      <td>2.827674</td>\n",
       "      <td>-1.667269</td>\n",
       "      <td>-1.745866</td>\n",
       "    </tr>\n",
       "    <tr>\n",
       "      <th>2</th>\n",
       "      <td>20.042874</td>\n",
       "      <td>-1.151338</td>\n",
       "      <td>-0.779171</td>\n",
       "      <td>-4.815305</td>\n",
       "      <td>-11.360368</td>\n",
       "      <td>-22.346872</td>\n",
       "      <td>-9.550247</td>\n",
       "      <td>0.053303</td>\n",
       "      <td>-0.275776</td>\n",
       "      <td>0.162458</td>\n",
       "      <td>...</td>\n",
       "      <td>-0.195310</td>\n",
       "      <td>-1.578355</td>\n",
       "      <td>0.583738</td>\n",
       "      <td>0.725218</td>\n",
       "      <td>4.116757</td>\n",
       "      <td>-0.416855</td>\n",
       "      <td>-1.567199</td>\n",
       "      <td>0.795142</td>\n",
       "      <td>0.327243</td>\n",
       "      <td>0.582981</td>\n",
       "    </tr>\n",
       "    <tr>\n",
       "      <th>3</th>\n",
       "      <td>21.751458</td>\n",
       "      <td>-1.079057</td>\n",
       "      <td>-0.671385</td>\n",
       "      <td>-4.598306</td>\n",
       "      <td>-13.180756</td>\n",
       "      <td>-23.178427</td>\n",
       "      <td>-9.331301</td>\n",
       "      <td>-0.189524</td>\n",
       "      <td>-0.672218</td>\n",
       "      <td>0.064499</td>\n",
       "      <td>...</td>\n",
       "      <td>-2.574912</td>\n",
       "      <td>-1.103258</td>\n",
       "      <td>3.233107</td>\n",
       "      <td>0.979147</td>\n",
       "      <td>-0.743203</td>\n",
       "      <td>-0.235596</td>\n",
       "      <td>-0.546520</td>\n",
       "      <td>1.253736</td>\n",
       "      <td>0.200573</td>\n",
       "      <td>-1.150531</td>\n",
       "    </tr>\n",
       "    <tr>\n",
       "      <th>4</th>\n",
       "      <td>22.348100</td>\n",
       "      <td>-1.095502</td>\n",
       "      <td>-0.712631</td>\n",
       "      <td>-4.653566</td>\n",
       "      <td>-13.417733</td>\n",
       "      <td>-23.765124</td>\n",
       "      <td>-9.929354</td>\n",
       "      <td>-0.137536</td>\n",
       "      <td>-0.751106</td>\n",
       "      <td>0.955516</td>\n",
       "      <td>...</td>\n",
       "      <td>0.141679</td>\n",
       "      <td>1.060190</td>\n",
       "      <td>2.500097</td>\n",
       "      <td>-0.349718</td>\n",
       "      <td>-3.171563</td>\n",
       "      <td>-2.607307</td>\n",
       "      <td>-1.564384</td>\n",
       "      <td>1.952583</td>\n",
       "      <td>0.724768</td>\n",
       "      <td>0.274478</td>\n",
       "    </tr>\n",
       "  </tbody>\n",
       "</table>\n",
       "<p>5 rows × 100 columns</p>\n",
       "</div>"
      ],
      "text/plain": [
       "          0         1         2         3          4          5          6   \\\n",
       "0  20.024801 -1.265666 -0.866212 -4.621033 -10.468518 -21.584137  -9.755107   \n",
       "1  19.575499 -1.355723 -0.429885 -4.675771  -9.940136 -21.997233 -10.139352   \n",
       "2  20.042874 -1.151338 -0.779171 -4.815305 -11.360368 -22.346872  -9.550247   \n",
       "3  21.751458 -1.079057 -0.671385 -4.598306 -13.180756 -23.178427  -9.331301   \n",
       "4  22.348100 -1.095502 -0.712631 -4.653566 -13.417733 -23.765124  -9.929354   \n",
       "\n",
       "         7         8         9   ...        90        91        92        93  \\\n",
       "0 -0.314732  0.021163  6.313088  ... -0.142827 -1.598344  2.084111 -0.050554   \n",
       "1 -0.254733  0.209299  4.867084  ...  0.328848  0.805129  0.032803  0.302016   \n",
       "2  0.053303 -0.275776  0.162458  ... -0.195310 -1.578355  0.583738  0.725218   \n",
       "3 -0.189524 -0.672218  0.064499  ... -2.574912 -1.103258  3.233107  0.979147   \n",
       "4 -0.137536 -0.751106  0.955516  ...  0.141679  1.060190  2.500097 -0.349718   \n",
       "\n",
       "         94        95        96        97        98        99  \n",
       "0  0.294244  0.578711 -1.006181  0.849879  1.380149 -1.199916  \n",
       "1  0.868028  1.968735  0.601210  2.827674 -1.667269 -1.745866  \n",
       "2  4.116757 -0.416855 -1.567199  0.795142  0.327243  0.582981  \n",
       "3 -0.743203 -0.235596 -0.546520  1.253736  0.200573 -1.150531  \n",
       "4 -3.171563 -2.607307 -1.564384  1.952583  0.724768  0.274478  \n",
       "\n",
       "[5 rows x 100 columns]"
      ]
     },
     "execution_count": 26,
     "metadata": {},
     "output_type": "execute_result"
    }
   ],
   "source": [
    "panda_cstr_pca=pd.DataFrame(cstr_pca) #better overview of the small dataset with pandas\n",
    "panda_cstr_pca.head()"
   ]
  },
  {
   "cell_type": "markdown",
   "id": "5f5372bc-9a36-46f1-8461-a918289b9c04",
   "metadata": {},
   "source": [
    "Same process of splitting the data into training and test dataset. This time \"_pca\" is added to differentiate from the old ones. Same test size is maintained as recommended."
   ]
  },
  {
   "cell_type": "code",
   "execution_count": 27,
   "id": "c33836bd-ca43-47d4-8a01-a9768f6b8e6f",
   "metadata": {},
   "outputs": [
    {
     "name": "stdout",
     "output_type": "stream",
     "text": [
      "(2288, 100) (572, 100) (2288,) (572,)\n"
     ]
    }
   ],
   "source": [
    "X_train_pca, X_test_pca, y_train_pca, y_test_pca = train_test_split(cstr_pca, y_target_standardized, test_size=0.2, random_state=1)\n",
    "\n",
    "# Print the shapes of the training and testing sets\n",
    "print(X_train_pca.shape, X_test_pca.shape, y_train_pca.shape, y_test_pca.shape)"
   ]
  },
  {
   "cell_type": "code",
   "execution_count": 28,
   "id": "9b8196db-90c3-433c-9b84-d7dbb7b138ae",
   "metadata": {},
   "outputs": [],
   "source": [
    "def predictions_standard_pca(classifier, X_train_pca, y_train_pca, X_test_pca, y_test_pca, model_name):\n",
    "    classifier.fit(X_train_pca, y_train_pca)\n",
    "    print(classifier.score(X_test_pca, y_test_pca))\n",
    "\n",
    "    cm = confusion_matrix(classifier.predict(X_test_pca), y_test_pca)\n",
    "    sns.heatmap(cm, annot=True, cmap='viridis')\n",
    "    plt.title(f'Confusion matrix for {model_name}')\n",
    "    plt.show()"
   ]
  },
  {
   "cell_type": "code",
   "execution_count": null,
   "id": "5a9e1914-4b1a-463d-90e7-b33e12db00dc",
   "metadata": {},
   "outputs": [],
   "source": [
    "print('LogisticRegression')\n",
    "predictions_standard_pca(LogisticRegression(max_iter=1000), X_train_pca, y_train_pca, X_test_pca, y_test_pca, model_name='Logistic Regression')\n",
    "\n",
    "print('RandomForestClassifier')\n",
    "predictions_standard_pca(RandomForestClassifier(random_state=0), X_train_pca, y_train_pca, X_test_pca, y_test_pca, model_name='Random Forest Classifier')\n",
    "\n",
    "print('SVC')\n",
    "predictions_standard_pca(SVC(random_state=2207, probability=True), X_train_pca, y_train_pca, X_test_pca, y_test_pca, model_name='SVC')\n",
    "\n",
    "print('XGB Classifier')\n",
    "predictions_standard_pca(XGBClassifier(n_estimators=300, max_depth=3, learning_rate=0.1), X_train_pca, y_train_pca, X_test_pca, y_test_pca, model_name='XGB Classifier' )\n",
    "\n",
    "print('KNeighborsClassifier')\n",
    "predictions_standard_pca(KNeighborsClassifier(), X_train_pca, y_train_pca, X_test_pca, y_test_pca, model_name= 'K-Neighbors Classifier')\n",
    "\n",
    "\n",
    "\n"
   ]
  },
  {
   "cell_type": "code",
   "execution_count": null,
   "id": "d188f6e4-9e34-47a2-927f-a5966c7f760f",
   "metadata": {},
   "outputs": [],
   "source": [
    "print('LogisticRegression')\n",
    "predictions_standard_pca(LogisticRegression(max_iter=1000), X_train_pca, y_train_pca, X_test_pca, y_test_pca, model_name='Logistic Regression')\n",
    "\n",
    "print('RandomForestClassifier')\n",
    "predictions_standard_pca(RandomForestClassifier(random_state=0), X_train_pca, y_train_pca, X_test_pca, y_test_pca, model_name='Random Forest Classifier')\n",
    "\n",
    "print('XGB Classifier')\n",
    "predictions_standard_pca(XGBClassifier(n_estimators=300, max_depth=3, learning_rate=0.1), X_train_pca, y_train_pca, X_test_pca, y_test_pca, model_name='XGB Classifier' )\n",
    "\n",
    "print('KNeighborsClassifier')\n",
    "predictions_standard_pca(KNeighborsClassifier(), X_train_pca, y_train_pca, X_test_pca, y_test_pca, model_name= 'K-Neighbors Classifier')\n"
   ]
  }
 ],
 "metadata": {
  "kernelspec": {
   "display_name": "Python 3 (ipykernel)",
   "language": "python",
   "name": "python3"
  },
  "language_info": {
   "codemirror_mode": {
    "name": "ipython",
    "version": 3
   },
   "file_extension": ".py",
   "mimetype": "text/x-python",
   "name": "python",
   "nbconvert_exporter": "python",
   "pygments_lexer": "ipython3",
   "version": "3.9.7"
  }
 },
 "nbformat": 4,
 "nbformat_minor": 5
}
