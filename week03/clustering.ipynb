{
 "cells": [
  {
   "cell_type": "markdown",
   "id": "538d9e76-8077-4e44-bc42-378d3e3d1444",
   "metadata": {},
   "source": [
    "A great tutorial on various clustering methods on different datasets is provided [here](https://www.kaggle.com/code/marcinrutecki/clustering-methods-comprehensive-study)"
   ]
  },
  {
   "cell_type": "code",
   "execution_count": null,
   "id": "4934de9a-d0ee-4209-8e05-fff0127960b7",
   "metadata": {},
   "outputs": [],
   "source": []
  }
 ],
 "metadata": {
  "kernelspec": {
   "display_name": "Python 3 (ipykernel)",
   "language": "python",
   "name": "python3"
  },
  "language_info": {
   "codemirror_mode": {
    "name": "ipython",
    "version": 3
   },
   "file_extension": ".py",
   "mimetype": "text/x-python",
   "name": "python",
   "nbconvert_exporter": "python",
   "pygments_lexer": "ipython3",
   "version": "3.8.10"
  }
 },
 "nbformat": 4,
 "nbformat_minor": 5
}
