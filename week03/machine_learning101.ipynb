{
 "cells": [
  {
   "cell_type": "markdown",
   "id": "cb804746-84fd-4012-81e1-cdf812e274f7",
   "metadata": {},
   "source": [
    "# What is Machine Learning?"
   ]
  },
  {
   "cell_type": "markdown",
   "id": "072fd382-a51c-4765-ba72-b5b2a342dcf2",
   "metadata": {},
   "source": [
    "This notebook aims to provide a short (but hopefully comprehensive) introduction to Machine Learning (ML).\n",
    "\n",
    "We will investigate the difference between:\n",
    "- **supervised** and **unsupervised** learning\n",
    "- **classification** and **regression**\n",
    "\n",
    "Moreover, we will introduce the concept of **hybrid** models, which are currently very popular in the firld of Chemical Engineering."
   ]
  },
  {
   "cell_type": "markdown",
   "id": "fb209ded-dba0-490c-bef9-4f2248f54105",
   "metadata": {},
   "source": [
    "## Supervised and Unsupervised Learning"
   ]
  },
  {
   "cell_type": "code",
   "execution_count": null,
   "id": "9c5836e0-faf4-4af8-95de-f740316bf7a9",
   "metadata": {},
   "outputs": [],
   "source": []
  },
  {
   "cell_type": "markdown",
   "id": "e4759d78-a56e-4aec-85e5-2ed18d51e926",
   "metadata": {},
   "source": [
    "### Clustering"
   ]
  },
  {
   "cell_type": "markdown",
   "id": "36187268-d385-45d5-8d75-1e29288c431b",
   "metadata": {},
   "source": [
    "## Classification and Regression"
   ]
  },
  {
   "cell_type": "markdown",
   "id": "7cf7e1e6-0db7-44fd-b326-3169a1e85c55",
   "metadata": {},
   "source": [
    "## Hybrid Models"
   ]
  },
  {
   "cell_type": "code",
   "execution_count": null,
   "id": "42b3416e-2698-405e-8805-6ab84ed193a2",
   "metadata": {},
   "outputs": [],
   "source": []
  }
 ],
 "metadata": {
  "kernelspec": {
   "display_name": "Python 3 (ipykernel)",
   "language": "python",
   "name": "python3"
  },
  "language_info": {
   "codemirror_mode": {
    "name": "ipython",
    "version": 3
   },
   "file_extension": ".py",
   "mimetype": "text/x-python",
   "name": "python",
   "nbconvert_exporter": "python",
   "pygments_lexer": "ipython3",
   "version": "3.8.10"
  }
 },
 "nbformat": 4,
 "nbformat_minor": 5
}
