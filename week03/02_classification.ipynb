{
 "cells": [
  {
   "cell_type": "markdown",
   "id": "74adcb00-865b-4fde-9f3d-f581cd5c9699",
   "metadata": {},
   "source": [
    "# Classification in Sklearn\n",
    "In this tutorial, we will learn more about classifying data.\n",
    "\n",
    "Here, we will load and benchmark (compare) a few algorithms for a multi-class classification problem.\n",
    "\n",
    "More specifically, we'll have a look at the [polymers dataset](https://www.kaggle.com/datasets/victorsabanzagil/polymers) and we will try to classify the polymers based on their feature vector, which is a numerical representation of the SMILEs.\n",
    "\n",
    "The code is inspired by [this notebook](https://www.kaggle.com/code/yeonseokcho/polymers-classification).\n",
    "\n",
    "Please download the data at the given link and start the tutorial."
   ]
  },
  {
   "cell_type": "code",
   "execution_count": 3,
   "id": "0600e931-d784-40de-a78e-7bc70917c8c9",
   "metadata": {},
   "outputs": [],
   "source": [
    "import pandas as pd\n",
    "import numpy as np\n",
    "\n",
    "from sklearn.metrics import f1_score\n",
    "from sklearn.linear_model import LogisticRegression\n",
    "from sklearn.tree import DecisionTreeClassifier\n",
    "from sklearn.neighbors import KNeighborsClassifier\n",
    "from sklearn.svm import SVC\n",
    "from sklearn.ensemble import RandomForestClassifier\n",
    "\n",
    "from sklearn.metrics import confusion_matrix\n",
    "import seaborn as sns\n",
    "import matplotlib.pyplot as plt"
   ]
  },
  {
   "cell_type": "code",
   "execution_count": 4,
   "id": "303fe282-d759-4cb7-bae4-ee8812d336ca",
   "metadata": {},
   "outputs": [
    {
     "data": {
      "text/html": [
       "<div>\n",
       "<style scoped>\n",
       "    .dataframe tbody tr th:only-of-type {\n",
       "        vertical-align: middle;\n",
       "    }\n",
       "\n",
       "    .dataframe tbody tr th {\n",
       "        vertical-align: top;\n",
       "    }\n",
       "\n",
       "    .dataframe thead th {\n",
       "        text-align: right;\n",
       "    }\n",
       "</style>\n",
       "<table border=\"1\" class=\"dataframe\">\n",
       "  <thead>\n",
       "    <tr style=\"text-align: right;\">\n",
       "      <th></th>\n",
       "      <th>smiles</th>\n",
       "      <th>label</th>\n",
       "      <th>0</th>\n",
       "      <th>1</th>\n",
       "      <th>2</th>\n",
       "      <th>3</th>\n",
       "      <th>4</th>\n",
       "      <th>5</th>\n",
       "      <th>6</th>\n",
       "      <th>7</th>\n",
       "      <th>...</th>\n",
       "      <th>2038</th>\n",
       "      <th>2039</th>\n",
       "      <th>2040</th>\n",
       "      <th>2041</th>\n",
       "      <th>2042</th>\n",
       "      <th>2043</th>\n",
       "      <th>2044</th>\n",
       "      <th>2045</th>\n",
       "      <th>2046</th>\n",
       "      <th>2047</th>\n",
       "    </tr>\n",
       "  </thead>\n",
       "  <tbody>\n",
       "    <tr>\n",
       "      <th>0</th>\n",
       "      <td>C(Cl)CCC(c1ccccc1)CCC(Cl)C</td>\n",
       "      <td>plastic</td>\n",
       "      <td>0</td>\n",
       "      <td>1</td>\n",
       "      <td>0</td>\n",
       "      <td>0</td>\n",
       "      <td>0</td>\n",
       "      <td>0</td>\n",
       "      <td>0</td>\n",
       "      <td>0</td>\n",
       "      <td>...</td>\n",
       "      <td>0</td>\n",
       "      <td>0</td>\n",
       "      <td>0</td>\n",
       "      <td>1</td>\n",
       "      <td>0</td>\n",
       "      <td>0</td>\n",
       "      <td>0</td>\n",
       "      <td>0</td>\n",
       "      <td>0</td>\n",
       "      <td>0</td>\n",
       "    </tr>\n",
       "    <tr>\n",
       "      <th>1</th>\n",
       "      <td>OC(=O)[C@]([H])(CC1=CC=C(O)C=C1)NC(=O)[C@]([H]...</td>\n",
       "      <td>peptide</td>\n",
       "      <td>0</td>\n",
       "      <td>1</td>\n",
       "      <td>0</td>\n",
       "      <td>0</td>\n",
       "      <td>0</td>\n",
       "      <td>0</td>\n",
       "      <td>0</td>\n",
       "      <td>0</td>\n",
       "      <td>...</td>\n",
       "      <td>0</td>\n",
       "      <td>0</td>\n",
       "      <td>0</td>\n",
       "      <td>0</td>\n",
       "      <td>0</td>\n",
       "      <td>0</td>\n",
       "      <td>0</td>\n",
       "      <td>0</td>\n",
       "      <td>0</td>\n",
       "      <td>0</td>\n",
       "    </tr>\n",
       "    <tr>\n",
       "      <th>2</th>\n",
       "      <td>O[C@]([C@@]([H])(CO)O[C@@](O)([H])[C@]([H])1O)...</td>\n",
       "      <td>oligosaccharide</td>\n",
       "      <td>0</td>\n",
       "      <td>0</td>\n",
       "      <td>0</td>\n",
       "      <td>0</td>\n",
       "      <td>0</td>\n",
       "      <td>0</td>\n",
       "      <td>0</td>\n",
       "      <td>0</td>\n",
       "      <td>...</td>\n",
       "      <td>0</td>\n",
       "      <td>0</td>\n",
       "      <td>0</td>\n",
       "      <td>0</td>\n",
       "      <td>0</td>\n",
       "      <td>0</td>\n",
       "      <td>0</td>\n",
       "      <td>0</td>\n",
       "      <td>0</td>\n",
       "      <td>0</td>\n",
       "    </tr>\n",
       "    <tr>\n",
       "      <th>3</th>\n",
       "      <td>C(Cl)CCC(c1ccccc1)C(Cl)CCC</td>\n",
       "      <td>plastic</td>\n",
       "      <td>0</td>\n",
       "      <td>1</td>\n",
       "      <td>0</td>\n",
       "      <td>0</td>\n",
       "      <td>0</td>\n",
       "      <td>0</td>\n",
       "      <td>0</td>\n",
       "      <td>0</td>\n",
       "      <td>...</td>\n",
       "      <td>0</td>\n",
       "      <td>0</td>\n",
       "      <td>0</td>\n",
       "      <td>0</td>\n",
       "      <td>0</td>\n",
       "      <td>0</td>\n",
       "      <td>0</td>\n",
       "      <td>0</td>\n",
       "      <td>0</td>\n",
       "      <td>0</td>\n",
       "    </tr>\n",
       "    <tr>\n",
       "      <th>4</th>\n",
       "      <td>CCC(Cl)CC(Cl)CCCC(C)CCC(c1ccccc1)</td>\n",
       "      <td>plastic</td>\n",
       "      <td>0</td>\n",
       "      <td>1</td>\n",
       "      <td>0</td>\n",
       "      <td>0</td>\n",
       "      <td>0</td>\n",
       "      <td>0</td>\n",
       "      <td>0</td>\n",
       "      <td>0</td>\n",
       "      <td>...</td>\n",
       "      <td>0</td>\n",
       "      <td>0</td>\n",
       "      <td>0</td>\n",
       "      <td>0</td>\n",
       "      <td>0</td>\n",
       "      <td>0</td>\n",
       "      <td>0</td>\n",
       "      <td>0</td>\n",
       "      <td>0</td>\n",
       "      <td>0</td>\n",
       "    </tr>\n",
       "  </tbody>\n",
       "</table>\n",
       "<p>5 rows × 2050 columns</p>\n",
       "</div>"
      ],
      "text/plain": [
       "                                              smiles            label  0  1  \\\n",
       "0                         C(Cl)CCC(c1ccccc1)CCC(Cl)C          plastic  0  1   \n",
       "1  OC(=O)[C@]([H])(CC1=CC=C(O)C=C1)NC(=O)[C@]([H]...          peptide  0  1   \n",
       "2  O[C@]([C@@]([H])(CO)O[C@@](O)([H])[C@]([H])1O)...  oligosaccharide  0  0   \n",
       "3                         C(Cl)CCC(c1ccccc1)C(Cl)CCC          plastic  0  1   \n",
       "4                  CCC(Cl)CC(Cl)CCCC(C)CCC(c1ccccc1)          plastic  0  1   \n",
       "\n",
       "   2  3  4  5  6  7  ...  2038  2039  2040  2041  2042  2043  2044  2045  \\\n",
       "0  0  0  0  0  0  0  ...     0     0     0     1     0     0     0     0   \n",
       "1  0  0  0  0  0  0  ...     0     0     0     0     0     0     0     0   \n",
       "2  0  0  0  0  0  0  ...     0     0     0     0     0     0     0     0   \n",
       "3  0  0  0  0  0  0  ...     0     0     0     0     0     0     0     0   \n",
       "4  0  0  0  0  0  0  ...     0     0     0     0     0     0     0     0   \n",
       "\n",
       "   2046  2047  \n",
       "0     0     0  \n",
       "1     0     0  \n",
       "2     0     0  \n",
       "3     0     0  \n",
       "4     0     0  \n",
       "\n",
       "[5 rows x 2050 columns]"
      ]
     },
     "execution_count": 4,
     "metadata": {},
     "output_type": "execute_result"
    }
   ],
   "source": [
    "polymers_df = pd. read_csv('C:/Users/fiacac/Downloads/polymers/polymers_dataset.csv', index_col=0)\n",
    "polymers_df.head()"
   ]
  },
  {
   "cell_type": "markdown",
   "id": "8bdf9a2c-ffe7-4fd1-b3aa-361cc9fae856",
   "metadata": {},
   "source": [
    "Let's investigate the data first."
   ]
  },
  {
   "cell_type": "code",
   "execution_count": 5,
   "id": "2298cca0-e612-4f9a-b098-b051353c28d4",
   "metadata": {},
   "outputs": [
    {
     "name": "stdout",
     "output_type": "stream",
     "text": [
      "Unique labels: ['plastic' 'peptide' 'oligosaccharide']\n",
      "\n",
      "Labels distrubution:\n",
      "oligosaccharide    6949\n",
      "peptide            6868\n",
      "plastic            6792\n",
      "Name: label, dtype: int64\n"
     ]
    }
   ],
   "source": [
    "print('Unique labels:', polymers_df.label.unique())\n",
    "print()\n",
    "print('Labels distrubution:')\n",
    "print(polymers_df.label.value_counts())"
   ]
  },
  {
   "cell_type": "markdown",
   "id": "6ed86b9b-df59-4b63-b2d9-b0e897202724",
   "metadata": {},
   "source": [
    "Prepare dataset for prediction by encoding categorical variables (labels).\n",
    "We do this because most models cannot handle categorical variables (text) and therefore we replace them with a numberical encoding."
   ]
  },
  {
   "cell_type": "code",
   "execution_count": 6,
   "id": "567f59bd-c34b-4b3f-9091-ec90fef48918",
   "metadata": {},
   "outputs": [
    {
     "data": {
      "text/plain": [
       "0        0\n",
       "1        1\n",
       "2        2\n",
       "3        0\n",
       "4        0\n",
       "        ..\n",
       "20604    0\n",
       "20605    2\n",
       "20606    2\n",
       "20607    1\n",
       "20608    0\n",
       "Name: label, Length: 20609, dtype: int32"
      ]
     },
     "execution_count": 6,
     "metadata": {},
     "output_type": "execute_result"
    }
   ],
   "source": [
    "polymers_df['label'] = np.where(polymers_df['label'] == 'plastic', 0,\n",
    "               np.where(polymers_df['label'] == 'peptide', 1, 2))\n",
    "\n",
    "polymers_df['label']"
   ]
  },
  {
   "cell_type": "markdown",
   "id": "49023247-1fa1-46e2-8265-82304ca612db",
   "metadata": {},
   "source": [
    "Now let's prepare the dataset for the classification task.\n",
    "\n",
    "Since this problem is quite easy, we'll use less features than available (only the first 48 features in the vector representation) to bemnchmark various models. You can try to usee all features and see the results."
   ]
  },
  {
   "cell_type": "code",
   "execution_count": 7,
   "id": "c7bc6294-d38b-4ee3-8a9e-3fe8c442452e",
   "metadata": {},
   "outputs": [
    {
     "name": "stdout",
     "output_type": "stream",
     "text": [
      "(20609, 48) (20609,)\n",
      "(16487, 48) (4122, 48) (16487,) (4122,)\n"
     ]
    }
   ],
   "source": [
    "# here we'll use less features than available to bemnchmark various models \n",
    "# (otherwise every model has 100% accuracy)\n",
    "X_feature = polymers_df.iloc[:, 2:50]\n",
    "y_target = polymers_df[\"label\"].values\n",
    "print(X_feature.shape, y_target.shape)\n",
    "\n",
    "from sklearn.model_selection import train_test_split\n",
    "X_train, X_test, y_train, y_test = train_test_split(X_feature, y_target, test_size=0.2, random_state=1)\n",
    "print(X_train.shape, X_test.shape, y_train.shape, y_test.shape)"
   ]
  },
  {
   "cell_type": "code",
   "execution_count": 11,
   "id": "9f6f7804-a115-4687-adcd-f7d944752db6",
   "metadata": {},
   "outputs": [],
   "source": [
    "def predictions(classifier, X_train, y_train, X_test, y_test):\n",
    "    classifier.fit(X_train, y_train)\n",
    "    print(classifier.score(X_test, y_test))\n",
    "\n",
    "    cm = confusion_matrix(classifier.predict(X_test), y_test)\n",
    "    sns.heatmap(cm, annot=True, cmap='viridis')\n",
    "    plt.title('Confusion matrix')\n",
    "    plt.show()"
   ]
  },
  {
   "cell_type": "code",
   "execution_count": 12,
   "id": "d8cf3111-83f8-4c52-8996-b3a378c93831",
   "metadata": {},
   "outputs": [
    {
     "name": "stdout",
     "output_type": "stream",
     "text": [
      "LogisticRegression\n",
      "0.8653566229985444\n"
     ]
    },
    {
     "data": {
      "image/png": "[encoded data removed]",
      "text/plain": [
       "<Figure size 432x288 with 2 Axes>"
      ]
     },
     "metadata": {
      "needs_background": "light"
     },
     "output_type": "display_data"
    },
    {
     "name": "stdout",
     "output_type": "stream",
     "text": [
      "DecisionTreeClassifier\n",
      "0.789665211062591\n"
     ]
    },
    {
     "data": {
      "image/png": "[encoded data removed]",
      "text/plain": [
       "<Figure size 432x288 with 2 Axes>"
      ]
     },
     "metadata": {
      "needs_background": "light"
     },
     "output_type": "display_data"
    },
    {
     "name": "stdout",
     "output_type": "stream",
     "text": [
      "KNeighborsClassifier\n",
      "0.7564289180009705\n"
     ]
    },
    {
     "data": {
      "image/png": "[encoded data removed]",
      "text/plain": [
       "<Figure size 432x288 with 2 Axes>"
      ]
     },
     "metadata": {
      "needs_background": "light"
     },
     "output_type": "display_data"
    },
    {
     "name": "stdout",
     "output_type": "stream",
     "text": [
      "SVC\n",
      "0.8670548277535177\n"
     ]
    },
    {
     "data": {
      "image/png": "[encoded data removed]",
      "text/plain": [
       "<Figure size 432x288 with 2 Axes>"
      ]
     },
     "metadata": {
      "needs_background": "light"
     },
     "output_type": "display_data"
    },
    {
     "name": "stdout",
     "output_type": "stream",
     "text": [
      "RandomForestClassifier\n",
      "0.8651140223192625\n"
     ]
    },
    {
     "data": {
      "image/png": "[encoded data removed]",
      "text/plain": [
       "<Figure size 432x288 with 2 Axes>"
      ]
     },
     "metadata": {
      "needs_background": "light"
     },
     "output_type": "display_data"
    }
   ],
   "source": [
    "print('LogisticRegression')\n",
    "predictions(LogisticRegression(max_iter=1000), X_train, y_train, X_test, y_test)\n",
    "\n",
    "print('DecisionTreeClassifier')\n",
    "predictions(DecisionTreeClassifier(random_state=42, max_depth=3), X_train, y_train, X_test, y_test)\n",
    "\n",
    "print('KNeighborsClassifier')\n",
    "predictions(KNeighborsClassifier(), X_train, y_train, X_test, y_test)\n",
    "\n",
    "print('SVC')\n",
    "predictions(SVC(random_state=2207, probability=True), X_train, y_train, X_test, y_test)\n",
    "\n",
    "print('RandomForestClassifier')\n",
    "predictions(RandomForestClassifier(random_state=0), X_train, y_train, X_test, y_test)"
   ]
  },
  {
   "cell_type": "markdown",
   "id": "cabefdeb-17f7-4461-9fe8-d6278aca6231",
   "metadata": {},
   "source": [
    "**Exercise:** Try to read the sklearn documentation of each model used in this tutorial and adject some of the parameters, e.g., number of iterations. Can you improve the accuracy?"
   ]
  },
  {
   "cell_type": "code",
   "execution_count": 13,
   "id": "6fd6f0dd-370d-4d71-aac2-07bd5768a3b0",
   "metadata": {},
   "outputs": [],
   "source": [
    "# Your code here"
   ]
  },
  {
   "cell_type": "markdown",
   "id": "a1c74979-4891-408e-97e8-61d0ca502071",
   "metadata": {},
   "source": [
    "**Exercise:** Try to read the [sklearn documentation](https://scikit-learn.org/stable/modules/multiclass.html) about multi-class classification and try out different models."
   ]
  },
  {
   "cell_type": "code",
   "execution_count": 14,
   "id": "809ad3c3-d5cb-4eed-bacd-cbbc436025b3",
   "metadata": {},
   "outputs": [],
   "source": [
    "# Your code here"
   ]
  }
 ],
 "metadata": {
  "kernelspec": {
   "display_name": "Python 3 (ipykernel)",
   "language": "python",
   "name": "python3"
  },
  "language_info": {
   "codemirror_mode": {
    "name": "ipython",
    "version": 3
   },
   "file_extension": ".py",
   "mimetype": "text/x-python",
   "name": "python",
   "nbconvert_exporter": "python",
   "pygments_lexer": "ipython3",
   "version": "3.10.10"
  }
 },
 "nbformat": 4,
 "nbformat_minor": 5
}
