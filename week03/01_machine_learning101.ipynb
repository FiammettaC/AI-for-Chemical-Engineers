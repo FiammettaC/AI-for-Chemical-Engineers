{
 "cells": [
  {
   "cell_type": "markdown",
   "id": "817c99bb-9b4f-44d1-ae5a-578fd7591c17",
   "metadata": {},
   "source": [
    "# What is Machine Learning?\n",
    "\n",
    "This notebook aims to provide a short (but hopefully comprehensive) introduction to Machine Learning (ML). \n",
    "Moreover, we will learn various techniques to extract information from data.\n",
    "\n",
    "The module is split into two subtopics:\n",
    "- **Supervised and unsupervised learning**.\n",
    "- **Classification and regression techniques**.\n",
    "\n",
    "- Moreover, we will introduce the concept of **hybrid** models, which are currently very popular in the field of Chemical Engineering."
   ]
  },
  {
   "cell_type": "markdown",
   "id": "69c1b7e2-c27c-4acb-ba32-429d7da84710",
   "metadata": {},
   "source": [
    "Let's start with some definitions.\n",
    "\n",
    "Generally, we divide how algorithms can be used for learning into three approaches: **Supervised**, **Unsupervised** and **Reinforcement** learning.\n",
    "In this course, we will focus only on supervised and unsupervised learning, leaving reinforcement learning for a different (and perhaps more advanced) course.\n",
    "\n",
    "- **SUPERVISED LEARNING**: is a machine learning approach where labeled datasets are available. These datasets are used to train (or supervise) the algorithms for predicting an outcome. The labeled inputs and outputs are therefore used for the model to learn over time, and metrics can be calculated to estimate how accurate the model is. Supervised learning can be further divided into **classification** and **regression** tasks. \n",
    "\n",
    "- **UNSUPERVISED LEARNING**: is a machine learning approach that uses algorithms to analyze or cluster unlabeled data. The algorithms are used to discover patterns in the data, without the need for human labeling (and are therefore \"unsupervised\"). "
   ]
  },
  {
   "cell_type": "markdown",
   "id": "7d133383-bf45-45b9-a26d-3e30ef4cb713",
   "metadata": {},
   "source": [
    "We saw a few examples of these concepts in week 3, two examples of classification (02_classification.ipynb) and one of clustering (03_clustering_and_pca.ipynb).\n",
    "\n",
    "In this week, we'll deep dive more into the topic and get more familiar with different techniques of both supervised and unsupervised learning.\n",
    "For unsupervised learning, we'll focus on clustering."
   ]
  }
 ],
 "metadata": {
  "kernelspec": {
   "display_name": "Python 3 (ipykernel)",
   "language": "python",
   "name": "python3"
  },
  "language_info": {
   "codemirror_mode": {
    "name": "ipython",
    "version": 3
   },
   "file_extension": ".py",
   "mimetype": "text/x-python",
   "name": "python",
   "nbconvert_exporter": "python",
   "pygments_lexer": "ipython3",
   "version": "3.10.10"
  }
 },
 "nbformat": 4,
 "nbformat_minor": 5
}
