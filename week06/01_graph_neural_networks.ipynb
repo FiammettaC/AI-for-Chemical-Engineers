{
 "cells": [
  {
   "cell_type": "markdown",
   "source": [
    "# Graph Neural Networks (GNNs)"
   ],
   "metadata": {
    "collapsed": false
   },
   "id": "b1a5e566e58ef9fb"
  },
  {
   "cell_type": "markdown",
   "source": [
    "### Importing libraries and getting started"
   ],
   "metadata": {
    "collapsed": false
   },
   "id": "95cff92aec28929c"
  },
  {
   "cell_type": "code",
   "execution_count": 1,
   "outputs": [],
   "source": [
    "%matplotlib inline\n",
    "try:\n",
    "    import torch\n",
    "    from torch_geometric.datasets import MoleculeNet\n",
    "    from torch_geometric.loader import DataLoader\n",
    "    from rdkit import Chem\n",
    "    from utils.graph import GenFeatures, seed_everything, EarlyStopping\n",
    "    from torch_geometric.nn.models import AttentiveFP\n",
    "    import torch.nn.functional as F\n",
    "    from math import sqrt\n",
    "    from sklearn.metrics import r2_score, mean_absolute_error, mean_squared_error\n",
    "    import matplotlib.pyplot as plt\n",
    "    import seaborn as sns\n",
    "except ImportError:\n",
    "    !pip install torch\n",
    "    !pip install rdkit\n",
    "    !pip install torch_geometric\n",
    "    !pip install sklearn\n",
    "    !pip install matplotlib\n",
    "    !pip install seaborn\n",
    "    "
   ],
   "metadata": {
    "collapsed": false,
    "ExecuteTime": {
     "end_time": "2024-02-20T08:00:25.787003900Z",
     "start_time": "2024-02-20T08:00:17.540810500Z"
    }
   },
   "id": "3594c8294d9c935b"
  },
  {
   "cell_type": "markdown",
   "source": [
    "Many datasets are available as open access, in this tutorial we work with the (ESOL - Estimated SOLubility) dataset by [Delaney 2014](https://pubs.acs.org/doi/10.1021/ci034243x). The data has been heavily used for benchmarking QSPRs (Quantitative Structure-Property Relations). All data are experimental and describe the logarithm of the solubility of organic compounds in water in mol/L."
   ],
   "metadata": {
    "collapsed": false
   },
   "id": "3a2b73be6d1f939d"
  },
  {
   "cell_type": "code",
   "execution_count": 2,
   "outputs": [],
   "source": [
    "from sklearn.metrics import r2_score, mean_absolute_error, mean_squared_error"
   ],
   "metadata": {
    "collapsed": false,
    "ExecuteTime": {
     "end_time": "2024-02-20T08:00:25.801635800Z",
     "start_time": "2024-02-20T08:00:25.791070500Z"
    }
   },
   "id": "5617a858e249cb20"
  },
  {
   "cell_type": "code",
   "execution_count": 3,
   "outputs": [
    {
     "name": "stdout",
     "output_type": "stream",
     "text": [
      "ESOL is a dataset of N=1128 measured solubility of organic compounds in water. The solubility is expressed in terms of logWs and the solubility is expressed in mol/L. The featurization process produces node and edge features of 39 atom features and 10 bond features\n"
     ]
    },
    {
     "name": "stderr",
     "output_type": "stream",
     "text": [
      "C:\\Users\\arnaou\\AppData\\Local\\miniconda3\\envs\\qspr\\lib\\site-packages\\torch_geometric\\data\\in_memory_dataset.py:284: UserWarning: It is not recommended to directly access the internal storage format `data` of an 'InMemoryDataset'. The given 'InMemoryDataset' only references a subset of examples of the full dataset, but 'data' will contain information of the full dataset. If you are absolutely certain what you are doing, access the internal storage via `InMemoryDataset._data` instead to suppress this warning. Alternatively, you can access stacked individual attributes of every graph via `dataset.{attr_name}`.\n",
      "  warnings.warn(msg)\n"
     ]
    }
   ],
   "source": [
    "# define path\n",
    "path = 'data/'\n",
    "#set seed for reproducibility\n",
    "seed_everything(45)\n",
    "\n",
    "# load the data\n",
    "dataset = MoleculeNet(path, name='ESOL', pre_transform=GenFeatures()).shuffle()\n",
    "\n",
    "print(\"ESOL is a dataset of N={} measured solubility of organic compounds in water. The solubility is expressed in terms of logWs and the solubility is expressed in mol/L. The featurization process produces node and edge features of {} atom features and {} bond features\".format(\n",
    "dataset.data.y.shape[0], dataset.data.x.shape[1], dataset.data.edge_attr.shape[1]))"
   ],
   "metadata": {
    "collapsed": false,
    "ExecuteTime": {
     "end_time": "2024-02-20T08:00:25.895220200Z",
     "start_time": "2024-02-20T08:00:25.801635800Z"
    }
   },
   "id": "6d68782ae3cf05ea"
  },
  {
   "cell_type": "markdown",
   "source": [
    "### Graph Neural Networks - intuitive approach for QSPR modelling"
   ],
   "metadata": {
    "collapsed": false
   },
   "id": "aa27f41582e03bcb"
  },
  {
   "cell_type": "markdown",
   "source": [
    "Formally, a graph *G(v,e)* is composed of a set of vertices/nodes *v* linked with a set of edges *e*. This is very much in resemblance with how molecules are depicted using the ball-and-stick representation as seen below for the caffeine molecule (figure courtesy of [Adem R.N. Aouichaoui](https://github.com/arnaou/arnaou)).\n",
    "\n",
    "![Molecular graphs](img/graph_mol.png)"
   ],
   "metadata": {
    "collapsed": false
   },
   "id": "3ebed781dcd11857"
  },
  {
   "cell_type": "markdown",
   "source": [
    "A graph neural network (GNN) is a special type of neural network that operates on graph data. GNNs can be used for node prediction, edge prediction and graph prediction. For the purpose of this tutorial, we only consider graph-level prediction e.i. predict something related to the graph as whole, in this case, the property.\n",
    "\n",
    "The GNN operates on a graph through what is called the \"*message-passing framework*\". This framework consists of three main operations:\n",
    "* Message construction: neighbouring nodes/edges combine their hidden representation to produce a message\n",
    "* Node/edge update: the message is then used to update the hidden representation of the node/edge\n",
    "* Graph-to-vector transformation: after sufficient iterations of the above-mentioned steps, the graph representation is converted into a vector representation. This operation is also known as the readout.\n",
    "\n",
    "The output of the readout is used as input to a feedforward neural network also known as multi-layer perceptron - MLP.\n",
    "\n",
    "The process is illustrated below (figure courtesy of [Adem R.N. Aouichaoui](https://github.com/arnaou/arnaou)).\n",
    "\n",
    "![GNN framework](img/gnn_framework.png)\n"
   ],
   "metadata": {
    "collapsed": false
   },
   "id": "f3a48a17872be8b2"
  },
  {
   "cell_type": "markdown",
   "source": [
    "the hidden features of the nodes and edges reflect the molecular structural information, which are necessary for the given application (molecular property prediction). As mentioned earlier, 39 atom features and 10 bond features were used. These were selected in accordance to previous studies:\n",
    "* [Pushing the Boundaries of Molecular Representation for Drug Discovery with the Graph Attention Mechanism](https://pubs.acs.org/doi/10.1021/acs.jmedchem.9b00959)\n",
    "* [Combining Group-Contribution Concept and Graph Neural Networks Toward Interpretable Molecular Property Models](https://pubs.acs.org/doi/full/10.1021/acs.jcim.2c01091)\n",
    "* [Application of interpretable group-embedded graph neural networks for pure compound properties](https://www.sciencedirect.com/science/article/pii/S0098135423001618)\n",
    "\n",
    "These features are summarized below:\n",
    "\n",
    "| **atom feature**  \t| **size** \t| **description**                                                       \t|\n",
    "|-------------------\t|----------\t|-----------------------------------------------------------------------\t|\n",
    "| atom type         \t| 16       \t| [B, C, N, O, F, Si, P, S, Cl, As, Se, Br, Te, I, At, metal] (one-hot) \t|\n",
    "| degree            \t| 6        \t| number of covalent bonds [0,1,2,3,4,5] (one-hot)                      \t|\n",
    "| formal charge     \t| 1        \t| electrical charge (integer)                                           \t|\n",
    "| radical electrons \t| 1        \t| number of radical electrons (integer)                                 \t|\n",
    "| hybridization     \t| 6        \t| [sp, sp2, sp3, sp3d, sp3d2, other] (one-hot)                          \t|\n",
    "| aromaticity       \t| 1        \t| whether the atom is part of an aromatic system [0/1] (one-hot)        \t|\n",
    "| hydrogens         \t| 5        \t| number of connected hydrogens [0,1,2,3,4] (one-hot)                   \t|\n",
    "| chirality         \t| 1        \t| whether the atom is chiral center [0/1] (one-hot)                     \t|\n",
    "| chirality type    \t| 2        \t| [R, S] (one-hot)                                                      \t|\n",
    "\n",
    "\n",
    "| **bond feature**  \t| **size** \t| **description**                                                       \t|\n",
    "|-------------------\t|----------\t|-----------------------------------------------------------------------\t|\n",
    "| bond type         \t| 4        \t| [single, double, triple, aromatic] (one-hot)                          \t|\n",
    "| conjugation       \t| 1        \t| whether the bond is conjugated [0/1] (one-hot)                        \t|\n",
    "| ring              \t| 1        \t| whether the bond is in ring [0/1] (one-hot)                           \t|\n",
    "| stereo            \t| 4        \t| [StereoNone, StereoAny, StereoZ, StereoE] (one-hot)                   \t|\n"
   ],
   "metadata": {
    "collapsed": false
   },
   "id": "dd890623a75b7183"
  },
  {
   "cell_type": "markdown",
   "source": [
    "### Preprocessing"
   ],
   "metadata": {
    "collapsed": false
   },
   "id": "18205d02545cd434"
  },
  {
   "cell_type": "markdown",
   "source": [
    "The data are split into three folds for: i) training, ii) validation and iii) testing.\n",
    "\n",
    "The ratios chosen here are arbitrary and the split is (in principle) random (see the shuffle command when loading the data)"
   ],
   "metadata": {
    "collapsed": false
   },
   "id": "8798e00b6852e4ef"
  },
  {
   "cell_type": "code",
   "execution_count": 4,
   "outputs": [],
   "source": [
    "N = len(dataset) // 10\n",
    "val_dataset = dataset[:N]\n",
    "test_dataset = dataset[N:2 * N]\n",
    "train_dataset = dataset[2 * N:]"
   ],
   "metadata": {
    "collapsed": false,
    "ExecuteTime": {
     "end_time": "2024-02-20T08:00:25.942155500Z",
     "start_time": "2024-02-20T08:00:25.895220200Z"
    }
   },
   "id": "5824a27f2ae60144"
  },
  {
   "cell_type": "markdown",
   "source": [
    "The outputs are scaled using z-score scaling"
   ],
   "metadata": {
    "collapsed": false
   },
   "id": "fd9dffabac4e39c3"
  },
  {
   "cell_type": "code",
   "execution_count": 5,
   "outputs": [],
   "source": [
    "# calculate scaling parameters\n",
    "mu = train_dataset.data.y.mean()\n",
    "sigma = train_dataset.data.y.std()\n",
    "\n",
    "# scale the data\n",
    "train_dataset.data.y = (train_dataset.data.y-mu)/sigma\n",
    "val_dataset.data.y = (val_dataset.data.y-mu)/sigma\n",
    "test_dataset.data.y = (test_dataset.data.y-mu)/sigma"
   ],
   "metadata": {
    "collapsed": false,
    "ExecuteTime": {
     "end_time": "2024-02-20T08:00:25.957766800Z",
     "start_time": "2024-02-20T08:00:25.910907700Z"
    }
   },
   "id": "e253a9e081ae1c8"
  },
  {
   "cell_type": "markdown",
   "source": [
    "We use the dataloaders to pack the data and make the iterable for the training and batching. The batch size is set to the size of the dataset in order to obtain the true gradient"
   ],
   "metadata": {
    "collapsed": false
   },
   "id": "aa2d1e239e6b123e"
  },
  {
   "cell_type": "code",
   "execution_count": 6,
   "outputs": [],
   "source": [
    "# implement dataloader for the data\n",
    "train_loader = DataLoader(train_dataset, batch_size=train_dataset.data.y.shape[0], shuffle=False)\n",
    "val_loader = DataLoader(val_dataset, batch_size=val_dataset.data.y.shape[0])\n",
    "test_loader = DataLoader(test_dataset, batch_size=test_dataset.data.y.shape[0])"
   ],
   "metadata": {
    "collapsed": false,
    "ExecuteTime": {
     "end_time": "2024-02-20T08:00:25.973374200Z",
     "start_time": "2024-02-20T08:00:25.926507800Z"
    }
   },
   "id": "36bd7685ef970380"
  },
  {
   "cell_type": "markdown",
   "source": [
    "The training can be GPU enabled as follows"
   ],
   "metadata": {
    "collapsed": false
   },
   "id": "6bca5a6712925d47"
  },
  {
   "cell_type": "code",
   "execution_count": 7,
   "outputs": [],
   "source": [
    "device = torch.device('cuda' if torch.cuda.is_available() else 'cpu')"
   ],
   "metadata": {
    "collapsed": false,
    "ExecuteTime": {
     "end_time": "2024-02-20T08:00:25.973374200Z",
     "start_time": "2024-02-20T08:00:25.942155500Z"
    }
   },
   "id": "7f21963201eb852a"
  },
  {
   "cell_type": "markdown",
   "source": [
    "### Model definition and model training"
   ],
   "metadata": {
    "collapsed": false
   },
   "id": "470c55fc01a24430"
  },
  {
   "cell_type": "markdown",
   "source": [
    "In this tutorial, we will train the *attentiveFP* developed by [Xiong et al. 2021](https://pubs.acs.org/doi/10.1021/acs.jmedchem.9b00959). More details can be found the provided reference or at the [PyG documentation](https://pytorch-geometric.readthedocs.io/en/latest/_modules/torch_geometric/nn/models/attentive_fp.html)"
   ],
   "metadata": {
    "collapsed": false
   },
   "id": "4906dc6b9bbf6eb3"
  },
  {
   "cell_type": "code",
   "execution_count": 8,
   "outputs": [],
   "source": [
    "# defining model\n",
    "model = AttentiveFP(in_channels=dataset.data.x.shape[1], hidden_channels=111, out_channels=dataset.data.y.shape[1],\n",
    "                    edge_dim=dataset.data.edge_attr.shape[1], num_layers=2, num_timesteps=2,\n",
    "                    dropout=0.0).to(device)"
   ],
   "metadata": {
    "collapsed": false,
    "ExecuteTime": {
     "end_time": "2024-02-20T08:00:26.021182100Z",
     "start_time": "2024-02-20T08:00:25.957766800Z"
    }
   },
   "id": "abe32eed07a61061"
  },
  {
   "cell_type": "markdown",
   "source": [
    "We then set up the training. In this training we use some advanced tools that are explained in the following:\n",
    "* early stopping: a regularization technique that ensure the model with the lowest validation score is saved and reloaded in case the error increases (overfitting). The patience, is the number of epochs to wait before terminating the training.\n",
    "* learning rate scheduler: in case the learning stagnates, the learning rate is decreased to squeeze the last learnings out. it refines the learning."
   ],
   "metadata": {
    "collapsed": false
   },
   "id": "34c24bc514bcce2e"
  },
  {
   "cell_type": "code",
   "execution_count": 9,
   "outputs": [
    {
     "name": "stdout",
     "output_type": "stream",
     "text": [
      "Validation loss decreased (inf --> 1.442582).  Saving model ...\n",
      "Epoch: 001, Loss: 2.0616 Val: 1.4426 Test: 1.4460\n",
      "EarlyStopping counter: 1 out of 20\n",
      "Epoch: 002, Loss: 1.4221 Val: 1.6006 Test: 1.2207\n",
      "Validation loss decreased (1.442582 --> 1.191518).  Saving model ...\n",
      "Epoch: 003, Loss: 1.2999 Val: 1.1915 Test: 0.9870\n",
      "Validation loss decreased (1.191518 --> 0.952641).  Saving model ...\n",
      "Epoch: 004, Loss: 1.0209 Val: 0.9526 Test: 0.8702\n",
      "Validation loss decreased (0.952641 --> 0.824240).  Saving model ...\n",
      "Epoch: 005, Loss: 0.8719 Val: 0.8242 Test: 0.7722\n",
      "Validation loss decreased (0.824240 --> 0.695892).  Saving model ...\n",
      "Epoch: 006, Loss: 0.7662 Val: 0.6959 Test: 0.6406\n",
      "Validation loss decreased (0.695892 --> 0.584904).  Saving model ...\n",
      "Epoch: 007, Loss: 0.6365 Val: 0.5849 Test: 0.5194\n",
      "Validation loss decreased (0.584904 --> 0.490709).  Saving model ...\n",
      "Epoch: 008, Loss: 0.5212 Val: 0.4907 Test: 0.4295\n",
      "Validation loss decreased (0.490709 --> 0.379832).  Saving model ...\n",
      "Epoch: 009, Loss: 0.4330 Val: 0.3798 Test: 0.3375\n",
      "Validation loss decreased (0.379832 --> 0.273879).  Saving model ...\n",
      "Epoch: 010, Loss: 0.3350 Val: 0.2739 Test: 0.2566\n",
      "Validation loss decreased (0.273879 --> 0.239379).  Saving model ...\n",
      "Epoch: 011, Loss: 0.2435 Val: 0.2394 Test: 0.2372\n",
      "Validation loss decreased (0.239379 --> 0.236424).  Saving model ...\n",
      "Epoch: 012, Loss: 0.2192 Val: 0.2364 Test: 0.2361\n",
      "Validation loss decreased (0.236424 --> 0.207911).  Saving model ...\n",
      "Epoch: 013, Loss: 0.2193 Val: 0.2079 Test: 0.2090\n",
      "Validation loss decreased (0.207911 --> 0.198883).  Saving model ...\n",
      "Epoch: 014, Loss: 0.1924 Val: 0.1989 Test: 0.2041\n",
      "EarlyStopping counter: 1 out of 20\n",
      "Epoch: 015, Loss: 0.1890 Val: 0.2108 Test: 0.2191\n",
      "Validation loss decreased (0.198883 --> 0.198573).  Saving model ...\n",
      "Epoch: 016, Loss: 0.2053 Val: 0.1986 Test: 0.2077\n",
      "EarlyStopping counter: 1 out of 20\n",
      "Epoch: 017, Loss: 0.1928 Val: 0.2081 Test: 0.2161\n",
      "Validation loss decreased (0.198573 --> 0.189224).  Saving model ...\n",
      "Epoch: 018, Loss: 0.2012 Val: 0.1892 Test: 0.1971\n",
      "EarlyStopping counter: 1 out of 20\n",
      "Epoch: 019, Loss: 0.1803 Val: 0.1998 Test: 0.1968\n",
      "EarlyStopping counter: 2 out of 20\n",
      "Epoch: 020, Loss: 0.1830 Val: 0.1981 Test: 0.1901\n",
      "EarlyStopping counter: 3 out of 20\n",
      "Epoch: 021, Loss: 0.1769 Val: 0.1952 Test: 0.1920\n",
      "EarlyStopping counter: 4 out of 20\n",
      "Epoch: 022, Loss: 0.1788 Val: 0.1924 Test: 0.1913\n",
      "EarlyStopping counter: 5 out of 20\n",
      "Epoch: 023, Loss: 0.1792 Val: 0.1947 Test: 0.1842\n",
      "Validation loss decreased (0.189224 --> 0.186516).  Saving model ...\n",
      "Epoch: 024, Loss: 0.1732 Val: 0.1865 Test: 0.1837\n",
      "EarlyStopping counter: 1 out of 20\n",
      "Epoch: 025, Loss: 0.1730 Val: 0.1923 Test: 0.1845\n",
      "EarlyStopping counter: 2 out of 20\n",
      "Epoch: 026, Loss: 0.1760 Val: 0.1901 Test: 0.1834\n",
      "Validation loss decreased (0.186516 --> 0.181929).  Saving model ...\n",
      "Epoch: 027, Loss: 0.1745 Val: 0.1819 Test: 0.1816\n",
      "EarlyStopping counter: 1 out of 20\n",
      "Epoch: 028, Loss: 0.1708 Val: 0.1861 Test: 0.1808\n",
      "Validation loss decreased (0.181929 --> 0.179737).  Saving model ...\n",
      "Epoch: 029, Loss: 0.1694 Val: 0.1797 Test: 0.1804\n",
      "EarlyStopping counter: 1 out of 20\n",
      "Epoch: 030, Loss: 0.1677 Val: 0.1829 Test: 0.1829\n",
      "EarlyStopping counter: 2 out of 20\n",
      "Epoch: 031, Loss: 0.1698 Val: 0.1888 Test: 0.1797\n",
      "EarlyStopping counter: 3 out of 20\n",
      "Epoch: 032, Loss: 0.1667 Val: 0.1921 Test: 0.1802\n",
      "EarlyStopping counter: 4 out of 20\n",
      "Epoch: 033, Loss: 0.1679 Val: 0.1809 Test: 0.1765\n",
      "Validation loss decreased (0.179737 --> 0.174225).  Saving model ...\n",
      "Epoch: 034, Loss: 0.1636 Val: 0.1742 Test: 0.1772\n",
      "Validation loss decreased (0.174225 --> 0.172164).  Saving model ...\n",
      "Epoch: 035, Loss: 0.1648 Val: 0.1722 Test: 0.1747\n",
      "EarlyStopping counter: 1 out of 20\n",
      "Epoch: 036, Loss: 0.1623 Val: 0.1766 Test: 0.1751\n",
      "EarlyStopping counter: 2 out of 20\n",
      "Epoch: 037, Loss: 0.1630 Val: 0.1745 Test: 0.1734\n",
      "Validation loss decreased (0.172164 --> 0.169775).  Saving model ...\n",
      "Epoch: 038, Loss: 0.1614 Val: 0.1698 Test: 0.1722\n",
      "EarlyStopping counter: 1 out of 20\n",
      "Epoch: 039, Loss: 0.1601 Val: 0.1699 Test: 0.1715\n",
      "EarlyStopping counter: 2 out of 20\n",
      "Epoch: 040, Loss: 0.1594 Val: 0.1740 Test: 0.1693\n",
      "EarlyStopping counter: 3 out of 20\n",
      "Epoch: 041, Loss: 0.1574 Val: 0.1769 Test: 0.1688\n",
      "EarlyStopping counter: 4 out of 20\n",
      "Epoch: 042, Loss: 0.1575 Val: 0.1728 Test: 0.1666\n",
      "Validation loss decreased (0.169775 --> 0.169653).  Saving model ...\n",
      "Epoch: 043, Loss: 0.1552 Val: 0.1697 Test: 0.1661\n",
      "Validation loss decreased (0.169653 --> 0.168621).  Saving model ...\n",
      "Epoch: 044, Loss: 0.1550 Val: 0.1686 Test: 0.1625\n",
      "EarlyStopping counter: 1 out of 20\n",
      "Epoch: 045, Loss: 0.1523 Val: 0.1694 Test: 0.1603\n",
      "Validation loss decreased (0.168621 --> 0.160973).  Saving model ...\n",
      "Epoch: 046, Loss: 0.1515 Val: 0.1610 Test: 0.1578\n",
      "Validation loss decreased (0.160973 --> 0.157771).  Saving model ...\n",
      "Epoch: 047, Loss: 0.1489 Val: 0.1578 Test: 0.1569\n",
      "EarlyStopping counter: 1 out of 20\n",
      "Epoch: 048, Loss: 0.1483 Val: 0.1583 Test: 0.1534\n",
      "Validation loss decreased (0.157771 --> 0.156213).  Saving model ...\n",
      "Epoch: 049, Loss: 0.1460 Val: 0.1562 Test: 0.1507\n",
      "Validation loss decreased (0.156213 --> 0.152695).  Saving model ...\n",
      "Epoch: 050, Loss: 0.1436 Val: 0.1527 Test: 0.1498\n",
      "EarlyStopping counter: 1 out of 20\n",
      "Epoch: 051, Loss: 0.1425 Val: 0.1554 Test: 0.1453\n",
      "Validation loss decreased (0.152695 --> 0.150826).  Saving model ...\n",
      "Epoch: 052, Loss: 0.1399 Val: 0.1508 Test: 0.1429\n",
      "Validation loss decreased (0.150826 --> 0.145900).  Saving model ...\n",
      "Epoch: 053, Loss: 0.1375 Val: 0.1459 Test: 0.1419\n",
      "EarlyStopping counter: 1 out of 20\n",
      "Epoch: 054, Loss: 0.1360 Val: 0.1470 Test: 0.1388\n",
      "Validation loss decreased (0.145900 --> 0.143444).  Saving model ...\n",
      "Epoch: 055, Loss: 0.1348 Val: 0.1434 Test: 0.1385\n",
      "Validation loss decreased (0.143444 --> 0.140685).  Saving model ...\n",
      "Epoch: 056, Loss: 0.1335 Val: 0.1407 Test: 0.1352\n",
      "Validation loss decreased (0.140685 --> 0.137175).  Saving model ...\n",
      "Epoch: 057, Loss: 0.1311 Val: 0.1372 Test: 0.1333\n",
      "Validation loss decreased (0.137175 --> 0.134666).  Saving model ...\n",
      "Epoch: 058, Loss: 0.1287 Val: 0.1347 Test: 0.1306\n",
      "Validation loss decreased (0.134666 --> 0.131894).  Saving model ...\n",
      "Epoch: 059, Loss: 0.1268 Val: 0.1319 Test: 0.1305\n",
      "EarlyStopping counter: 1 out of 20\n",
      "Epoch: 060, Loss: 0.1265 Val: 0.1385 Test: 0.1311\n",
      "EarlyStopping counter: 2 out of 20\n",
      "Epoch: 061, Loss: 0.1294 Val: 0.1487 Test: 0.1417\n",
      "EarlyStopping counter: 3 out of 20\n",
      "Epoch: 062, Loss: 0.1418 Val: 0.1546 Test: 0.1479\n",
      "EarlyStopping counter: 4 out of 20\n",
      "Epoch: 063, Loss: 0.1466 Val: 0.1374 Test: 0.1314\n",
      "Validation loss decreased (0.131894 --> 0.128998).  Saving model ...\n",
      "Epoch: 064, Loss: 0.1316 Val: 0.1290 Test: 0.1256\n",
      "EarlyStopping counter: 1 out of 20\n",
      "Epoch: 065, Loss: 0.1246 Val: 0.1376 Test: 0.1383\n",
      "Validation loss decreased (0.128998 --> 0.122236).  Saving model ...\n",
      "Epoch: 066, Loss: 0.1344 Val: 0.1222 Test: 0.1210\n",
      "EarlyStopping counter: 1 out of 20\n",
      "Epoch: 067, Loss: 0.1200 Val: 0.1294 Test: 0.1257\n",
      "EarlyStopping counter: 2 out of 20\n",
      "Epoch: 068, Loss: 0.1279 Val: 0.1229 Test: 0.1213\n",
      "EarlyStopping counter: 3 out of 20\n",
      "Epoch: 069, Loss: 0.1200 Val: 0.1264 Test: 0.1224\n",
      "EarlyStopping counter: 4 out of 20\n",
      "Epoch: 070, Loss: 0.1219 Val: 0.1224 Test: 0.1199\n",
      "Validation loss decreased (0.122236 --> 0.119438).  Saving model ...\n",
      "Epoch: 071, Loss: 0.1218 Val: 0.1194 Test: 0.1165\n",
      "EarlyStopping counter: 1 out of 20\n",
      "Epoch: 072, Loss: 0.1179 Val: 0.1274 Test: 0.1209\n",
      "Validation loss decreased (0.119438 --> 0.118392).  Saving model ...\n",
      "Epoch: 073, Loss: 0.1211 Val: 0.1184 Test: 0.1147\n",
      "EarlyStopping counter: 1 out of 20\n",
      "Epoch: 074, Loss: 0.1149 Val: 0.1197 Test: 0.1166\n",
      "Validation loss decreased (0.118392 --> 0.115676).  Saving model ...\n",
      "Epoch: 075, Loss: 0.1187 Val: 0.1157 Test: 0.1132\n",
      "EarlyStopping counter: 1 out of 20\n",
      "Epoch: 076, Loss: 0.1133 Val: 0.1206 Test: 0.1183\n",
      "Validation loss decreased (0.115676 --> 0.114845).  Saving model ...\n",
      "Epoch: 077, Loss: 0.1169 Val: 0.1148 Test: 0.1127\n",
      "EarlyStopping counter: 1 out of 20\n",
      "Epoch: 078, Loss: 0.1124 Val: 0.1171 Test: 0.1140\n",
      "Validation loss decreased (0.114845 --> 0.114380).  Saving model ...\n",
      "Epoch: 079, Loss: 0.1151 Val: 0.1144 Test: 0.1125\n",
      "EarlyStopping counter: 1 out of 20\n",
      "Epoch: 080, Loss: 0.1114 Val: 0.1170 Test: 0.1150\n",
      "Validation loss decreased (0.114380 --> 0.113110).  Saving model ...\n",
      "Epoch: 081, Loss: 0.1131 Val: 0.1131 Test: 0.1106\n",
      "EarlyStopping counter: 1 out of 20\n",
      "Epoch: 082, Loss: 0.1102 Val: 0.1138 Test: 0.1107\n",
      "EarlyStopping counter: 2 out of 20\n",
      "Epoch: 083, Loss: 0.1111 Val: 0.1145 Test: 0.1104\n",
      "EarlyStopping counter: 3 out of 20\n",
      "Epoch: 084, Loss: 0.1093 Val: 0.1158 Test: 0.1105\n",
      "Validation loss decreased (0.113110 --> 0.112850).  Saving model ...\n",
      "Epoch: 085, Loss: 0.1094 Val: 0.1129 Test: 0.1085\n",
      "Validation loss decreased (0.112850 --> 0.112383).  Saving model ...\n",
      "Epoch: 086, Loss: 0.1085 Val: 0.1124 Test: 0.1079\n",
      "EarlyStopping counter: 1 out of 20\n",
      "Epoch: 087, Loss: 0.1077 Val: 0.1144 Test: 0.1091\n",
      "Validation loss decreased (0.112383 --> 0.112073).  Saving model ...\n",
      "Epoch: 088, Loss: 0.1075 Val: 0.1121 Test: 0.1078\n",
      "Validation loss decreased (0.112073 --> 0.110510).  Saving model ...\n",
      "Epoch: 089, Loss: 0.1060 Val: 0.1105 Test: 0.1070\n",
      "Validation loss decreased (0.110510 --> 0.109703).  Saving model ...\n",
      "Epoch: 090, Loss: 0.1062 Val: 0.1097 Test: 0.1066\n",
      "EarlyStopping counter: 1 out of 20\n",
      "Epoch: 091, Loss: 0.1046 Val: 0.1112 Test: 0.1084\n",
      "Validation loss decreased (0.109703 --> 0.108968).  Saving model ...\n",
      "Epoch: 092, Loss: 0.1051 Val: 0.1090 Test: 0.1061\n",
      "Validation loss decreased (0.108968 --> 0.108940).  Saving model ...\n",
      "Epoch: 093, Loss: 0.1035 Val: 0.1089 Test: 0.1057\n",
      "Validation loss decreased (0.108940 --> 0.108930).  Saving model ...\n",
      "Epoch: 094, Loss: 0.1037 Val: 0.1089 Test: 0.1061\n",
      "EarlyStopping counter: 1 out of 20\n",
      "Epoch: 095, Loss: 0.1026 Val: 0.1092 Test: 0.1062\n",
      "Validation loss decreased (0.108930 --> 0.108107).  Saving model ...\n",
      "Epoch: 096, Loss: 0.1023 Val: 0.1081 Test: 0.1043\n",
      "Validation loss decreased (0.108107 --> 0.107931).  Saving model ...\n",
      "Epoch: 097, Loss: 0.1016 Val: 0.1079 Test: 0.1039\n",
      "EarlyStopping counter: 1 out of 20\n",
      "Epoch: 098, Loss: 0.1008 Val: 0.1089 Test: 0.1049\n",
      "Validation loss decreased (0.107931 --> 0.107854).  Saving model ...\n",
      "Epoch: 099, Loss: 0.1006 Val: 0.1079 Test: 0.1035\n",
      "Validation loss decreased (0.107854 --> 0.107466).  Saving model ...\n",
      "Epoch: 100, Loss: 0.0997 Val: 0.1075 Test: 0.1028\n",
      "Validation loss decreased (0.107466 --> 0.107389).  Saving model ...\n",
      "Epoch: 101, Loss: 0.0996 Val: 0.1074 Test: 0.1029\n",
      "EarlyStopping counter: 1 out of 20\n",
      "Epoch: 102, Loss: 0.0987 Val: 0.1074 Test: 0.1031\n",
      "Validation loss decreased (0.107389 --> 0.106280).  Saving model ...\n",
      "Epoch: 103, Loss: 0.0984 Val: 0.1063 Test: 0.1018\n",
      "Validation loss decreased (0.106280 --> 0.105831).  Saving model ...\n",
      "Epoch: 104, Loss: 0.0978 Val: 0.1058 Test: 0.1015\n",
      "EarlyStopping counter: 1 out of 20\n",
      "Epoch: 105, Loss: 0.0971 Val: 0.1060 Test: 0.1022\n",
      "Validation loss decreased (0.105831 --> 0.105027).  Saving model ...\n",
      "Epoch: 106, Loss: 0.0968 Val: 0.1050 Test: 0.1009\n",
      "Validation loss decreased (0.105027 --> 0.104683).  Saving model ...\n",
      "Epoch: 107, Loss: 0.0961 Val: 0.1047 Test: 0.1004\n",
      "EarlyStopping counter: 1 out of 20\n",
      "Epoch: 108, Loss: 0.0958 Val: 0.1047 Test: 0.1010\n",
      "Validation loss decreased (0.104683 --> 0.104146).  Saving model ...\n",
      "Epoch: 109, Loss: 0.0953 Val: 0.1041 Test: 0.1000\n",
      "Validation loss decreased (0.104146 --> 0.103855).  Saving model ...\n",
      "Epoch: 110, Loss: 0.0947 Val: 0.1039 Test: 0.0993\n",
      "Validation loss decreased (0.103855 --> 0.103825).  Saving model ...\n",
      "Epoch: 111, Loss: 0.0944 Val: 0.1038 Test: 0.0998\n",
      "Validation loss decreased (0.103825 --> 0.103394).  Saving model ...\n",
      "Epoch: 112, Loss: 0.0939 Val: 0.1034 Test: 0.0991\n",
      "Validation loss decreased (0.103394 --> 0.103069).  Saving model ...\n",
      "Epoch: 113, Loss: 0.0933 Val: 0.1031 Test: 0.0984\n",
      "Validation loss decreased (0.103069 --> 0.103021).  Saving model ...\n",
      "Epoch: 114, Loss: 0.0930 Val: 0.1030 Test: 0.0988\n",
      "Validation loss decreased (0.103021 --> 0.102539).  Saving model ...\n",
      "Epoch: 115, Loss: 0.0925 Val: 0.1025 Test: 0.0981\n",
      "Validation loss decreased (0.102539 --> 0.102184).  Saving model ...\n",
      "Epoch: 116, Loss: 0.0920 Val: 0.1022 Test: 0.0974\n",
      "Validation loss decreased (0.102184 --> 0.102081).  Saving model ...\n",
      "Epoch: 117, Loss: 0.0917 Val: 0.1021 Test: 0.0979\n",
      "Validation loss decreased (0.102081 --> 0.101496).  Saving model ...\n",
      "Epoch: 118, Loss: 0.0912 Val: 0.1015 Test: 0.0970\n",
      "Validation loss decreased (0.101496 --> 0.101128).  Saving model ...\n",
      "Epoch: 119, Loss: 0.0907 Val: 0.1011 Test: 0.0965\n",
      "Validation loss decreased (0.101128 --> 0.100972).  Saving model ...\n",
      "Epoch: 120, Loss: 0.0903 Val: 0.1010 Test: 0.0968\n",
      "Validation loss decreased (0.100972 --> 0.100389).  Saving model ...\n",
      "Epoch: 121, Loss: 0.0899 Val: 0.1004 Test: 0.0956\n",
      "Validation loss decreased (0.100389 --> 0.100026).  Saving model ...\n",
      "Epoch: 122, Loss: 0.0894 Val: 0.1000 Test: 0.0955\n",
      "Validation loss decreased (0.100026 --> 0.099689).  Saving model ...\n",
      "Epoch: 123, Loss: 0.0889 Val: 0.0997 Test: 0.0953\n",
      "Validation loss decreased (0.099689 --> 0.099268).  Saving model ...\n",
      "Epoch: 124, Loss: 0.0885 Val: 0.0993 Test: 0.0943\n",
      "Validation loss decreased (0.099268 --> 0.099146).  Saving model ...\n",
      "Epoch: 125, Loss: 0.0881 Val: 0.0991 Test: 0.0950\n",
      "Validation loss decreased (0.099146 --> 0.098645).  Saving model ...\n",
      "Epoch: 126, Loss: 0.0878 Val: 0.0986 Test: 0.0936\n",
      "Validation loss decreased (0.098645 --> 0.098519).  Saving model ...\n",
      "Epoch: 127, Loss: 0.0874 Val: 0.0985 Test: 0.0943\n",
      "Validation loss decreased (0.098519 --> 0.098103).  Saving model ...\n",
      "Epoch: 128, Loss: 0.0869 Val: 0.0981 Test: 0.0929\n",
      "Validation loss decreased (0.098103 --> 0.097917).  Saving model ...\n",
      "Epoch: 129, Loss: 0.0865 Val: 0.0979 Test: 0.0934\n",
      "Validation loss decreased (0.097917 --> 0.097548).  Saving model ...\n",
      "Epoch: 130, Loss: 0.0860 Val: 0.0975 Test: 0.0923\n",
      "Validation loss decreased (0.097548 --> 0.097411).  Saving model ...\n",
      "Epoch: 131, Loss: 0.0856 Val: 0.0974 Test: 0.0927\n",
      "Validation loss decreased (0.097411 --> 0.097013).  Saving model ...\n",
      "Epoch: 132, Loss: 0.0851 Val: 0.0970 Test: 0.0916\n",
      "EarlyStopping counter: 1 out of 20\n",
      "Epoch: 133, Loss: 0.0848 Val: 0.0971 Test: 0.0926\n",
      "Validation loss decreased (0.097013 --> 0.096978).  Saving model ...\n",
      "Epoch: 134, Loss: 0.0845 Val: 0.0970 Test: 0.0910\n",
      "EarlyStopping counter: 1 out of 20\n",
      "Epoch: 135, Loss: 0.0847 Val: 0.0987 Test: 0.0952\n",
      "EarlyStopping counter: 2 out of 20\n",
      "Epoch: 136, Loss: 0.0860 Val: 0.1010 Test: 0.0934\n",
      "EarlyStopping counter: 3 out of 20\n",
      "Epoch: 137, Loss: 0.0892 Val: 0.1077 Test: 0.1045\n",
      "EarlyStopping counter: 4 out of 20\n",
      "Epoch: 138, Loss: 0.0947 Val: 0.1085 Test: 0.0995\n",
      "EarlyStopping counter: 5 out of 20\n",
      "Epoch: 139, Loss: 0.0973 Val: 0.1050 Test: 0.1010\n",
      "Validation loss decreased (0.096978 --> 0.095595).  Saving model ...\n",
      "Epoch: 140, Loss: 0.0919 Val: 0.0956 Test: 0.0890\n",
      "EarlyStopping counter: 1 out of 20\n",
      "Epoch: 141, Loss: 0.0825 Val: 0.0977 Test: 0.0902\n",
      "EarlyStopping counter: 2 out of 20\n",
      "Epoch: 142, Loss: 0.0854 Val: 0.1043 Test: 0.0989\n",
      "EarlyStopping counter: 3 out of 20\n",
      "Epoch: 143, Loss: 0.0907 Val: 0.0970 Test: 0.0893\n",
      "Validation loss decreased (0.095595 --> 0.094121).  Saving model ...\n",
      "Epoch: 144, Loss: 0.0848 Val: 0.0941 Test: 0.0874\n",
      "EarlyStopping counter: 1 out of 20\n",
      "Epoch: 145, Loss: 0.0812 Val: 0.0991 Test: 0.0940\n",
      "EarlyStopping counter: 2 out of 20\n",
      "Epoch: 146, Loss: 0.0860 Val: 0.0955 Test: 0.0883\n",
      "Validation loss decreased (0.094121 --> 0.092342).  Saving model ...\n",
      "Epoch: 147, Loss: 0.0844 Val: 0.0923 Test: 0.0870\n",
      "EarlyStopping counter: 1 out of 20\n",
      "Epoch: 148, Loss: 0.0802 Val: 0.0947 Test: 0.0907\n",
      "EarlyStopping counter: 2 out of 20\n",
      "Epoch: 149, Loss: 0.0825 Val: 0.0935 Test: 0.0870\n",
      "Validation loss decreased (0.092342 --> 0.091256).  Saving model ...\n",
      "Epoch: 150, Loss: 0.0828 Val: 0.0913 Test: 0.0868\n",
      "EarlyStopping counter: 1 out of 20\n",
      "Epoch: 151, Loss: 0.0795 Val: 0.0920 Test: 0.0880\n",
      "EarlyStopping counter: 2 out of 20\n",
      "Epoch: 152, Loss: 0.0802 Val: 0.0919 Test: 0.0858\n",
      "Validation loss decreased (0.091256 --> 0.090946).  Saving model ...\n",
      "Epoch: 153, Loss: 0.0813 Val: 0.0909 Test: 0.0868\n",
      "Validation loss decreased (0.090946 --> 0.090086).  Saving model ...\n",
      "Epoch: 154, Loss: 0.0791 Val: 0.0901 Test: 0.0858\n",
      "EarlyStopping counter: 1 out of 20\n",
      "Epoch: 155, Loss: 0.0783 Val: 0.0905 Test: 0.0851\n",
      "EarlyStopping counter: 2 out of 20\n",
      "Epoch: 156, Loss: 0.0797 Val: 0.0902 Test: 0.0874\n",
      "EarlyStopping counter: 3 out of 20\n",
      "Epoch: 157, Loss: 0.0788 Val: 0.0913 Test: 0.0868\n",
      "EarlyStopping counter: 4 out of 20\n",
      "Epoch: 158, Loss: 0.0810 Val: 0.1066 Test: 0.1028\n",
      "EarlyStopping counter: 5 out of 20\n",
      "Epoch: 159, Loss: 0.0943 Val: 0.1091 Test: 0.1003\n",
      "EarlyStopping counter: 6 out of 20\n",
      "Epoch: 160, Loss: 0.1007 Val: 0.1042 Test: 0.0966\n",
      "EarlyStopping counter: 7 out of 20\n",
      "Epoch: 161, Loss: 0.0891 Val: 0.0922 Test: 0.0846\n",
      "EarlyStopping counter: 8 out of 20\n",
      "Epoch: 162, Loss: 0.0773 Val: 0.0958 Test: 0.0881\n",
      "EarlyStopping counter: 9 out of 20\n",
      "Epoch: 163, Loss: 0.0838 Val: 0.0904 Test: 0.0840\n",
      "EarlyStopping counter: 10 out of 20\n",
      "Epoch: 164, Loss: 0.0769 Val: 0.0959 Test: 0.0906\n",
      "Validation loss decreased (0.090086 --> 0.089036).  Saving model ...\n",
      "Epoch: 165, Loss: 0.0823 Val: 0.0890 Test: 0.0835\n",
      "EarlyStopping counter: 1 out of 20\n",
      "Epoch: 166, Loss: 0.0761 Val: 0.0920 Test: 0.0850\n",
      "Validation loss decreased (0.089036 --> 0.087893).  Saving model ...\n",
      "Epoch: 167, Loss: 0.0805 Val: 0.0879 Test: 0.0827\n",
      "EarlyStopping counter: 1 out of 20\n",
      "Epoch: 168, Loss: 0.0754 Val: 0.0914 Test: 0.0873\n",
      "Validation loss decreased (0.087893 --> 0.086563).  Saving model ...\n",
      "Epoch: 169, Loss: 0.0789 Val: 0.0866 Test: 0.0814\n",
      "EarlyStopping counter: 1 out of 20\n",
      "Epoch: 170, Loss: 0.0753 Val: 0.0876 Test: 0.0819\n",
      "Validation loss decreased (0.086563 --> 0.086190).  Saving model ...\n",
      "Epoch: 171, Loss: 0.0776 Val: 0.0862 Test: 0.0832\n",
      "EarlyStopping counter: 1 out of 20\n",
      "Epoch: 172, Loss: 0.0753 Val: 0.0867 Test: 0.0844\n",
      "Validation loss decreased (0.086190 --> 0.084938).  Saving model ...\n",
      "Epoch: 173, Loss: 0.0761 Val: 0.0849 Test: 0.0806\n",
      "Validation loss decreased (0.084938 --> 0.084674).  Saving model ...\n",
      "Epoch: 174, Loss: 0.0753 Val: 0.0847 Test: 0.0804\n",
      "EarlyStopping counter: 1 out of 20\n",
      "Epoch: 175, Loss: 0.0747 Val: 0.0863 Test: 0.0834\n",
      "EarlyStopping counter: 2 out of 20\n",
      "Epoch: 176, Loss: 0.0750 Val: 0.0853 Test: 0.0814\n",
      "EarlyStopping counter: 3 out of 20\n",
      "Epoch: 177, Loss: 0.0735 Val: 0.0858 Test: 0.0802\n",
      "EarlyStopping counter: 4 out of 20\n",
      "Epoch: 178, Loss: 0.0746 Val: 0.0852 Test: 0.0801\n",
      "EarlyStopping counter: 5 out of 20\n",
      "Epoch: 179, Loss: 0.0729 Val: 0.0872 Test: 0.0824\n",
      "EarlyStopping counter: 6 out of 20\n",
      "Epoch: 180, Loss: 0.0741 Val: 0.0849 Test: 0.0800\n",
      "EarlyStopping counter: 7 out of 20\n",
      "Epoch: 181, Loss: 0.0724 Val: 0.0849 Test: 0.0800\n",
      "Validation loss decreased (0.084674 --> 0.084238).  Saving model ...\n",
      "Epoch: 182, Loss: 0.0732 Val: 0.0842 Test: 0.0801\n",
      "EarlyStopping counter: 1 out of 20\n",
      "Epoch: 183, Loss: 0.0720 Val: 0.0850 Test: 0.0815\n",
      "Validation loss decreased (0.084238 --> 0.083511).  Saving model ...\n",
      "Epoch: 184, Loss: 0.0727 Val: 0.0835 Test: 0.0799\n",
      "Validation loss decreased (0.083511 --> 0.083476).  Saving model ...\n",
      "Epoch: 185, Loss: 0.0716 Val: 0.0835 Test: 0.0796\n",
      "Validation loss decreased (0.083476 --> 0.082991).  Saving model ...\n",
      "Epoch: 186, Loss: 0.0722 Val: 0.0830 Test: 0.0798\n",
      "EarlyStopping counter: 1 out of 20\n",
      "Epoch: 187, Loss: 0.0713 Val: 0.0838 Test: 0.0814\n",
      "Validation loss decreased (0.082991 --> 0.082921).  Saving model ...\n",
      "Epoch: 188, Loss: 0.0718 Val: 0.0829 Test: 0.0804\n",
      "Validation loss decreased (0.082921 --> 0.082676).  Saving model ...\n",
      "Epoch: 189, Loss: 0.0711 Val: 0.0827 Test: 0.0797\n",
      "Validation loss decreased (0.082676 --> 0.082463).  Saving model ...\n",
      "Epoch: 190, Loss: 0.0713 Val: 0.0825 Test: 0.0799\n",
      "EarlyStopping counter: 1 out of 20\n",
      "Epoch: 191, Loss: 0.0708 Val: 0.0830 Test: 0.0810\n",
      "EarlyStopping counter: 2 out of 20\n",
      "Epoch: 192, Loss: 0.0709 Val: 0.0828 Test: 0.0805\n",
      "EarlyStopping counter: 3 out of 20\n",
      "Epoch: 193, Loss: 0.0705 Val: 0.0826 Test: 0.0797\n",
      "EarlyStopping counter: 4 out of 20\n",
      "Epoch: 194, Loss: 0.0705 Val: 0.0827 Test: 0.0797\n",
      "EarlyStopping counter: 5 out of 20\n",
      "Epoch: 195, Loss: 0.0702 Val: 0.0832 Test: 0.0804\n",
      "EarlyStopping counter: 6 out of 20\n",
      "Epoch: 196, Loss: 0.0702 Val: 0.0831 Test: 0.0802\n",
      "EarlyStopping counter: 7 out of 20\n",
      "Epoch: 197, Loss: 0.0700 Val: 0.0826 Test: 0.0794\n",
      "EarlyStopping counter: 8 out of 20\n",
      "Epoch: 198, Loss: 0.0699 Val: 0.0825 Test: 0.0794\n",
      "EarlyStopping counter: 9 out of 20\n",
      "Epoch: 199, Loss: 0.0698 Val: 0.0827 Test: 0.0798\n",
      "EarlyStopping counter: 10 out of 20\n",
      "Epoch: 200, Loss: 0.0696 Val: 0.0827 Test: 0.0800\n",
      "Validation loss decreased (0.082463 --> 0.082262).  Saving model ...\n",
      "Epoch: 201, Loss: 0.0696 Val: 0.0823 Test: 0.0795\n",
      "Validation loss decreased (0.082262 --> 0.082153).  Saving model ...\n",
      "Epoch: 202, Loss: 0.0694 Val: 0.0822 Test: 0.0794\n",
      "EarlyStopping counter: 1 out of 20\n",
      "Epoch: 203, Loss: 0.0694 Val: 0.0822 Test: 0.0796\n",
      "EarlyStopping counter: 2 out of 20\n",
      "Epoch: 204, Loss: 0.0693 Val: 0.0824 Test: 0.0801\n",
      "EarlyStopping counter: 3 out of 20\n",
      "Epoch: 205, Loss: 0.0692 Val: 0.0823 Test: 0.0799\n",
      "Validation loss decreased (0.082153 --> 0.082106).  Saving model ...\n",
      "Epoch: 206, Loss: 0.0691 Val: 0.0821 Test: 0.0796\n",
      "Validation loss decreased (0.082106 --> 0.082070).  Saving model ...\n",
      "Epoch: 207, Loss: 0.0690 Val: 0.0821 Test: 0.0796\n",
      "EarlyStopping counter: 1 out of 20\n",
      "Epoch: 208, Loss: 0.0690 Val: 0.0821 Test: 0.0799\n",
      "EarlyStopping counter: 2 out of 20\n",
      "Epoch: 209, Loss: 0.0689 Val: 0.0821 Test: 0.0800\n",
      "Validation loss decreased (0.082070 --> 0.081910).  Saving model ...\n",
      "Epoch: 210, Loss: 0.0688 Val: 0.0819 Test: 0.0798\n",
      "Validation loss decreased (0.081910 --> 0.081763).  Saving model ...\n",
      "Epoch: 211, Loss: 0.0687 Val: 0.0818 Test: 0.0796\n",
      "Validation loss decreased (0.081763 --> 0.081703).  Saving model ...\n",
      "Epoch: 212, Loss: 0.0687 Val: 0.0817 Test: 0.0797\n",
      "EarlyStopping counter: 1 out of 20\n",
      "Epoch: 213, Loss: 0.0685 Val: 0.0817 Test: 0.0800\n",
      "Validation loss decreased (0.081703 --> 0.081561).  Saving model ...\n",
      "Epoch: 214, Loss: 0.0685 Val: 0.0816 Test: 0.0799\n",
      "Validation loss decreased (0.081561 --> 0.081354).  Saving model ...\n",
      "Epoch: 215, Loss: 0.0684 Val: 0.0814 Test: 0.0796\n",
      "Validation loss decreased (0.081354 --> 0.081279).  Saving model ...\n",
      "Epoch: 216, Loss: 0.0683 Val: 0.0813 Test: 0.0796\n",
      "EarlyStopping counter: 1 out of 20\n",
      "Epoch: 217, Loss: 0.0682 Val: 0.0813 Test: 0.0799\n",
      "Validation loss decreased (0.081279 --> 0.081242).  Saving model ...\n",
      "Epoch: 218, Loss: 0.0682 Val: 0.0812 Test: 0.0799\n",
      "Validation loss decreased (0.081242 --> 0.081100).  Saving model ...\n",
      "Epoch: 219, Loss: 0.0681 Val: 0.0811 Test: 0.0797\n",
      "Validation loss decreased (0.081100 --> 0.081038).  Saving model ...\n",
      "Epoch: 220, Loss: 0.0680 Val: 0.0810 Test: 0.0796\n",
      "EarlyStopping counter: 1 out of 20\n",
      "Epoch: 221, Loss: 0.0679 Val: 0.0811 Test: 0.0798\n",
      "Validation loss decreased (0.081038 --> 0.080998).  Saving model ...\n",
      "Epoch: 222, Loss: 0.0678 Val: 0.0810 Test: 0.0798\n",
      "Validation loss decreased (0.080998 --> 0.080841).  Saving model ...\n",
      "Epoch: 223, Loss: 0.0678 Val: 0.0808 Test: 0.0796\n",
      "Validation loss decreased (0.080841 --> 0.080756).  Saving model ...\n",
      "Epoch: 224, Loss: 0.0677 Val: 0.0808 Test: 0.0796\n",
      "Validation loss decreased (0.080756 --> 0.080742).  Saving model ...\n",
      "Epoch: 225, Loss: 0.0676 Val: 0.0807 Test: 0.0797\n",
      "Validation loss decreased (0.080742 --> 0.080677).  Saving model ...\n",
      "Epoch: 226, Loss: 0.0675 Val: 0.0807 Test: 0.0797\n",
      "Validation loss decreased (0.080677 --> 0.080537).  Saving model ...\n",
      "Epoch: 227, Loss: 0.0674 Val: 0.0805 Test: 0.0795\n",
      "Validation loss decreased (0.080537 --> 0.080445).  Saving model ...\n",
      "Epoch: 228, Loss: 0.0674 Val: 0.0804 Test: 0.0795\n",
      "Validation loss decreased (0.080445 --> 0.080405).  Saving model ...\n",
      "Epoch: 229, Loss: 0.0673 Val: 0.0804 Test: 0.0796\n",
      "Validation loss decreased (0.080405 --> 0.080306).  Saving model ...\n",
      "Epoch: 230, Loss: 0.0672 Val: 0.0803 Test: 0.0796\n",
      "Validation loss decreased (0.080306 --> 0.080155).  Saving model ...\n",
      "Epoch: 231, Loss: 0.0671 Val: 0.0802 Test: 0.0795\n",
      "Validation loss decreased (0.080155 --> 0.080080).  Saving model ...\n",
      "Epoch: 232, Loss: 0.0671 Val: 0.0801 Test: 0.0796\n",
      "Validation loss decreased (0.080080 --> 0.080044).  Saving model ...\n",
      "Epoch: 233, Loss: 0.0670 Val: 0.0800 Test: 0.0797\n",
      "Validation loss decreased (0.080044 --> 0.079950).  Saving model ...\n",
      "Epoch: 234, Loss: 0.0669 Val: 0.0800 Test: 0.0796\n",
      "Validation loss decreased (0.079950 --> 0.079844).  Saving model ...\n",
      "Epoch: 235, Loss: 0.0668 Val: 0.0798 Test: 0.0796\n",
      "Validation loss decreased (0.079844 --> 0.079761).  Saving model ...\n",
      "Epoch: 236, Loss: 0.0668 Val: 0.0798 Test: 0.0796\n",
      "Validation loss decreased (0.079761 --> 0.079673).  Saving model ...\n",
      "Epoch: 237, Loss: 0.0667 Val: 0.0797 Test: 0.0797\n",
      "Validation loss decreased (0.079673 --> 0.079534).  Saving model ...\n",
      "Epoch: 238, Loss: 0.0666 Val: 0.0795 Test: 0.0796\n",
      "Validation loss decreased (0.079534 --> 0.079424).  Saving model ...\n",
      "Epoch: 239, Loss: 0.0665 Val: 0.0794 Test: 0.0795\n",
      "Validation loss decreased (0.079424 --> 0.079374).  Saving model ...\n",
      "Epoch: 240, Loss: 0.0665 Val: 0.0794 Test: 0.0796\n",
      "Validation loss decreased (0.079374 --> 0.079318).  Saving model ...\n",
      "Epoch: 241, Loss: 0.0664 Val: 0.0793 Test: 0.0796\n",
      "Validation loss decreased (0.079318 --> 0.079253).  Saving model ...\n",
      "Epoch: 242, Loss: 0.0663 Val: 0.0793 Test: 0.0795\n",
      "Validation loss decreased (0.079253 --> 0.079198).  Saving model ...\n",
      "Epoch: 243, Loss: 0.0663 Val: 0.0792 Test: 0.0796\n",
      "Validation loss decreased (0.079198 --> 0.079145).  Saving model ...\n",
      "Epoch: 244, Loss: 0.0662 Val: 0.0791 Test: 0.0796\n",
      "Validation loss decreased (0.079145 --> 0.079070).  Saving model ...\n",
      "Epoch: 245, Loss: 0.0661 Val: 0.0791 Test: 0.0796\n",
      "Validation loss decreased (0.079070 --> 0.078991).  Saving model ...\n",
      "Epoch: 246, Loss: 0.0661 Val: 0.0790 Test: 0.0796\n",
      "Validation loss decreased (0.078991 --> 0.078904).  Saving model ...\n",
      "Epoch: 247, Loss: 0.0660 Val: 0.0789 Test: 0.0796\n",
      "Validation loss decreased (0.078904 --> 0.078822).  Saving model ...\n",
      "Epoch: 248, Loss: 0.0659 Val: 0.0788 Test: 0.0796\n",
      "Validation loss decreased (0.078822 --> 0.078738).  Saving model ...\n",
      "Epoch: 249, Loss: 0.0659 Val: 0.0787 Test: 0.0796\n"
     ]
    },
    {
     "data": {
      "text/plain": "<All keys matched successfully>"
     },
     "execution_count": 9,
     "metadata": {},
     "output_type": "execute_result"
    }
   ],
   "source": [
    "# define the optimizers\n",
    "optimizer = torch.optim.Adam(model.parameters(), lr=10**-2.5,\n",
    "                             weight_decay=10**-5)\n",
    "\n",
    "\n",
    "# define the no_epochs\n",
    "no_epochs = 250\n",
    "\n",
    "# initialize list for the errors\n",
    "train_loss = []\n",
    "test_loss = []\n",
    "val_loss = []\n",
    "\n",
    "# initialize the early_stopping object\n",
    "patience = 20\n",
    "early_stopping = EarlyStopping(patience=patience, verbose=True)\n",
    "\n",
    "# define a learning rate scheduler to squeeze the last out of the training\n",
    "scheduler = torch.optim.lr_scheduler.ReduceLROnPlateau(optimizer, 'min', patience=patience//3, factor=0.75 )\n",
    "\n",
    "# train loop\n",
    "for epoch in range(1, no_epochs):\n",
    "    total_loss = total_examples = 0\n",
    "    # train cycle\n",
    "    for data in train_loader:\n",
    "        data = data.to(device)\n",
    "        optimizer.zero_grad()\n",
    "        out = model(data.x, data.edge_index, data.edge_attr, data.batch)\n",
    "        loss= F.mse_loss(out, data.y)\n",
    "        loss.backward()\n",
    "        optimizer.step()\n",
    "        total_loss += float(loss) * data.num_graphs\n",
    "        total_examples += data.num_graphs\n",
    "        train_rmse = sqrt(total_loss / total_examples)\n",
    "    train_loss.append(float(train_rmse))\n",
    "        \n",
    "    with torch.no_grad():\n",
    "        # validation cycle\n",
    "        total_loss = total_examples = 0\n",
    "        for data in val_loader:\n",
    "            data = data.to(device)\n",
    "            out = model(data.x, data.edge_index, data.edge_attr, data.batch)\n",
    "            loss = F.mse_loss(out, data.y)\n",
    "            total_loss += float(loss) * data.num_graphs\n",
    "            total_examples += data.num_graphs\n",
    "            val_rmse = sqrt(total_loss / total_examples)\n",
    "        val_loss.append(float(val_rmse))\n",
    "        # test cycle    \n",
    "        total_loss = total_examples = 0\n",
    "        for data in test_loader:\n",
    "            data = data.to(device)\n",
    "            out = model(data.x, data.edge_index, data.edge_attr, data.batch)\n",
    "            loss = F.mse_loss(out, data.y)\n",
    "            total_loss += float(loss) * data.num_graphs\n",
    "            total_examples += data.num_graphs\n",
    "            test_rmse = sqrt(total_loss / total_examples)\n",
    "        test_loss.append(float(test_rmse))\n",
    "    # early_stopping needs the validation loss to check if it has decreased, \n",
    "    # and if it has, it will make a checkpoint of the current model\n",
    "    early_stopping(val_rmse, model)\n",
    "    \n",
    "    if early_stopping.early_stop:\n",
    "        print(\"Early stopping\")\n",
    "        break\n",
    "    \n",
    "    # reduce learning rate\n",
    "    scheduler.step(val_rmse)\n",
    "    \n",
    "    print(f'Epoch: {epoch:03d}, Loss: {train_rmse:.4f} Val: {val_rmse:.4f} '\n",
    "      f'Test: {test_rmse:.4f}')\n",
    "\n",
    "# load the last checkpoint with the best model\n",
    "model.load_state_dict(torch.load('checkpoint.pt'))\n",
    "        "
   ],
   "metadata": {
    "collapsed": false,
    "ExecuteTime": {
     "end_time": "2024-02-20T08:02:28.030001200Z",
     "start_time": "2024-02-20T08:00:25.973374200Z"
    }
   },
   "id": "88815be3113c1577"
  },
  {
   "cell_type": "markdown",
   "source": [],
   "metadata": {
    "collapsed": false
   },
   "id": "7c3804fb3a759621"
  },
  {
   "cell_type": "markdown",
   "source": [
    "### Model prediction and evaluation"
   ],
   "metadata": {
    "collapsed": false
   },
   "id": "9e591e0f5b061b75"
  },
  {
   "cell_type": "markdown",
   "source": [
    "we can inspect the trajectory of the model training by inspecting the learning curves. this is especially usefull to check whether there is any overfitting."
   ],
   "metadata": {
    "collapsed": false
   },
   "id": "a777b8723e7e2067"
  },
  {
   "cell_type": "code",
   "execution_count": 10,
   "outputs": [
    {
     "data": {
      "text/plain": "<Figure size 1000x800 with 1 Axes>",
      "image/png": "[encoded data removed]"
     },
     "metadata": {},
     "output_type": "display_data"
    }
   ],
   "source": [
    "# visualize the loss as the network trained\n",
    "fig = plt.figure(figsize=(10,8))\n",
    "plt.plot(range(1,len(train_loss)+1),train_loss, label='Training Loss')\n",
    "plt.plot(range(1,len(val_loss)+1),val_loss,label='Validation Loss')\n",
    "\n",
    "# find position of lowest validation loss\n",
    "minposs = val_loss.index(min(val_loss))+1 \n",
    "plt.axvline(minposs, linestyle='--', color='r',label='Early Stopping Checkpoint')\n",
    "\n",
    "plt.xlabel('epochs')\n",
    "plt.ylabel('loss')\n",
    "plt.ylim(0, ) # consistent scale\n",
    "plt.xlim(0, len(train_loss)+1) # consistent scale\n",
    "plt.grid(True)\n",
    "plt.legend()\n",
    "plt.tight_layout()\n",
    "plt.show()\n",
    "fig.savefig('loss_plot.png', bbox_inches='tight')"
   ],
   "metadata": {
    "collapsed": false,
    "ExecuteTime": {
     "end_time": "2024-02-20T08:02:28.585454700Z",
     "start_time": "2024-02-20T08:02:28.039749900Z"
    }
   },
   "id": "234df28c0e32a810"
  },
  {
   "cell_type": "markdown",
   "source": [
    "now that training has finished, we can make predictions and calculate the error metrics as well as perform visualizations"
   ],
   "metadata": {
    "collapsed": false
   },
   "id": "5db12c2d3b8b571e"
  },
  {
   "cell_type": "code",
   "execution_count": 11,
   "outputs": [],
   "source": [
    "# perform predictions\n",
    "with torch.no_grad():\n",
    "    counter = 0\n",
    "    # prediction on training data\n",
    "    for data in train_loader:\n",
    "        if counter == 0:\n",
    "            train_pred = model(data.x, data.edge_index, data.edge_attr, data.batch)  \n",
    "            train_target = data.y\n",
    "            counter += 1\n",
    "        else:\n",
    "           train_pred = torch.cat([train_pred, model(data.x, data.edge_index, data.edge_attr, data.batch)], dim=0)\n",
    "           train_target =torch.cat(train_target, data.y)\n",
    "    # prediction on validation data\n",
    "    counter = 0\n",
    "    for data in val_loader:\n",
    "        if counter == 0:\n",
    "            val_pred = model(data.x, data.edge_index, data.edge_attr, data.batch)  \n",
    "            val_target = data.y\n",
    "            counter += 1\n",
    "        else:\n",
    "           val_pred = torch.cat([val_pred, model(data.x, data.edge_index, data.edge_attr, data.batch)], dim=0)\n",
    "           val_target =torch.cat(val_target, data.y)\n",
    "    # prediction on test data\n",
    "    counter = 0\n",
    "    for data in test_loader:\n",
    "        if counter == 0:\n",
    "            test_pred = model(data.x, data.edge_index, data.edge_attr, data.batch)    \n",
    "            test_target = data.y\n",
    "            counter += 1\n",
    "        else:\n",
    "            test_pred = torch.cat([test_pred, model(data.x, data.edge_index, data.edge_attr, data.batch)], dim=0)    \n",
    "            test_target =torch.cat(test_target, data.y)\n",
    "# the predictions are rescaled  and converted into numpy arrays\n",
    "train_pred = (train_pred*sigma + mu).numpy()\n",
    "train_target = (train_target*sigma + mu).numpy()\n",
    "val_pred = (val_pred*sigma + mu).numpy()\n",
    "val_target = (val_target*sigma + mu).numpy()\n",
    "test_pred = (test_pred*sigma + mu).numpy()\n",
    "test_target = (test_target*sigma + mu).numpy()"
   ],
   "metadata": {
    "collapsed": false,
    "ExecuteTime": {
     "end_time": "2024-02-20T08:02:28.838820100Z",
     "start_time": "2024-02-20T08:02:28.585454700Z"
    }
   },
   "id": "8bbcb43cc90324d4"
  },
  {
   "cell_type": "markdown",
   "source": [
    "Various performance metrics can then be calculated"
   ],
   "metadata": {
    "collapsed": false
   },
   "id": "c65f6781f7219862"
  },
  {
   "cell_type": "code",
   "execution_count": 12,
   "outputs": [
    {
     "name": "stdout",
     "output_type": "stream",
     "text": [
      "The trained model achieved a training rmse of 0.13794557000835247, a validation rmse of 0.16506893970988026, and a test rmse of 0.166847043231587\n",
      "The trained model achieved a training mae of 0.10483476519584656, a validation mae of 0.11387008428573608, and a test mae of 0.12244278192520142\n",
      "The trained model achieved a training R2 of 0.913867252767634, a validation R2 of 0.9017323208533927, and a test R2 of 0.8781822159354057\n"
     ]
    }
   ],
   "source": [
    "# calculate R-squared values\n",
    "r2_train = r2_score(train_target, train_pred)\n",
    "r2_val = r2_score(val_target, val_pred)\n",
    "r2_test = r2_score(test_target, test_pred)\n",
    "\n",
    "# calculated mean absolute error\n",
    "mae_train = mean_absolute_error(train_target, train_pred)\n",
    "mae_val = mean_absolute_error(val_target, val_pred)\n",
    "mae_test = mean_absolute_error(test_target, test_pred)\n",
    "\n",
    "# calculate root mean squared error\n",
    "rmse_train = sqrt(mean_squared_error(train_target, train_pred))\n",
    "rmse_val = sqrt(mean_squared_error(val_target, val_pred))\n",
    "rmse_test = sqrt(mean_squared_error(test_target, test_pred))\n",
    "\n",
    "\n",
    "print(\"The trained model achieved a training rmse of {}, a validation rmse of {}, and a test rmse of {}\".format(rmse_train, rmse_val, rmse_test))\n",
    "print(\"The trained model achieved a training mae of {}, a validation mae of {}, and a test mae of {}\".format(mae_train, mae_val, mae_test))\n",
    "print(\"The trained model achieved a training R2 of {}, a validation R2 of {}, and a test R2 of {}\".format(r2_train, r2_val, r2_test))\n"
   ],
   "metadata": {
    "collapsed": false,
    "ExecuteTime": {
     "end_time": "2024-02-20T08:02:28.852229900Z",
     "start_time": "2024-02-20T08:02:28.838820100Z"
    }
   },
   "id": "dbfca98d56fd5c78"
  },
  {
   "cell_type": "markdown",
   "source": [
    "a parity plot is constructed to visualize the goodness of fit"
   ],
   "metadata": {
    "collapsed": false
   },
   "id": "d8b3e749176d7ad6"
  },
  {
   "cell_type": "code",
   "execution_count": 13,
   "outputs": [
    {
     "data": {
      "text/plain": "Text(0, 0.5, 'Predicted solubility')"
     },
     "execution_count": 13,
     "metadata": {},
     "output_type": "execute_result"
    },
    {
     "data": {
      "text/plain": "<Figure size 640x480 with 1 Axes>",
      "image/png": "[encoded data removed]"
     },
     "metadata": {},
     "output_type": "display_data"
    }
   ],
   "source": [
    "plt.plot(train_target, train_pred, \"r*\", label=\"train\")\n",
    "plt.plot(val_target, val_pred, \"b*\", label=\"val\")\n",
    "plt.plot(val_target, test_pred, \"g*\", label=\"test\")\n",
    "plt.plot([-0.5, 3],[-0.5, 3], \"k-\")\n",
    "plt.xlabel(\"Target solubility\")\n",
    "plt.ylabel(\"Predicted solubility\")"
   ],
   "metadata": {
    "collapsed": false,
    "ExecuteTime": {
     "end_time": "2024-02-20T08:02:29.150400500Z",
     "start_time": "2024-02-20T08:02:28.852229900Z"
    }
   },
   "id": "b0125511c9db8cb5"
  },
  {
   "cell_type": "markdown",
   "source": [
    "we can also plot the residuals"
   ],
   "metadata": {
    "collapsed": false
   },
   "id": "c1a65e947cb48b69"
  },
  {
   "cell_type": "code",
   "execution_count": 16,
   "outputs": [
    {
     "data": {
      "text/plain": "<Figure size 640x480 with 1 Axes>",
      "image/png": "[encoded data removed]"
     },
     "metadata": {},
     "output_type": "display_data"
    }
   ],
   "source": [
    "# calculate the residuals\n",
    "res_train = train_target-train_pred\n",
    "res_val = val_target-val_pred\n",
    "res_test = test_target-val_pred\n",
    "\n",
    "# plot distribution\n",
    "sns.kdeplot(res_train, color='red', label='train', fill=True)\n",
    "sns.kdeplot(res_val, color='blue', label='val', fill=True)\n",
    "sns.kdeplot(res_test, color='green', label='test', fill=True)\n",
    "\n",
    "# Add labels and title\n",
    "plt.xlabel('Solubility error')\n",
    "plt.ylabel('Density')\n",
    "plt.title('Residual plot')\n",
    "\n",
    "# Show legend\n",
    "plt.legend()\n",
    "\n",
    "# Show the plot\n",
    "plt.show()"
   ],
   "metadata": {
    "collapsed": false,
    "ExecuteTime": {
     "end_time": "2024-02-20T08:04:12.976454Z",
     "start_time": "2024-02-20T08:04:12.697416700Z"
    }
   },
   "id": "88e93be9f4f66f4e"
  },
  {
   "cell_type": "markdown",
   "source": [],
   "metadata": {
    "collapsed": false
   },
   "id": "a8511c552f1d027d"
  },
  {
   "cell_type": "markdown",
   "source": [
    "the obtained results are rather far from the SOTA obtained in studies such:\n",
    "* [Pushing the Boundaries of Molecular Representation for Drug Discovery with the Graph Attention Mechanism](https://pubs.acs.org/doi/10.1021/acs.jmedchem.9b00959)\n",
    "* [Combining Group-Contribution Concept and Graph Neural Networks Toward Interpretable Molecular Property Models](https://pubs.acs.org/doi/full/10.1021/acs.jcim.2c01091)\n",
    "\n",
    "\n",
    "This can be fixed by:\n",
    "* using early stopping\n",
    "* increasing the epoch number\n",
    "* using a reduced learning rate\n",
    "* changing the model hyperparameter"
   ],
   "metadata": {
    "collapsed": false
   },
   "id": "fb3ab0a87ec89679"
  },
  {
   "cell_type": "markdown",
   "source": [
    "### Acknowledgments"
   ],
   "metadata": {
    "collapsed": false
   },
   "id": "dd763114b55fa54a"
  },
  {
   "cell_type": "markdown",
   "source": [
    "the example is inspired by code available in the [PyG documentation](https://github.com/pyg-team/pytorch_geometric/blob/master/examples/attentive_fp.py)"
   ],
   "metadata": {
    "collapsed": false
   },
   "id": "ac07362a1e3af2cf"
  },
  {
   "cell_type": "code",
   "execution_count": 15,
   "outputs": [],
   "source": [
    "#TODO:\n",
    "# learning curves\n",
    "# reduced learning rate\n",
    "# early stopping\n",
    "# plot results"
   ],
   "metadata": {
    "collapsed": false,
    "ExecuteTime": {
     "end_time": "2024-02-20T08:02:29.522590800Z",
     "start_time": "2024-02-20T08:02:29.460349200Z"
    }
   },
   "id": "f5e82604058d6f9d"
  },
  {
   "cell_type": "code",
   "execution_count": 15,
   "outputs": [],
   "source": [],
   "metadata": {
    "collapsed": false,
    "ExecuteTime": {
     "end_time": "2024-02-20T08:02:29.522590800Z",
     "start_time": "2024-02-20T08:02:29.475738200Z"
    }
   },
   "id": "e7d592d39c0c0fe3"
  }
 ],
 "metadata": {
  "kernelspec": {
   "display_name": "Python 3",
   "language": "python",
   "name": "python3"
  },
  "language_info": {
   "codemirror_mode": {
    "name": "ipython",
    "version": 2
   },
   "file_extension": ".py",
   "mimetype": "text/x-python",
   "name": "python",
   "nbconvert_exporter": "python",
   "pygments_lexer": "ipython2",
   "version": "2.7.6"
  }
 },
 "nbformat": 4,
 "nbformat_minor": 5
}
