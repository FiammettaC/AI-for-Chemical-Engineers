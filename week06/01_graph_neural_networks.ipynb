{
 "cells": [
  {
   "cell_type": "markdown",
   "source": [
    "# Graph Neural Networks (GNNs)"
   ],
   "metadata": {
    "collapsed": false
   },
   "id": "b1a5e566e58ef9fb"
  },
  {
   "cell_type": "markdown",
   "source": [
    "### Importing libraries and getting started"
   ],
   "metadata": {
    "collapsed": false
   },
   "id": "95cff92aec28929c"
  },
  {
   "cell_type": "code",
   "execution_count": 1,
   "outputs": [],
   "source": [
    "%matplotlib inline\n",
    "try:\n",
    "    import torch\n",
    "    from torch_geometric.datasets import MoleculeNet\n",
    "    from torch_geometric.loader import DataLoader\n",
    "    from rdkit import Chem\n",
    "    from utils.graph import GenFeatures, seed_everything\n",
    "    from torch_geometric.nn.models import AttentiveFP\n",
    "    import torch.nn.functional as F\n",
    "    from math import sqrt\n",
    "    from sklearn.metrics import r2_score, mean_absolute_error\n",
    "    import matplotlib.pyplot as plt\n",
    "except ImportError:\n",
    "    !pip install torch\n",
    "    !pip install rdkit\n",
    "    !pip install torch_geometric\n",
    "    !pip install sklearn\n",
    "    !pip install matplotlib\n",
    "    "
   ],
   "metadata": {
    "collapsed": false,
    "ExecuteTime": {
     "end_time": "2024-02-19T18:00:03.672568600Z",
     "start_time": "2024-02-19T17:59:55.128434400Z"
    }
   },
   "id": "3594c8294d9c935b"
  },
  {
   "cell_type": "markdown",
   "source": [
    "Many datasets are available as open access, in this tutorial we work with the (ESOL - Estimated SOLubility) dataset by [Delaney 2014](https://pubs.acs.org/doi/10.1021/ci034243x). The data has been heavily used for benchmarking QSPRs (Quantitative Structure-Property Relations). All data are experimental and describe the logarithm of the solubility of organic compounds in water in mol/L."
   ],
   "metadata": {
    "collapsed": false
   },
   "id": "3a2b73be6d1f939d"
  },
  {
   "cell_type": "code",
   "execution_count": 2,
   "outputs": [
    {
     "name": "stdout",
     "output_type": "stream",
     "text": [
      "ESOL is a dataset of N=1128 measured solubility of organic compounds in water. The solubility is expressed in terms of logWs and the solubility is expressed in mol/L. The featurization process produces node and edge features of 39 atom features and 10 bond features\n"
     ]
    },
    {
     "name": "stderr",
     "output_type": "stream",
     "text": [
      "C:\\Users\\arnaou\\AppData\\Local\\miniconda3\\envs\\qspr\\lib\\site-packages\\torch_geometric\\data\\in_memory_dataset.py:284: UserWarning: It is not recommended to directly access the internal storage format `data` of an 'InMemoryDataset'. The given 'InMemoryDataset' only references a subset of examples of the full dataset, but 'data' will contain information of the full dataset. If you are absolutely certain what you are doing, access the internal storage via `InMemoryDataset._data` instead to suppress this warning. Alternatively, you can access stacked individual attributes of every graph via `dataset.{attr_name}`.\n",
      "  warnings.warn(msg)\n"
     ]
    }
   ],
   "source": [
    "# define path\n",
    "path = 'data/'\n",
    "#set seed for reproducibility\n",
    "seed_everything(42)\n",
    "\n",
    "# load the data\n",
    "dataset = MoleculeNet(path, name='ESOL', pre_transform=GenFeatures()).shuffle()\n",
    "\n",
    "print(\"ESOL is a dataset of N={} measured solubility of organic compounds in water. The solubility is expressed in terms of logWs and the solubility is expressed in mol/L. The featurization process produces node and edge features of {} atom features and {} bond features\".format(\n",
    "dataset.data.y.shape[0], dataset.data.x.shape[1], dataset.data.edge_attr.shape[1]))"
   ],
   "metadata": {
    "collapsed": false,
    "ExecuteTime": {
     "end_time": "2024-02-19T18:00:03.750952700Z",
     "start_time": "2024-02-19T18:00:03.672568600Z"
    }
   },
   "id": "6d68782ae3cf05ea"
  },
  {
   "cell_type": "markdown",
   "source": [
    "### Graph Neural Networks - intuitive approach for QSPR modelling"
   ],
   "metadata": {
    "collapsed": false
   },
   "id": "aa27f41582e03bcb"
  },
  {
   "cell_type": "markdown",
   "source": [
    "Formally, a graph *G(v,e)* is composed of a set of vertices/nodes *v* linked with a set of edges *e*. This is very much in resemblance with how molecules are depicted using the ball-and-stick representation as seen below for the caffeine molecule (figure courtesy of [Adem R.N. Aouichaoui](https://github.com/arnaou/arnaou)).\n",
    "\n",
    "![Molecular graphs](img/graph_mol.png)"
   ],
   "metadata": {
    "collapsed": false
   },
   "id": "3ebed781dcd11857"
  },
  {
   "cell_type": "markdown",
   "source": [
    "A graph neural network (GNN) is a special type of neural network that operates on graph data. GNNs can be used for node prediction, edge prediction and graph prediction. For the purpose of this tutorial, we only consider graph-level prediction e.i. predict something related to the graph as whole, in this case, the property.\n",
    "\n",
    "The GNN operates on a graph through what is called the \"*message-passing framework*\". This framework consists of three main operations:\n",
    "* Message construction: neighbouring nodes/edges combine their hidden representation to produce a message\n",
    "* Node/edge update: the message is then used to update the hidden representation of the node/edge\n",
    "* Graph-to-vector transformation: after sufficient iterations of the above-mentioned steps, the graph representation is converted into a vector representation. This operation is also known as the readout.\n",
    "\n",
    "The output of the readout is used as input to a feedforward neural network also known as multi-layer perceptron - MLP.\n",
    "\n",
    "The process is illustrated below (figure courtesy of [Adem R.N. Aouichaoui](https://github.com/arnaou/arnaou)).\n",
    "\n",
    "![GNN framework](img/gnn_framework.png)\n"
   ],
   "metadata": {
    "collapsed": false
   },
   "id": "f3a48a17872be8b2"
  },
  {
   "cell_type": "markdown",
   "source": [
    "the hidden features of the nodes and edges reflect the molecular structural information, which are necessary for the given application (molecular property prediction). As mentioned earlier, 39 atom features and 10 bond features were used. These were selected in accordance to previous studies:\n",
    "* [Pushing the Boundaries of Molecular Representation for Drug Discovery with the Graph Attention Mechanism](https://pubs.acs.org/doi/10.1021/acs.jmedchem.9b00959)\n",
    "* [Combining Group-Contribution Concept and Graph Neural Networks Toward Interpretable Molecular Property Models](https://pubs.acs.org/doi/full/10.1021/acs.jcim.2c01091)\n",
    "* [Application of interpretable group-embedded graph neural networks for pure compound properties](https://www.sciencedirect.com/science/article/pii/S0098135423001618)\n",
    "\n",
    "These features are summarized below:\n",
    "\n",
    "| **atom feature**  \t| **size** \t| **description**                                                       \t|\n",
    "|-------------------\t|----------\t|-----------------------------------------------------------------------\t|\n",
    "| atom type         \t| 16       \t| [B, C, N, O, F, Si, P, S, Cl, As, Se, Br, Te, I, At, metal] (one-hot) \t|\n",
    "| degree            \t| 6        \t| number of covalent bonds [0,1,2,3,4,5] (one-hot)                      \t|\n",
    "| formal charge     \t| 1        \t| electrical charge (integer)                                           \t|\n",
    "| radical electrons \t| 1        \t| number of radical electrons (integer)                                 \t|\n",
    "| hybridization     \t| 6        \t| [sp, sp2, sp3, sp3d, sp3d2, other] (one-hot)                          \t|\n",
    "| aromaticity       \t| 1        \t| whether the atom is part of an aromatic system [0/1] (one-hot)        \t|\n",
    "| hydrogens         \t| 5        \t| number of connected hydrogens [0,1,2,3,4] (one-hot)                   \t|\n",
    "| chirality         \t| 1        \t| whether the atom is chiral center [0/1] (one-hot)                     \t|\n",
    "| chirality type    \t| 2        \t| [R, S] (one-hot)                                                      \t|\n",
    "\n",
    "\n",
    "| **bond feature**  \t| **size** \t| **description**                                                       \t|\n",
    "|-------------------\t|----------\t|-----------------------------------------------------------------------\t|\n",
    "| bond type         \t| 4        \t| [single, double, triple, aromatic] (one-hot)                          \t|\n",
    "| conjugation       \t| 1        \t| whether the bond is conjugated [0/1] (one-hot)                        \t|\n",
    "| ring              \t| 1        \t| whether the bond is in ring [0/1] (one-hot)                           \t|\n",
    "| stereo            \t| 4        \t| [StereoNone, StereoAny, StereoZ, StereoE] (one-hot)                   \t|\n"
   ],
   "metadata": {
    "collapsed": false
   },
   "id": "dd890623a75b7183"
  },
  {
   "cell_type": "markdown",
   "source": [
    "### Preprocessing"
   ],
   "metadata": {
    "collapsed": false
   },
   "id": "18205d02545cd434"
  },
  {
   "cell_type": "markdown",
   "source": [
    "The data are split into three folds for: i) training, ii) validation and iii) testing.\n",
    "\n",
    "The ratios chosen here are arbitrary and the split is (in principle) random (see the shuffle command when loading the data)"
   ],
   "metadata": {
    "collapsed": false
   },
   "id": "8798e00b6852e4ef"
  },
  {
   "cell_type": "code",
   "execution_count": 3,
   "outputs": [],
   "source": [
    "N = len(dataset) // 20\n",
    "val_dataset = dataset[:N]\n",
    "test_dataset = dataset[N:2 * N]\n",
    "train_dataset = dataset[2 * N:]"
   ],
   "metadata": {
    "collapsed": false,
    "ExecuteTime": {
     "end_time": "2024-02-19T18:00:03.766585900Z",
     "start_time": "2024-02-19T18:00:03.750952700Z"
    }
   },
   "id": "5824a27f2ae60144"
  },
  {
   "cell_type": "markdown",
   "source": [
    "The outputs are scaled using z-score scaling"
   ],
   "metadata": {
    "collapsed": false
   },
   "id": "fd9dffabac4e39c3"
  },
  {
   "cell_type": "code",
   "execution_count": 4,
   "outputs": [],
   "source": [
    "# calculate scaling parameters\n",
    "mu = train_dataset.data.y.mean()\n",
    "sigma = train_dataset.data.y.std()\n",
    "\n",
    "# scale the data\n",
    "train_dataset.data.y = (train_dataset.data.y-mu)/sigma\n",
    "val_dataset.data.y = (val_dataset.data.y-mu)/sigma\n",
    "test_dataset.data.y = (test_dataset.data.y-mu)/sigma"
   ],
   "metadata": {
    "collapsed": false,
    "ExecuteTime": {
     "end_time": "2024-02-19T18:00:03.845129200Z",
     "start_time": "2024-02-19T18:00:03.766585900Z"
    }
   },
   "id": "e253a9e081ae1c8"
  },
  {
   "cell_type": "markdown",
   "source": [
    "We use the dataloaders to pack the data and make the iterable for the training and batching. The batch size is set to the size of the dataset in order to obtain the true gradient"
   ],
   "metadata": {
    "collapsed": false
   },
   "id": "aa2d1e239e6b123e"
  },
  {
   "cell_type": "code",
   "execution_count": 5,
   "outputs": [],
   "source": [
    "# implement dataloader for the data\n",
    "train_loader = DataLoader(train_dataset, batch_size=train_dataset.data.y.shape[0], shuffle=False)\n",
    "val_loader = DataLoader(val_dataset, batch_size=val_dataset.data.y.shape[0])\n",
    "test_loader = DataLoader(test_dataset, batch_size=test_dataset.data.y.shape[0])"
   ],
   "metadata": {
    "collapsed": false,
    "ExecuteTime": {
     "end_time": "2024-02-19T18:00:03.860753400Z",
     "start_time": "2024-02-19T18:00:03.782198600Z"
    }
   },
   "id": "36bd7685ef970380"
  },
  {
   "cell_type": "markdown",
   "source": [
    "The training can be GPU enabled as follows"
   ],
   "metadata": {
    "collapsed": false
   },
   "id": "6bca5a6712925d47"
  },
  {
   "cell_type": "code",
   "execution_count": 6,
   "outputs": [],
   "source": [
    "device = torch.device('cuda' if torch.cuda.is_available() else 'cpu')"
   ],
   "metadata": {
    "collapsed": false,
    "ExecuteTime": {
     "end_time": "2024-02-19T18:00:03.860753400Z",
     "start_time": "2024-02-19T18:00:03.797824400Z"
    }
   },
   "id": "7f21963201eb852a"
  },
  {
   "cell_type": "markdown",
   "source": [
    "### Model definition and model training"
   ],
   "metadata": {
    "collapsed": false
   },
   "id": "470c55fc01a24430"
  },
  {
   "cell_type": "markdown",
   "source": [
    "In this tutorial, we will train the *attentiveFP* developed by [Xiong et al. 2021](https://pubs.acs.org/doi/10.1021/acs.jmedchem.9b00959). More details can be found the provided reference or at the [PyG documentation](https://pytorch-geometric.readthedocs.io/en/latest/_modules/torch_geometric/nn/models/attentive_fp.html)"
   ],
   "metadata": {
    "collapsed": false
   },
   "id": "4906dc6b9bbf6eb3"
  },
  {
   "cell_type": "code",
   "execution_count": 7,
   "outputs": [],
   "source": [
    "# defining model\n",
    "model = AttentiveFP(in_channels=dataset.data.x.shape[1], hidden_channels=200, out_channels=dataset.data.y.shape[1],\n",
    "                    edge_dim=dataset.data.edge_attr.shape[1], num_layers=2, num_timesteps=2,\n",
    "                    dropout=0.2).to(device)"
   ],
   "metadata": {
    "collapsed": false,
    "ExecuteTime": {
     "end_time": "2024-02-19T18:00:03.860753400Z",
     "start_time": "2024-02-19T18:00:03.813966900Z"
    }
   },
   "id": "abe32eed07a61061"
  },
  {
   "cell_type": "markdown",
   "source": [
    "We then set up the training"
   ],
   "metadata": {
    "collapsed": false
   },
   "id": "34c24bc514bcce2e"
  },
  {
   "cell_type": "code",
   "execution_count": 8,
   "outputs": [
    {
     "name": "stdout",
     "output_type": "stream",
     "text": [
      "Epoch: 001, Loss: 2.2102 Val: 1.6391 Test: 1.1094\n",
      "Epoch: 002, Loss: 1.2549 Val: 1.1052 Test: 0.9254\n",
      "Epoch: 003, Loss: 1.0478 Val: 0.7667 Test: 0.6432\n",
      "Epoch: 004, Loss: 0.7212 Val: 0.6678 Test: 0.6258\n",
      "Epoch: 005, Loss: 0.6304 Val: 0.3372 Test: 0.3376\n",
      "Epoch: 006, Loss: 0.3201 Val: 0.4803 Test: 0.4767\n",
      "Epoch: 007, Loss: 0.4776 Val: 0.3641 Test: 0.3838\n",
      "Epoch: 008, Loss: 0.3431 Val: 0.4006 Test: 0.3839\n",
      "Epoch: 009, Loss: 0.3883 Val: 0.4466 Test: 0.3670\n",
      "Epoch: 010, Loss: 0.3867 Val: 0.3175 Test: 0.2699\n",
      "Epoch: 011, Loss: 0.2810 Val: 0.2957 Test: 0.3094\n",
      "Epoch: 012, Loss: 0.2892 Val: 0.3285 Test: 0.3664\n",
      "Epoch: 013, Loss: 0.3307 Val: 0.3229 Test: 0.2904\n",
      "Epoch: 014, Loss: 0.3069 Val: 0.2840 Test: 0.2843\n",
      "Epoch: 015, Loss: 0.2645 Val: 0.3278 Test: 0.2491\n",
      "Epoch: 016, Loss: 0.2522 Val: 0.3593 Test: 0.2843\n",
      "Epoch: 017, Loss: 0.2861 Val: 0.3028 Test: 0.2805\n",
      "Epoch: 018, Loss: 0.2898 Val: 0.3036 Test: 0.2723\n",
      "Epoch: 019, Loss: 0.2732 Val: 0.2612 Test: 0.2660\n",
      "Epoch: 020, Loss: 0.2531 Val: 0.2886 Test: 0.2673\n",
      "Epoch: 021, Loss: 0.2629 Val: 0.2565 Test: 0.2500\n",
      "Epoch: 022, Loss: 0.2609 Val: 0.2655 Test: 0.2624\n",
      "Epoch: 023, Loss: 0.2693 Val: 0.2642 Test: 0.2419\n",
      "Epoch: 024, Loss: 0.2638 Val: 0.2331 Test: 0.2290\n",
      "Epoch: 025, Loss: 0.2560 Val: 0.2572 Test: 0.2647\n",
      "Epoch: 026, Loss: 0.2482 Val: 0.2914 Test: 0.2515\n",
      "Epoch: 027, Loss: 0.2516 Val: 0.2759 Test: 0.2399\n",
      "Epoch: 028, Loss: 0.2594 Val: 0.2968 Test: 0.2510\n",
      "Epoch: 029, Loss: 0.2546 Val: 0.2727 Test: 0.2245\n",
      "Epoch: 030, Loss: 0.2460 Val: 0.2705 Test: 0.2615\n",
      "Epoch: 031, Loss: 0.2465 Val: 0.2272 Test: 0.2698\n",
      "Epoch: 032, Loss: 0.2412 Val: 0.2753 Test: 0.2730\n",
      "Epoch: 033, Loss: 0.2442 Val: 0.2779 Test: 0.2220\n",
      "Epoch: 034, Loss: 0.2521 Val: 0.2531 Test: 0.2386\n",
      "Epoch: 035, Loss: 0.2436 Val: 0.2605 Test: 0.2645\n",
      "Epoch: 036, Loss: 0.2392 Val: 0.2260 Test: 0.2178\n",
      "Epoch: 037, Loss: 0.2443 Val: 0.2277 Test: 0.2427\n",
      "Epoch: 038, Loss: 0.2448 Val: 0.2497 Test: 0.2110\n",
      "Epoch: 039, Loss: 0.2419 Val: 0.2658 Test: 0.2546\n",
      "Epoch: 040, Loss: 0.2406 Val: 0.2856 Test: 0.1993\n",
      "Epoch: 041, Loss: 0.2313 Val: 0.2861 Test: 0.2227\n",
      "Epoch: 042, Loss: 0.2383 Val: 0.2586 Test: 0.2373\n",
      "Epoch: 043, Loss: 0.2397 Val: 0.2783 Test: 0.2281\n",
      "Epoch: 044, Loss: 0.2334 Val: 0.2471 Test: 0.2440\n",
      "Epoch: 045, Loss: 0.2321 Val: 0.2846 Test: 0.2621\n",
      "Epoch: 046, Loss: 0.2312 Val: 0.2657 Test: 0.2266\n",
      "Epoch: 047, Loss: 0.2316 Val: 0.2413 Test: 0.1961\n",
      "Epoch: 048, Loss: 0.2295 Val: 0.2291 Test: 0.2329\n",
      "Epoch: 049, Loss: 0.2318 Val: 0.2620 Test: 0.2049\n",
      "Epoch: 050, Loss: 0.2211 Val: 0.2196 Test: 0.2296\n",
      "Epoch: 051, Loss: 0.2180 Val: 0.2540 Test: 0.2176\n",
      "Epoch: 052, Loss: 0.2221 Val: 0.2415 Test: 0.2494\n",
      "Epoch: 053, Loss: 0.2207 Val: 0.2671 Test: 0.2042\n",
      "Epoch: 054, Loss: 0.2085 Val: 0.2068 Test: 0.2453\n",
      "Epoch: 055, Loss: 0.2171 Val: 0.2050 Test: 0.2106\n",
      "Epoch: 056, Loss: 0.2113 Val: 0.2360 Test: 0.1996\n",
      "Epoch: 057, Loss: 0.2098 Val: 0.2300 Test: 0.2014\n",
      "Epoch: 058, Loss: 0.2121 Val: 0.2103 Test: 0.2109\n",
      "Epoch: 059, Loss: 0.2075 Val: 0.2063 Test: 0.2329\n",
      "Epoch: 060, Loss: 0.2155 Val: 0.2686 Test: 0.1879\n",
      "Epoch: 061, Loss: 0.1996 Val: 0.2257 Test: 0.1889\n",
      "Epoch: 062, Loss: 0.2096 Val: 0.1938 Test: 0.2009\n",
      "Epoch: 063, Loss: 0.2051 Val: 0.2095 Test: 0.1933\n",
      "Epoch: 064, Loss: 0.2049 Val: 0.2183 Test: 0.2106\n",
      "Epoch: 065, Loss: 0.1989 Val: 0.2032 Test: 0.1847\n",
      "Epoch: 066, Loss: 0.2075 Val: 0.2158 Test: 0.1691\n",
      "Epoch: 067, Loss: 0.2024 Val: 0.2059 Test: 0.2095\n",
      "Epoch: 068, Loss: 0.2029 Val: 0.2171 Test: 0.2066\n",
      "Epoch: 069, Loss: 0.2017 Val: 0.1872 Test: 0.2073\n",
      "Epoch: 070, Loss: 0.2004 Val: 0.2079 Test: 0.1898\n",
      "Epoch: 071, Loss: 0.1961 Val: 0.2068 Test: 0.1684\n",
      "Epoch: 072, Loss: 0.1896 Val: 0.1872 Test: 0.2080\n",
      "Epoch: 073, Loss: 0.1910 Val: 0.2013 Test: 0.1815\n",
      "Epoch: 074, Loss: 0.1969 Val: 0.1714 Test: 0.1766\n",
      "Epoch: 075, Loss: 0.1984 Val: 0.1959 Test: 0.1853\n",
      "Epoch: 076, Loss: 0.1891 Val: 0.1835 Test: 0.1960\n",
      "Epoch: 077, Loss: 0.1872 Val: 0.2063 Test: 0.1553\n",
      "Epoch: 078, Loss: 0.1891 Val: 0.2092 Test: 0.1996\n",
      "Epoch: 079, Loss: 0.1900 Val: 0.1920 Test: 0.1791\n",
      "Epoch: 080, Loss: 0.1839 Val: 0.1907 Test: 0.1614\n",
      "Epoch: 081, Loss: 0.1871 Val: 0.2169 Test: 0.1736\n",
      "Epoch: 082, Loss: 0.1877 Val: 0.2096 Test: 0.1731\n",
      "Epoch: 083, Loss: 0.1805 Val: 0.1874 Test: 0.1935\n",
      "Epoch: 084, Loss: 0.1828 Val: 0.2106 Test: 0.1965\n",
      "Epoch: 085, Loss: 0.1864 Val: 0.1666 Test: 0.1595\n",
      "Epoch: 086, Loss: 0.1835 Val: 0.1636 Test: 0.1868\n",
      "Epoch: 087, Loss: 0.1743 Val: 0.1935 Test: 0.1378\n",
      "Epoch: 088, Loss: 0.1705 Val: 0.2073 Test: 0.1785\n",
      "Epoch: 089, Loss: 0.1690 Val: 0.1709 Test: 0.1724\n",
      "Epoch: 090, Loss: 0.1707 Val: 0.1757 Test: 0.1541\n",
      "Epoch: 091, Loss: 0.1813 Val: 0.1922 Test: 0.1914\n",
      "Epoch: 092, Loss: 0.1779 Val: 0.1713 Test: 0.1541\n",
      "Epoch: 093, Loss: 0.1693 Val: 0.1599 Test: 0.2038\n",
      "Epoch: 094, Loss: 0.1743 Val: 0.1730 Test: 0.1958\n",
      "Epoch: 095, Loss: 0.1762 Val: 0.1445 Test: 0.1695\n",
      "Epoch: 096, Loss: 0.1716 Val: 0.1788 Test: 0.1608\n",
      "Epoch: 097, Loss: 0.1699 Val: 0.1683 Test: 0.1725\n",
      "Epoch: 098, Loss: 0.1771 Val: 0.1908 Test: 0.1703\n",
      "Epoch: 099, Loss: 0.1781 Val: 0.1736 Test: 0.1669\n"
     ]
    }
   ],
   "source": [
    "# define the optimizers\n",
    "optimizer = torch.optim.Adam(model.parameters(), lr=10**-2.5,\n",
    "                             weight_decay=10**-5)\n",
    "\n",
    "\n",
    "# define the no_epochs\n",
    "no_epochs = 100\n",
    "\n",
    "# initialize list for the errors\n",
    "train_loss = []\n",
    "test_loss = []\n",
    "val_loss = []\n",
    "\n",
    "# train loop\n",
    "for epoch in range(1, no_epochs):\n",
    "    total_loss = total_examples = 0\n",
    "    # train cycle\n",
    "    for data in train_loader:\n",
    "        data = data.to(device)\n",
    "        optimizer.zero_grad()\n",
    "        out = model(data.x, data.edge_index, data.edge_attr, data.batch)\n",
    "        loss= F.mse_loss(out, data.y)\n",
    "        loss.backward()\n",
    "        optimizer.step()\n",
    "        total_loss += float(loss) * data.num_graphs\n",
    "        total_examples += data.num_graphs\n",
    "        train_rmse = sqrt(total_loss / total_examples)\n",
    "        \n",
    "    with torch.no_grad():\n",
    "        # validation cycle\n",
    "        total_loss = total_examples = 0\n",
    "        for data in val_loader:\n",
    "            data = data.to(device)\n",
    "            out = model(data.x, data.edge_index, data.edge_attr, data.batch)\n",
    "            loss = F.mse_loss(out, data.y)\n",
    "            total_loss += float(loss) * data.num_graphs\n",
    "            total_examples += data.num_graphs\n",
    "            val_rmse = sqrt(total_loss / total_examples)\n",
    "        # test cycle    \n",
    "        total_loss = total_examples = 0\n",
    "        for data in test_loader:\n",
    "            data = data.to(device)\n",
    "            out = model(data.x, data.edge_index, data.edge_attr, data.batch)\n",
    "            loss = F.mse_loss(out, data.y)\n",
    "            total_loss += float(loss) * data.num_graphs\n",
    "            total_examples += data.num_graphs\n",
    "            test_rmse = sqrt(total_loss / total_examples)\n",
    "    \n",
    "    print(f'Epoch: {epoch:03d}, Loss: {train_rmse:.4f} Val: {val_rmse:.4f} '\n",
    "      f'Test: {test_rmse:.4f}')\n",
    "        "
   ],
   "metadata": {
    "collapsed": false,
    "ExecuteTime": {
     "end_time": "2024-02-19T18:01:45.420280900Z",
     "start_time": "2024-02-19T18:00:03.845129200Z"
    }
   },
   "id": "88815be3113c1577"
  },
  {
   "cell_type": "markdown",
   "source": [],
   "metadata": {
    "collapsed": false
   },
   "id": "7c3804fb3a759621"
  },
  {
   "cell_type": "markdown",
   "source": [
    "### Model prediction and evaluation"
   ],
   "metadata": {
    "collapsed": false
   },
   "id": "9e591e0f5b061b75"
  },
  {
   "cell_type": "markdown",
   "source": [
    "now that training has finished, we can make predictions and calculate the error metrics as well as perform visualizations"
   ],
   "metadata": {
    "collapsed": false
   },
   "id": "5db12c2d3b8b571e"
  },
  {
   "cell_type": "code",
   "execution_count": 23,
   "outputs": [],
   "source": [
    "# perform predictions\n",
    "with torch.no_grad():\n",
    "    counter = 0\n",
    "    # prediction on training data\n",
    "    for data in train_loader:\n",
    "        if counter == 0:\n",
    "            train_pred = model(data.x, data.edge_index, data.edge_attr, data.batch)  \n",
    "            train_target = data.y\n",
    "            counter += 1\n",
    "        else:\n",
    "           train_pred = torch.cat([train_pred, model(data.x, data.edge_index, data.edge_attr, data.batch)], dim=0)\n",
    "           train_target =torch.cat(train_target, data.y)\n",
    "    # prediction on validation data\n",
    "    counter = 0\n",
    "    for data in val_loader:\n",
    "        if counter == 0:\n",
    "            val_pred = model(data.x, data.edge_index, data.edge_attr, data.batch)  \n",
    "            val_target = data.y\n",
    "            counter += 1\n",
    "        else:\n",
    "           val_pred = torch.cat([val_pred, model(data.x, data.edge_index, data.edge_attr, data.batch)], dim=0)\n",
    "           val_target =torch.cat(val_target, data.y)\n",
    "    # prediction on test data\n",
    "    counter = 0\n",
    "    for data in test_loader:\n",
    "        if counter == 0:\n",
    "            test_pred = model(data.x, data.edge_index, data.edge_attr, data.batch)    \n",
    "            test_target = data.y\n",
    "            counter += 1\n",
    "        else:\n",
    "            test_pred = torch.cat([test_pred, model(data.x, data.edge_index, data.edge_attr, data.batch)], dim=0)    \n",
    "            test_target =torch.cat(test_target, data.y)\n",
    "# the predictions are rescaled  and converted into numpy arrays\n",
    "train_pred = (train_pred*sigma + mu).numpy()\n",
    "train_target = (train_target*sigma + mu).numpy()\n",
    "val_pred = (val_pred*sigma + mu).numpy()\n",
    "val_target = (val_target*sigma + mu).numpy()\n",
    "test_pred = (test_pred*sigma + mu).numpy()\n",
    "test_target = (test_target*sigma + mu).numpy()"
   ],
   "metadata": {
    "collapsed": false,
    "ExecuteTime": {
     "end_time": "2024-02-19T18:09:53.401948900Z",
     "start_time": "2024-02-19T18:09:52.798973600Z"
    }
   },
   "id": "8bbcb43cc90324d4"
  },
  {
   "cell_type": "markdown",
   "source": [
    "Various performance metrics can then be calculated"
   ],
   "metadata": {
    "collapsed": false
   },
   "id": "c65f6781f7219862"
  },
  {
   "cell_type": "code",
   "execution_count": 32,
   "outputs": [
    {
     "name": "stdout",
     "output_type": "stream",
     "text": [
      "The trained model achieved a training mae of 0.28263843059539795, a validation mae of 0.24059391021728516, and a test mae of 0.2491096705198288\n",
      "The trained model achieved a training R2 of 0.44972812275957885, a validation R2 of 0.671206439966249, and a test R2 of 0.4971688095351491\n"
     ]
    }
   ],
   "source": [
    "# calculate R-squared values\n",
    "r2_train = r2_score(train_target, train_pred)\n",
    "r2_val = r2_score(val_target, val_pred)\n",
    "r2_test = r2_score(test_target, test_pred)\n",
    "\n",
    "# calculated mean absolute error\n",
    "mae_train = mean_absolute_error(train_target, train_pred)\n",
    "mae_val = mean_absolute_error(val_target, val_pred)\n",
    "mae_test = mean_absolute_error(test_target, test_pred)\n",
    "\n",
    "\n",
    "\n",
    "print(\"The trained model achieved a training mae of {}, a validation mae of {}, and a test mae of {}\".format(mae_train, mae_val, mae_test))\n",
    "print(\"The trained model achieved a training R2 of {}, a validation R2 of {}, and a test R2 of {}\".format(r2_train, r2_val, r2_test))"
   ],
   "metadata": {
    "collapsed": false,
    "ExecuteTime": {
     "end_time": "2024-02-19T18:13:21.092795200Z",
     "start_time": "2024-02-19T18:13:21.077184100Z"
    }
   },
   "id": "dbfca98d56fd5c78"
  },
  {
   "cell_type": "markdown",
   "source": [
    "a parity plot is constructed to visualize the goodness of fit"
   ],
   "metadata": {
    "collapsed": false
   },
   "id": "d8b3e749176d7ad6"
  },
  {
   "cell_type": "code",
   "execution_count": 36,
   "outputs": [
    {
     "data": {
      "text/plain": "Text(0, 0.5, 'Predicted solubility')"
     },
     "execution_count": 36,
     "metadata": {},
     "output_type": "execute_result"
    },
    {
     "data": {
      "text/plain": "<Figure size 640x480 with 1 Axes>",
      "image/png": "[encoded data removed]"
     },
     "metadata": {},
     "output_type": "display_data"
    }
   ],
   "source": [
    "plt.plot(train_target, train_pred, \"r*\", label=\"train\")\n",
    "plt.plot(val_target, val_pred, \"b*\", label=\"val\")\n",
    "plt.plot(val_target, test_pred, \"g*\", label=\"test\")\n",
    "plt.plot([-0.5, 3],[-0.5, 3], \"k-\")\n",
    "plt.xlabel(\"Target solubility\")\n",
    "plt.ylabel(\"Predicted solubility\")"
   ],
   "metadata": {
    "collapsed": false,
    "ExecuteTime": {
     "end_time": "2024-02-19T18:19:29.987106500Z",
     "start_time": "2024-02-19T18:19:29.682326Z"
    }
   },
   "id": "b0125511c9db8cb5"
  },
  {
   "cell_type": "markdown",
   "source": [
    "the obtained results are rather far from the SOTA obtained in studies such:\n",
    "* [Pushing the Boundaries of Molecular Representation for Drug Discovery with the Graph Attention Mechanism](https://pubs.acs.org/doi/10.1021/acs.jmedchem.9b00959)\n",
    "* [Combining Group-Contribution Concept and Graph Neural Networks Toward Interpretable Molecular Property Models](https://pubs.acs.org/doi/full/10.1021/acs.jcim.2c01091)\n",
    "\n",
    "\n",
    "This can be fixed by:\n",
    "* using early stopping\n",
    "* increasing the epoch number\n",
    "* using a reduced learning rate\n",
    "* changing the model hyperparameter"
   ],
   "metadata": {
    "collapsed": false
   },
   "id": "fb3ab0a87ec89679"
  },
  {
   "cell_type": "markdown",
   "source": [
    "### Acknowledgments"
   ],
   "metadata": {
    "collapsed": false
   },
   "id": "dd763114b55fa54a"
  },
  {
   "cell_type": "markdown",
   "source": [
    "the example is inspired by code available in the [PyG documentation](https://github.com/pyg-team/pytorch_geometric/blob/master/examples/attentive_fp.py)"
   ],
   "metadata": {
    "collapsed": false
   },
   "id": "ac07362a1e3af2cf"
  },
  {
   "cell_type": "code",
   "execution_count": 37,
   "outputs": [],
   "source": [
    "#TODO:\n",
    "# learning curves\n",
    "# reduced learning rate\n",
    "# early stopping\n",
    "# plot results"
   ],
   "metadata": {
    "collapsed": false,
    "ExecuteTime": {
     "end_time": "2024-02-19T18:23:39.944619Z",
     "start_time": "2024-02-19T18:23:39.897293900Z"
    }
   },
   "id": "f5e82604058d6f9d"
  },
  {
   "cell_type": "code",
   "execution_count": null,
   "outputs": [],
   "source": [],
   "metadata": {
    "collapsed": false
   },
   "id": "e7d592d39c0c0fe3"
  }
 ],
 "metadata": {
  "kernelspec": {
   "display_name": "Python 3",
   "language": "python",
   "name": "python3"
  },
  "language_info": {
   "codemirror_mode": {
    "name": "ipython",
    "version": 2
   },
   "file_extension": ".py",
   "mimetype": "text/x-python",
   "name": "python",
   "nbconvert_exporter": "python",
   "pygments_lexer": "ipython2",
   "version": "2.7.6"
  }
 },
 "nbformat": 4,
 "nbformat_minor": 5
}
