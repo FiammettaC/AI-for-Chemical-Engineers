{
 "cells": [
  {
   "cell_type": "markdown",
   "id": "359494bf-1ec3-4adf-a008-0d2a16662116",
   "metadata": {},
   "source": [
    "# Classification exercise\n",
    "\n",
    "This exercise is completely open, so apply some of the techniques you have learned on a new dataset!\n",
    "\n",
    "Some inspiration:\n",
    "Please download the Blood Cells Image Dataset from [here](https://www.kaggle.com/datasets/unclesamulus/blood-cells-image-dataset) and do some image analysis and classification of blood cells to test your learnings!"
   ]
  },
  {
   "cell_type": "code",
   "execution_count": 1,
   "id": "58437e64-0c34-4130-9a2b-46d7f0c35caa",
   "metadata": {},
   "outputs": [],
   "source": [
    "# Your code here"
   ]
  },
  {
   "cell_type": "markdown",
   "id": "5c81c586-7481-4290-8ba9-f07f1438b68b",
   "metadata": {},
   "source": [
    "If you want some feedback on your work, feel free to open a pull request or contact me at fiacac@kt.dtu.dk."
   ]
  }
 ],
 "metadata": {
  "kernelspec": {
   "display_name": "Python 3 (ipykernel)",
   "language": "python",
   "name": "python3"
  },
  "language_info": {
   "codemirror_mode": {
    "name": "ipython",
    "version": 3
   },
   "file_extension": ".py",
   "mimetype": "text/x-python",
   "name": "python",
   "nbconvert_exporter": "python",
   "pygments_lexer": "ipython3",
   "version": "3.9.7"
  }
 },
 "nbformat": 4,
 "nbformat_minor": 5
}
